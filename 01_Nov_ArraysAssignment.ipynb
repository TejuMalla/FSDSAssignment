{
  "nbformat": 4,
  "nbformat_minor": 0,
  "metadata": {
    "colab": {
      "provenance": []
    },
    "kernelspec": {
      "name": "python3",
      "display_name": "Python 3"
    },
    "language_info": {
      "name": "python"
    }
  },
  "cells": [
    {
      "cell_type": "markdown",
      "source": [
        "1. Given an array, check if it contains any duplicates or not."
      ],
      "metadata": {
        "id": "45InAP1Om63T"
      }
    },
    {
      "cell_type": "code",
      "execution_count": 10,
      "metadata": {
        "id": "sUQW-lm1mlCR"
      },
      "outputs": [],
      "source": [
        "arr = [1, 2, 4, 2, 5, 9]"
      ]
    },
    {
      "cell_type": "code",
      "source": [
        "def check_duplicates(arr):\n",
        "\n",
        "  duplicates = False\n",
        "\n",
        "  for i in range(len(arr)):\n",
        "\n",
        "    if arr.count(arr[i]) >= 2:\n",
        "\n",
        "      duplicates = True\n",
        "\n",
        "      break\n",
        "\n",
        "    else:\n",
        "\n",
        "      duplicates = False\n",
        "\n",
        "  if duplicates:\n",
        "\n",
        "    return True\n",
        "\n",
        "  else:\n",
        "\n",
        "    return False\n",
        "\n"
      ],
      "metadata": {
        "id": "Pdn6DqDRm-f6"
      },
      "execution_count": 15,
      "outputs": []
    },
    {
      "cell_type": "code",
      "source": [
        "check_duplicates(arr)"
      ],
      "metadata": {
        "colab": {
          "base_uri": "https://localhost:8080/"
        },
        "id": "btxNd599o4-L",
        "outputId": "74ecd1fb-a243-41f9-b258-7ffb33fb4ce6"
      },
      "execution_count": 16,
      "outputs": [
        {
          "output_type": "execute_result",
          "data": {
            "text/plain": [
              "True"
            ]
          },
          "metadata": {},
          "execution_count": 16
        }
      ]
    },
    {
      "cell_type": "markdown",
      "source": [
        "2. Given an array and an integer k, rotate the array to the right by k steps."
      ],
      "metadata": {
        "id": "et-GzJNPrRon"
      }
    },
    {
      "cell_type": "code",
      "source": [
        "arr = [1, 2, 3, 4, 5, 6, 7]\n",
        "k = 3"
      ],
      "metadata": {
        "id": "dC_MM9mdrQ4H"
      },
      "execution_count": 25,
      "outputs": []
    },
    {
      "cell_type": "code",
      "source": [
        "def shift_right(arr, k):\n",
        "\n",
        "  length = len(arr)\n",
        "\n",
        "  shift_array = []\n",
        "\n",
        "  for i in range(length):\n",
        "\n",
        "    index = i + k + 1\n",
        "\n",
        "    if index >= length:\n",
        "\n",
        "      index = index - length\n",
        "\n",
        "      shift_array.append(arr[index])\n",
        "\n",
        "    else:\n",
        "\n",
        "      shift_array.append(arr[index])\n",
        "\n",
        "  return shift_array"
      ],
      "metadata": {
        "id": "LxGkgCrno7ne"
      },
      "execution_count": 26,
      "outputs": []
    },
    {
      "cell_type": "code",
      "source": [
        "shift_right(arr, k)"
      ],
      "metadata": {
        "colab": {
          "base_uri": "https://localhost:8080/"
        },
        "id": "gxZRZMi6p3Ol",
        "outputId": "f6df188e-9aa0-49ce-b475-e8261526acbe"
      },
      "execution_count": 27,
      "outputs": [
        {
          "output_type": "execute_result",
          "data": {
            "text/plain": [
              "[5, 6, 7, 1, 2, 3, 4]"
            ]
          },
          "metadata": {},
          "execution_count": 27
        }
      ]
    },
    {
      "cell_type": "markdown",
      "source": [
        "3. Reverse the given array in-place, means without using any extra data structure."
      ],
      "metadata": {
        "id": "SGNTjv4Zu40l"
      }
    },
    {
      "cell_type": "code",
      "source": [
        "arr = [2, 4, 5, 7, 9, 12]"
      ],
      "metadata": {
        "id": "6ia6cehFu2q6"
      },
      "execution_count": 28,
      "outputs": []
    },
    {
      "cell_type": "code",
      "source": [
        "reverse_arr = arr[::-1]\n",
        "\n",
        "reverse_arr\n"
      ],
      "metadata": {
        "colab": {
          "base_uri": "https://localhost:8080/"
        },
        "id": "gfElpZchvBYC",
        "outputId": "6f4e699e-06de-4469-ccb4-fdfa233ca2fb"
      },
      "execution_count": 29,
      "outputs": [
        {
          "output_type": "execute_result",
          "data": {
            "text/plain": [
              "[12, 9, 7, 5, 4, 2]"
            ]
          },
          "metadata": {},
          "execution_count": 29
        }
      ]
    },
    {
      "cell_type": "markdown",
      "source": [
        "4. Given an array of integers, find the maximum element in an array"
      ],
      "metadata": {
        "id": "O4aifcwBvURw"
      }
    },
    {
      "cell_type": "code",
      "source": [
        "arr = [10, 5, 20, 8, 15]\n",
        "\n",
        "max(arr)"
      ],
      "metadata": {
        "colab": {
          "base_uri": "https://localhost:8080/"
        },
        "id": "11tONrNVvS7b",
        "outputId": "b565f9e5-4f11-44ef-ee25-b7e9c6408d99"
      },
      "execution_count": 30,
      "outputs": [
        {
          "output_type": "execute_result",
          "data": {
            "text/plain": [
              "20"
            ]
          },
          "metadata": {},
          "execution_count": 30
        }
      ]
    },
    {
      "cell_type": "markdown",
      "source": [
        "5. Given a sorted array, remove the duplicate element without using any extra data structure."
      ],
      "metadata": {
        "id": "nvXL28dwvbyG"
      }
    },
    {
      "cell_type": "code",
      "source": [
        "def remove_duplicates(arr):\n",
        "\n",
        "  temp = []\n",
        "\n",
        "  for i in range(len(arr)):\n",
        "\n",
        "    if arr[i] not in temp:\n",
        "\n",
        "      temp.append(arr[i])\n",
        "\n",
        "  return temp\n",
        "\n"
      ],
      "metadata": {
        "id": "i7e4MqiovZkI"
      },
      "execution_count": 34,
      "outputs": []
    },
    {
      "cell_type": "code",
      "source": [
        "arr = [1, 1, 2, 2, 2, 3, 3, 4, 4, 4, 5, 5]\n",
        "remove_duplicates(arr)"
      ],
      "metadata": {
        "colab": {
          "base_uri": "https://localhost:8080/"
        },
        "id": "hF387QxuvrK4",
        "outputId": "cdfea69b-c2d8-42d0-ef6d-485194c82fa8"
      },
      "execution_count": 36,
      "outputs": [
        {
          "output_type": "execute_result",
          "data": {
            "text/plain": [
              "[1, 2, 3, 4, 5]"
            ]
          },
          "metadata": {},
          "execution_count": 36
        }
      ]
    },
    {
      "cell_type": "code",
      "source": [],
      "metadata": {
        "id": "2E4LUSoYw_rM"
      },
      "execution_count": null,
      "outputs": []
    }
  ]
}