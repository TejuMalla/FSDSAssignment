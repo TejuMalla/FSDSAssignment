{
 "cells": [
  {
   "cell_type": "markdown",
   "id": "1f2b5e1d-dd57-41f8-b64c-3a65712d00d9",
   "metadata": {},
   "source": [
    "**Python Basic Variable**"
   ]
  },
  {
   "cell_type": "markdown",
   "id": "79f6817a-f0a4-418d-9522-e097873005f6",
   "metadata": {},
   "source": [
    "1. Declare two variables, `x` and `y`, and assign them integer values. Swap the\n",
    "values of these variables without using any temporary variable."
   ]
  },
  {
   "cell_type": "code",
   "execution_count": 20,
   "id": "01550da2-9227-4a80-8adc-ae8cac61b187",
   "metadata": {},
   "outputs": [],
   "source": [
    "x = 1"
   ]
  },
  {
   "cell_type": "code",
   "execution_count": 21,
   "id": "2cd0c289-24ae-4bf4-a2c2-b361644c5a3e",
   "metadata": {},
   "outputs": [],
   "source": [
    "y = 2"
   ]
  },
  {
   "cell_type": "code",
   "execution_count": 22,
   "id": "7960d6e0-7d22-4442-a62d-fbe9e5a9d9d9",
   "metadata": {},
   "outputs": [],
   "source": [
    "x, y = y, x"
   ]
  },
  {
   "cell_type": "code",
   "execution_count": 23,
   "id": "ede8568d-7a8c-411f-b59b-e9ea8ddeeedc",
   "metadata": {},
   "outputs": [
    {
     "data": {
      "text/plain": [
       "2"
      ]
     },
     "execution_count": 23,
     "metadata": {},
     "output_type": "execute_result"
    }
   ],
   "source": [
    "x"
   ]
  },
  {
   "cell_type": "code",
   "execution_count": 24,
   "id": "4c176c87-74e4-479d-8186-bdd7628b9780",
   "metadata": {},
   "outputs": [
    {
     "data": {
      "text/plain": [
       "1"
      ]
     },
     "execution_count": 24,
     "metadata": {},
     "output_type": "execute_result"
    }
   ],
   "source": [
    "y"
   ]
  },
  {
   "cell_type": "markdown",
   "id": "863731cb-9f05-4369-b25b-d93be0e46f59",
   "metadata": {},
   "source": [
    "2. Create a program that calculates the area of a rectangle. Take the length and\n",
    "width as inputs from the user and store them in variables. Calculate and\n",
    "display the area."
   ]
  },
  {
   "cell_type": "code",
   "execution_count": 29,
   "id": "e8fa3752-6a19-4746-9a74-a2ea1423a242",
   "metadata": {},
   "outputs": [],
   "source": [
    "length = 5\n",
    "width = 5\n",
    "area_of_rectangle = length * width"
   ]
  },
  {
   "cell_type": "markdown",
   "id": "a825494d-5098-4b87-a786-c24236698f75",
   "metadata": {},
   "source": [
    "print(area_of_rectangle)"
   ]
  },
  {
   "cell_type": "markdown",
   "id": "661e5eaa-b3d4-45d7-922d-e643f492faa7",
   "metadata": {},
   "source": [
    "3. Write a Python program that converts temperatures from Celsius to\n",
    "Fahrenheit. Take the temperature in Celsius as input, store it in a variable,\n",
    "convert it to Fahrenheit, and display the result."
   ]
  },
  {
   "cell_type": "code",
   "execution_count": 32,
   "id": "b3b60e39-ed90-4056-9634-00f437b3af8a",
   "metadata": {},
   "outputs": [
    {
     "name": "stdout",
     "output_type": "stream",
     "text": [
      "373\n"
     ]
    }
   ],
   "source": [
    "temp_celsius = 100\n",
    "\n",
    "temp_fahrenheit = temp_celsius + 273\n",
    "\n",
    "print(temp_fahrenheit)"
   ]
  },
  {
   "cell_type": "markdown",
   "id": "f11fa0f0-28dd-4fa9-acd7-ba09c08a637b",
   "metadata": {},
   "source": [
    "**String Based Questions**"
   ]
  },
  {
   "cell_type": "markdown",
   "id": "4b78767c-0c14-4ec8-a838-5765c60fe748",
   "metadata": {},
   "source": [
    "1. Write a Python program that takes a string as input and prints the length of\n",
    "the string."
   ]
  },
  {
   "cell_type": "code",
   "execution_count": 34,
   "id": "cc68775e-7cb8-441f-9980-c5b190815ad4",
   "metadata": {},
   "outputs": [
    {
     "name": "stdin",
     "output_type": "stream",
     "text": [
      " Mother Earth\n"
     ]
    }
   ],
   "source": [
    "input_string = str(input())"
   ]
  },
  {
   "cell_type": "code",
   "execution_count": 35,
   "id": "546f348d-fa7c-43f6-9115-0778ff841d94",
   "metadata": {},
   "outputs": [
    {
     "name": "stdout",
     "output_type": "stream",
     "text": [
      "12\n"
     ]
    }
   ],
   "source": [
    "print(len(input_string))"
   ]
  },
  {
   "cell_type": "markdown",
   "id": "b0c19ebb-e6d3-4ca6-b964-d4453674c571",
   "metadata": {},
   "source": [
    "2. Create a program that takes a sentence from the user and counts the number\n",
    "of vowels (a, e, i, o, u) in the string."
   ]
  },
  {
   "cell_type": "code",
   "execution_count": 37,
   "id": "bf29f110-855f-47b6-838b-c27b9056de1c",
   "metadata": {},
   "outputs": [
    {
     "name": "stdin",
     "output_type": "stream",
     "text": [
      " water, air, fire, earth, space\n"
     ]
    }
   ],
   "source": [
    "user_input_string = str(input())"
   ]
  },
  {
   "cell_type": "code",
   "execution_count": 45,
   "id": "5e3e8cba-6a7c-408c-8cbf-4418f1ec6b34",
   "metadata": {},
   "outputs": [],
   "source": [
    "vowels_count = 0\n",
    "vowels = ['a','e','i','o','u']\n",
    "for i in range(len(user_input_string)):\n",
    "    \n",
    "    for j in range(len(vowels)):\n",
    "        \n",
    "        if user_input_string[i] == vowels[j]:\n",
    "            vowels_count += 1\n",
    "        "
   ]
  },
  {
   "cell_type": "code",
   "execution_count": 46,
   "id": "76c644ab-533d-4a89-9bc6-c3e357755e16",
   "metadata": {},
   "outputs": [
    {
     "name": "stdout",
     "output_type": "stream",
     "text": [
      "10\n"
     ]
    }
   ],
   "source": [
    "print(vowels_count)"
   ]
  },
  {
   "cell_type": "markdown",
   "id": "e5518930-28a0-49e3-9573-e9b30fa11121",
   "metadata": {},
   "source": [
    "3. Given a string, reverse the order of characters using string slicing and print\n",
    "the reversed string.\n"
   ]
  },
  {
   "cell_type": "code",
   "execution_count": 3,
   "id": "3c6e6542-e1f2-490b-915a-c9ab7b36364a",
   "metadata": {},
   "outputs": [
    {
     "name": "stdin",
     "output_type": "stream",
     "text": [
      " Teju\n"
     ]
    }
   ],
   "source": [
    "Input_your_name = str(input())"
   ]
  },
  {
   "cell_type": "code",
   "execution_count": 12,
   "id": "43e4fb8e-70e6-4c2f-84bd-faeabd08d721",
   "metadata": {},
   "outputs": [
    {
     "data": {
      "text/plain": [
       "'ujeT'"
      ]
     },
     "execution_count": 12,
     "metadata": {},
     "output_type": "execute_result"
    }
   ],
   "source": [
    "Input_your_name[-1::-1]"
   ]
  },
  {
   "cell_type": "markdown",
   "id": "d4917fde-a218-4402-a8a5-b0ec788edac8",
   "metadata": {},
   "source": [
    "4. Write a program that takes a string as input and checks if it is a palindrome\n",
    "(reads the same forwards and backwards)."
   ]
  },
  {
   "cell_type": "code",
   "execution_count": 19,
   "id": "7f394090-36a2-42ea-9f42-e21ad38366e4",
   "metadata": {},
   "outputs": [
    {
     "name": "stdin",
     "output_type": "stream",
     "text": [
      " teju\n"
     ]
    }
   ],
   "source": [
    "enter_a_string = str(input())"
   ]
  },
  {
   "cell_type": "code",
   "execution_count": 20,
   "id": "b2842838-bc34-4f1b-a654-94aed446a1cc",
   "metadata": {},
   "outputs": [],
   "source": [
    "reverse_of_input_string = enter_a_string[-1::-1]"
   ]
  },
  {
   "cell_type": "code",
   "execution_count": 21,
   "id": "5146e9aa-b615-45b2-83bc-a07bdcffc195",
   "metadata": {},
   "outputs": [
    {
     "name": "stdout",
     "output_type": "stream",
     "text": [
      "The entered string is not a palindrome\n"
     ]
    }
   ],
   "source": [
    "if enter_a_string == reverse_of_input_string:\n",
    "    print('The entered string is a palindrome')\n",
    "\n",
    "else:\n",
    "    print('The entered string is not a palindrome')"
   ]
  },
  {
   "cell_type": "markdown",
   "id": "30fbbd93-eb1d-4ac8-900e-828be86eb4b9",
   "metadata": {},
   "source": [
    "5. Create a program that takes a string as input and removes all the spaces from\n",
    "it. Print the modified string without spaces."
   ]
  },
  {
   "cell_type": "code",
   "execution_count": 1,
   "id": "79b4cf9b-d25d-4ab7-a257-ba3a2446d0e9",
   "metadata": {},
   "outputs": [
    {
     "name": "stdin",
     "output_type": "stream",
     "text": [
      " I live in India\n"
     ]
    }
   ],
   "source": [
    "input_string = str(input())"
   ]
  },
  {
   "cell_type": "code",
   "execution_count": 3,
   "id": "a8694874-357b-47a7-bf0f-13f3881b115f",
   "metadata": {},
   "outputs": [
    {
     "name": "stdout",
     "output_type": "stream",
     "text": [
      "I\n"
     ]
    }
   ],
   "source": [
    "print(input_string[0:1])"
   ]
  },
  {
   "cell_type": "code",
   "execution_count": 4,
   "id": "60baac27-27a0-4f44-9823-111067c8d43f",
   "metadata": {},
   "outputs": [],
   "source": [
    "mod_string = input_string.replace(\" \", \"\")"
   ]
  },
  {
   "cell_type": "code",
   "execution_count": 5,
   "id": "ace67ae7-c016-42ad-ba05-6572ccd165ab",
   "metadata": {},
   "outputs": [
    {
     "data": {
      "text/plain": [
       "'IliveinIndia'"
      ]
     },
     "execution_count": 5,
     "metadata": {},
     "output_type": "execute_result"
    }
   ],
   "source": [
    "mod_string"
   ]
  },
  {
   "cell_type": "code",
   "execution_count": null,
   "id": "a68540dc-8b2c-468e-9524-444a632318cd",
   "metadata": {},
   "outputs": [],
   "source": []
  }
 ],
 "metadata": {
  "kernelspec": {
   "display_name": "Python 3 (ipykernel)",
   "language": "python",
   "name": "python3"
  },
  "language_info": {
   "codemirror_mode": {
    "name": "ipython",
    "version": 3
   },
   "file_extension": ".py",
   "mimetype": "text/x-python",
   "name": "python",
   "nbconvert_exporter": "python",
   "pygments_lexer": "ipython3",
   "version": "3.10.8"
  }
 },
 "nbformat": 4,
 "nbformat_minor": 5
}
