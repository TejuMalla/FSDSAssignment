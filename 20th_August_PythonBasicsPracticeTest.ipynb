{
  "cells": [
    {
      "cell_type": "markdown",
      "id": "f71f9c57-82ab-43d6-b56f-8d71443ac12f",
      "metadata": {
        "id": "f71f9c57-82ab-43d6-b56f-8d71443ac12f"
      },
      "source": [
        "**String Based Assignment Problem**"
      ]
    },
    {
      "cell_type": "markdown",
      "id": "0e0b9438-6adb-4264-9acf-636e48866453",
      "metadata": {
        "id": "0e0b9438-6adb-4264-9acf-636e48866453"
      },
      "source": [
        "1. Write a program to reverse a string."
      ]
    },
    {
      "cell_type": "code",
      "execution_count": null,
      "id": "c67df958-73d8-407f-974c-0be9e77ad991",
      "metadata": {
        "id": "c67df958-73d8-407f-974c-0be9e77ad991"
      },
      "outputs": [],
      "source": [
        "def reverse_string(a):\n",
        "\n",
        "    reversed_string  = a[::-1]\n",
        "\n",
        "    return reversed_string\n",
        "\n"
      ]
    },
    {
      "cell_type": "code",
      "execution_count": null,
      "id": "03451316-65a2-48e0-9798-1fef1e88aeb3",
      "metadata": {
        "id": "03451316-65a2-48e0-9798-1fef1e88aeb3",
        "outputId": "c7b22463-6d56-4979-a095-2da01a412f4d",
        "colab": {
          "base_uri": "https://localhost:8080/",
          "height": 35
        }
      },
      "outputs": [
        {
          "output_type": "execute_result",
          "data": {
            "text/plain": [
              "'ujeT'"
            ],
            "application/vnd.google.colaboratory.intrinsic+json": {
              "type": "string"
            }
          },
          "metadata": {},
          "execution_count": 506
        }
      ],
      "source": [
        "s = 'Teju'\n",
        "\n",
        "reverse_string(s)"
      ]
    },
    {
      "cell_type": "markdown",
      "id": "d905baa0-7f52-406a-899e-38e5c48bc235",
      "metadata": {
        "id": "d905baa0-7f52-406a-899e-38e5c48bc235"
      },
      "source": [
        "2. Check if a string is a palindrome."
      ]
    },
    {
      "cell_type": "code",
      "execution_count": null,
      "id": "83d51b18-c731-4b9a-b146-ad19de80c685",
      "metadata": {
        "id": "83d51b18-c731-4b9a-b146-ad19de80c685"
      },
      "outputs": [],
      "source": [
        "def check_palindrome(a):\n",
        "\n",
        "    if a == a[::-1]:\n",
        "        print(a +' is a palindrome')\n",
        "\n",
        "    else:\n",
        "        print(a +' is not a palindrome')"
      ]
    },
    {
      "cell_type": "code",
      "execution_count": null,
      "id": "69288b25-9fae-413b-9999-0f360cc68a40",
      "metadata": {
        "id": "69288b25-9fae-413b-9999-0f360cc68a40",
        "outputId": "54c2e8fa-9243-4199-d556-35074fa51b33",
        "colab": {
          "base_uri": "https://localhost:8080/"
        }
      },
      "outputs": [
        {
          "output_type": "stream",
          "name": "stdout",
          "text": [
            "Parot is not a palindrome\n"
          ]
        }
      ],
      "source": [
        "a = \"Parot\"\n",
        "\n",
        "check_palindrome(a)"
      ]
    },
    {
      "cell_type": "code",
      "execution_count": null,
      "id": "d6066777-8798-4bd5-8335-8ddb4ca92245",
      "metadata": {
        "id": "d6066777-8798-4bd5-8335-8ddb4ca92245",
        "outputId": "befa732d-90dc-428b-94f0-3ccfdc624c1e",
        "colab": {
          "base_uri": "https://localhost:8080/"
        }
      },
      "outputs": [
        {
          "output_type": "stream",
          "name": "stdout",
          "text": [
            "madam is a palindrome\n"
          ]
        }
      ],
      "source": [
        "b = \"madam\"\n",
        "\n",
        "check_palindrome(b)"
      ]
    },
    {
      "cell_type": "markdown",
      "id": "0a2e62c5-ed18-46ba-a113-fb3fbc6ba44f",
      "metadata": {
        "id": "0a2e62c5-ed18-46ba-a113-fb3fbc6ba44f"
      },
      "source": [
        "3. Convert a string to uppercase."
      ]
    },
    {
      "cell_type": "code",
      "execution_count": null,
      "id": "445bddb3-ffc9-4cf1-b209-7c3687f2911b",
      "metadata": {
        "id": "445bddb3-ffc9-4cf1-b209-7c3687f2911b"
      },
      "outputs": [],
      "source": [
        "upper_a = a.upper()"
      ]
    },
    {
      "cell_type": "code",
      "execution_count": null,
      "id": "89f21c2a-9587-4f42-89a4-8e2fb06c52e6",
      "metadata": {
        "id": "89f21c2a-9587-4f42-89a4-8e2fb06c52e6",
        "outputId": "04707232-e170-4885-854f-0045b270ec0e",
        "colab": {
          "base_uri": "https://localhost:8080/",
          "height": 35
        }
      },
      "outputs": [
        {
          "output_type": "execute_result",
          "data": {
            "text/plain": [
              "'PAROT'"
            ],
            "application/vnd.google.colaboratory.intrinsic+json": {
              "type": "string"
            }
          },
          "metadata": {},
          "execution_count": 511
        }
      ],
      "source": [
        "upper_a"
      ]
    },
    {
      "cell_type": "markdown",
      "id": "0286a2da-4585-464d-ad3a-fa7a0af59d02",
      "metadata": {
        "id": "0286a2da-4585-464d-ad3a-fa7a0af59d02"
      },
      "source": [
        "4. Convert a string to lowercase."
      ]
    },
    {
      "cell_type": "code",
      "execution_count": null,
      "id": "73a897f5-e544-4579-9454-a5483e5215b4",
      "metadata": {
        "id": "73a897f5-e544-4579-9454-a5483e5215b4"
      },
      "outputs": [],
      "source": [
        "lower_a = upper_a.lower()"
      ]
    },
    {
      "cell_type": "code",
      "execution_count": null,
      "id": "a6bc4a25-f670-40ff-be19-fd9b8c6a44aa",
      "metadata": {
        "id": "a6bc4a25-f670-40ff-be19-fd9b8c6a44aa",
        "outputId": "0c4674af-5157-4dcf-cb45-b195e0ef2338",
        "colab": {
          "base_uri": "https://localhost:8080/",
          "height": 35
        }
      },
      "outputs": [
        {
          "output_type": "execute_result",
          "data": {
            "text/plain": [
              "'parot'"
            ],
            "application/vnd.google.colaboratory.intrinsic+json": {
              "type": "string"
            }
          },
          "metadata": {},
          "execution_count": 513
        }
      ],
      "source": [
        "lower_a"
      ]
    },
    {
      "cell_type": "markdown",
      "id": "9b1e758e-1834-492a-ac52-4f9eef4e5c97",
      "metadata": {
        "id": "9b1e758e-1834-492a-ac52-4f9eef4e5c97"
      },
      "source": [
        "5. Count the number of vowels in a string."
      ]
    },
    {
      "cell_type": "code",
      "execution_count": null,
      "id": "2798f2ba-8c35-43f5-a86c-8154e4033f38",
      "metadata": {
        "id": "2798f2ba-8c35-43f5-a86c-8154e4033f38"
      },
      "outputs": [],
      "source": [
        "def count_vowels(x):\n",
        "\n",
        "    vowels = 'aeiouAEIOU'\n",
        "\n",
        "    no_of_vowels = 0\n",
        "\n",
        "    for a in x:\n",
        "\n",
        "      if a.isalpha() and a in vowels:\n",
        "\n",
        "        no_of_vowels += 1\n",
        "\n",
        "    return no_of_vowels\n",
        "\n"
      ]
    },
    {
      "cell_type": "code",
      "execution_count": null,
      "id": "7babcaf3-864e-4822-92da-70d9d30e5eeb",
      "metadata": {
        "colab": {
          "base_uri": "https://localhost:8080/"
        },
        "id": "7babcaf3-864e-4822-92da-70d9d30e5eeb",
        "outputId": "1eaf4ec5-73e7-416b-bf31-e8caa2ff0feb"
      },
      "outputs": [
        {
          "output_type": "execute_result",
          "data": {
            "text/plain": [
              "7"
            ]
          },
          "metadata": {},
          "execution_count": 515
        }
      ],
      "source": [
        "x = 'Tony stark is the Ironman'\n",
        "\n",
        "\n",
        "count_vowels(x)"
      ]
    },
    {
      "cell_type": "markdown",
      "id": "08328617-d16e-4ec3-bb0b-abb7c209b5f9",
      "metadata": {
        "id": "08328617-d16e-4ec3-bb0b-abb7c209b5f9"
      },
      "source": [
        "6. Count the number of consonants in a string."
      ]
    },
    {
      "cell_type": "code",
      "execution_count": null,
      "id": "026d5fa2-f6cd-4b9a-95d1-17e759578416",
      "metadata": {
        "id": "026d5fa2-f6cd-4b9a-95d1-17e759578416"
      },
      "outputs": [],
      "source": [
        "def count_consonents(x):\n",
        "\n",
        "    vowels = 'AEIOUaeiou'\n",
        "\n",
        "    no_of_consonents = 0\n",
        "\n",
        "    for i in x:\n",
        "\n",
        "      if i.isalpha() and i not in vowels:\n",
        "\n",
        "         no_of_consonents += 1\n",
        "\n",
        "    return no_of_consonents\n"
      ]
    },
    {
      "cell_type": "code",
      "execution_count": null,
      "id": "afa264e2-aeeb-41a6-949b-2cb63e1fb5da",
      "metadata": {
        "colab": {
          "base_uri": "https://localhost:8080/"
        },
        "id": "afa264e2-aeeb-41a6-949b-2cb63e1fb5da",
        "outputId": "c99bb980-f771-4d30-b26c-fa0b3056ccef"
      },
      "outputs": [
        {
          "output_type": "execute_result",
          "data": {
            "text/plain": [
              "14"
            ]
          },
          "metadata": {},
          "execution_count": 517
        }
      ],
      "source": [
        "count_consonents(x)"
      ]
    },
    {
      "cell_type": "markdown",
      "source": [
        "7. Remove all whitespaces from a string"
      ],
      "metadata": {
        "id": "UqFYFbCgETwn"
      },
      "id": "UqFYFbCgETwn"
    },
    {
      "cell_type": "markdown",
      "source": [
        "Version A"
      ],
      "metadata": {
        "id": "otB6IjoKwpwt"
      },
      "id": "otB6IjoKwpwt"
    },
    {
      "cell_type": "code",
      "execution_count": null,
      "id": "915933be-47b1-4d25-b511-f35d74f9b377",
      "metadata": {
        "id": "915933be-47b1-4d25-b511-f35d74f9b377"
      },
      "outputs": [],
      "source": [
        "def remove_white_spaces(g):\n",
        "\n",
        "  removed_white_spaces = g.replace(\" \", \"\")\n",
        "\n",
        "  return removed_white_spaces"
      ]
    },
    {
      "cell_type": "code",
      "source": [
        "x = 'Tony stark is the Ironman'\n",
        "remove_white_spaces(x)"
      ],
      "metadata": {
        "colab": {
          "base_uri": "https://localhost:8080/",
          "height": 35
        },
        "id": "4po3N1KZERpY",
        "outputId": "544f4ed5-1da5-436f-bf3c-fc8a27bb6dcc"
      },
      "id": "4po3N1KZERpY",
      "execution_count": null,
      "outputs": [
        {
          "output_type": "execute_result",
          "data": {
            "text/plain": [
              "'TonystarkistheIronman'"
            ],
            "application/vnd.google.colaboratory.intrinsic+json": {
              "type": "string"
            }
          },
          "metadata": {},
          "execution_count": 519
        }
      ]
    },
    {
      "cell_type": "markdown",
      "source": [
        "Version B"
      ],
      "metadata": {
        "id": "11TsZGABw2WG"
      },
      "id": "11TsZGABw2WG"
    },
    {
      "cell_type": "code",
      "source": [
        "def remove_spaces(g):\n",
        "\n",
        "  new_string = \"\"\n",
        "\n",
        "  for i in g:\n",
        "\n",
        "    if i != \" \":\n",
        "\n",
        "      new_string += i\n",
        "\n",
        "  return new_string"
      ],
      "metadata": {
        "id": "Y6pZtiRmwnLV"
      },
      "id": "Y6pZtiRmwnLV",
      "execution_count": null,
      "outputs": []
    },
    {
      "cell_type": "code",
      "source": [
        "remove_spaces(x)"
      ],
      "metadata": {
        "colab": {
          "base_uri": "https://localhost:8080/",
          "height": 35
        },
        "id": "xcU8eu5Hx0kV",
        "outputId": "1e90f89b-6c87-4839-e58a-93ca02322fad"
      },
      "id": "xcU8eu5Hx0kV",
      "execution_count": null,
      "outputs": [
        {
          "output_type": "execute_result",
          "data": {
            "text/plain": [
              "'TonystarkistheIronman'"
            ],
            "application/vnd.google.colaboratory.intrinsic+json": {
              "type": "string"
            }
          },
          "metadata": {},
          "execution_count": 521
        }
      ]
    },
    {
      "cell_type": "markdown",
      "source": [
        "8. Find the length of a string without using the `len()` function."
      ],
      "metadata": {
        "id": "bg2erK2EvNdv"
      },
      "id": "bg2erK2EvNdv"
    },
    {
      "cell_type": "code",
      "source": [
        "def length_of_string(g):\n",
        "\n",
        "  string_length = 0\n",
        "\n",
        "  for i in g:\n",
        "\n",
        "    string_length += 1\n",
        "\n",
        "  return string_length"
      ],
      "metadata": {
        "id": "cUS1aXZ7I9n6"
      },
      "id": "cUS1aXZ7I9n6",
      "execution_count": null,
      "outputs": []
    },
    {
      "cell_type": "code",
      "source": [
        "length_of_string(x)"
      ],
      "metadata": {
        "colab": {
          "base_uri": "https://localhost:8080/"
        },
        "id": "3GcR7THLySOL",
        "outputId": "6feba965-dac2-4c50-e92d-deed33e66910"
      },
      "id": "3GcR7THLySOL",
      "execution_count": null,
      "outputs": [
        {
          "output_type": "execute_result",
          "data": {
            "text/plain": [
              "25"
            ]
          },
          "metadata": {},
          "execution_count": 523
        }
      ]
    },
    {
      "cell_type": "markdown",
      "source": [
        "9. Check if a string contains a specific word."
      ],
      "metadata": {
        "id": "jWkWJd4qmmGL"
      },
      "id": "jWkWJd4qmmGL"
    },
    {
      "cell_type": "code",
      "source": [
        "def check_the_word(word, sentence):\n",
        "\n",
        "  if word in sentence:\n",
        "\n",
        "    print(word +\" exists in the given sentence\")\n",
        "\n",
        "  else:\n",
        "\n",
        "    print(word + \" does not exist in the given sentence\")"
      ],
      "metadata": {
        "id": "X3ELYMog1Vay"
      },
      "id": "X3ELYMog1Vay",
      "execution_count": null,
      "outputs": []
    },
    {
      "cell_type": "code",
      "source": [
        "check_the_word('Tony', x)"
      ],
      "metadata": {
        "colab": {
          "base_uri": "https://localhost:8080/"
        },
        "id": "zR0AAHFRoZL2",
        "outputId": "79862a5a-00d4-4636-c9f9-5b2f52b14f4c"
      },
      "id": "zR0AAHFRoZL2",
      "execution_count": null,
      "outputs": [
        {
          "output_type": "stream",
          "name": "stdout",
          "text": [
            "Tony exists in the given sentence\n"
          ]
        }
      ]
    },
    {
      "cell_type": "code",
      "source": [
        "check_the_word('iron', x)"
      ],
      "metadata": {
        "colab": {
          "base_uri": "https://localhost:8080/"
        },
        "id": "ABz922DMo9_6",
        "outputId": "270f9705-a872-4273-c2e8-57ac1aa3df8d"
      },
      "id": "ABz922DMo9_6",
      "execution_count": null,
      "outputs": [
        {
          "output_type": "stream",
          "name": "stdout",
          "text": [
            "iron does not exist in the given sentence\n"
          ]
        }
      ]
    },
    {
      "cell_type": "code",
      "source": [
        "check_the_word('pepper pots', x )"
      ],
      "metadata": {
        "colab": {
          "base_uri": "https://localhost:8080/"
        },
        "id": "58pOvsLxpM0_",
        "outputId": "9b0924d5-e3f9-4c9f-c401-a19034f90922"
      },
      "id": "58pOvsLxpM0_",
      "execution_count": null,
      "outputs": [
        {
          "output_type": "stream",
          "name": "stdout",
          "text": [
            "pepper pots does not exist in the given sentence\n"
          ]
        }
      ]
    },
    {
      "cell_type": "markdown",
      "source": [
        "10. Replace a word in a string with another word."
      ],
      "metadata": {
        "id": "Y6NrKqjYptyh"
      },
      "id": "Y6NrKqjYptyh"
    },
    {
      "cell_type": "code",
      "source": [
        "y = 'Pepper Pots is Ironman'"
      ],
      "metadata": {
        "id": "fjpBCdJcpsJK"
      },
      "id": "fjpBCdJcpsJK",
      "execution_count": null,
      "outputs": []
    },
    {
      "cell_type": "code",
      "source": [
        "y.replace('Ironman', 'Ironwomen')"
      ],
      "metadata": {
        "colab": {
          "base_uri": "https://localhost:8080/",
          "height": 35
        },
        "id": "cTPkA4m1pmMm",
        "outputId": "8a704d22-f4ab-417f-df4c-49ad26fcce23"
      },
      "id": "cTPkA4m1pmMm",
      "execution_count": null,
      "outputs": [
        {
          "output_type": "execute_result",
          "data": {
            "text/plain": [
              "'Pepper Pots is Ironwomen'"
            ],
            "application/vnd.google.colaboratory.intrinsic+json": {
              "type": "string"
            }
          },
          "metadata": {},
          "execution_count": 529
        }
      ]
    },
    {
      "cell_type": "markdown",
      "source": [
        "11. Count the occurrences of a word in a string."
      ],
      "metadata": {
        "id": "BXS3sSaqqp5u"
      },
      "id": "BXS3sSaqqp5u"
    },
    {
      "cell_type": "code",
      "source": [
        "y.count('Pepper')"
      ],
      "metadata": {
        "colab": {
          "base_uri": "https://localhost:8080/"
        },
        "id": "R6WUaYuCr-ay",
        "outputId": "19e83bc5-8b65-4000-8cee-376d67770f9a"
      },
      "id": "R6WUaYuCr-ay",
      "execution_count": null,
      "outputs": [
        {
          "output_type": "execute_result",
          "data": {
            "text/plain": [
              "1"
            ]
          },
          "metadata": {},
          "execution_count": 530
        }
      ]
    },
    {
      "cell_type": "code",
      "source": [
        "y.count('Tony')"
      ],
      "metadata": {
        "colab": {
          "base_uri": "https://localhost:8080/"
        },
        "id": "GRe0YMTYsGPN",
        "outputId": "9bb3bb7d-6d62-444b-b9f2-620b95317b0b"
      },
      "id": "GRe0YMTYsGPN",
      "execution_count": null,
      "outputs": [
        {
          "output_type": "execute_result",
          "data": {
            "text/plain": [
              "0"
            ]
          },
          "metadata": {},
          "execution_count": 531
        }
      ]
    },
    {
      "cell_type": "markdown",
      "source": [
        "12. Find the first occurrence of a word in a string."
      ],
      "metadata": {
        "id": "i2zw2lcYsPfV"
      },
      "id": "i2zw2lcYsPfV"
    },
    {
      "cell_type": "code",
      "source": [
        "z = \"Tony Stark is the owner of Stark industries\""
      ],
      "metadata": {
        "id": "rHei8NzHsKuH"
      },
      "id": "rHei8NzHsKuH",
      "execution_count": null,
      "outputs": []
    },
    {
      "cell_type": "code",
      "source": [
        "z.index('Stark')"
      ],
      "metadata": {
        "colab": {
          "base_uri": "https://localhost:8080/"
        },
        "id": "785h-VSKsjwH",
        "outputId": "b7387f45-ebff-46f1-9edc-44ac4898fabc"
      },
      "id": "785h-VSKsjwH",
      "execution_count": null,
      "outputs": [
        {
          "output_type": "execute_result",
          "data": {
            "text/plain": [
              "5"
            ]
          },
          "metadata": {},
          "execution_count": 533
        }
      ]
    },
    {
      "cell_type": "code",
      "source": [
        "z.find('Stark')"
      ],
      "metadata": {
        "colab": {
          "base_uri": "https://localhost:8080/"
        },
        "id": "4YCTe60VsnPT",
        "outputId": "ebf9d1d2-ed69-4183-e439-e44f94e721d5"
      },
      "id": "4YCTe60VsnPT",
      "execution_count": null,
      "outputs": [
        {
          "output_type": "execute_result",
          "data": {
            "text/plain": [
              "5"
            ]
          },
          "metadata": {},
          "execution_count": 534
        }
      ]
    },
    {
      "cell_type": "markdown",
      "source": [
        "13. Find the last occurrence of a word in a string."
      ],
      "metadata": {
        "id": "Za92QatMs3Kg"
      },
      "id": "Za92QatMs3Kg"
    },
    {
      "cell_type": "code",
      "source": [
        "z.rfind('Stark')"
      ],
      "metadata": {
        "colab": {
          "base_uri": "https://localhost:8080/"
        },
        "id": "exTK3hjBstvV",
        "outputId": "5998fea0-c75b-4a88-dba1-9ce31201f85a"
      },
      "id": "exTK3hjBstvV",
      "execution_count": null,
      "outputs": [
        {
          "output_type": "execute_result",
          "data": {
            "text/plain": [
              "27"
            ]
          },
          "metadata": {},
          "execution_count": 535
        }
      ]
    },
    {
      "cell_type": "markdown",
      "source": [
        "14. Split a string into a list of words."
      ],
      "metadata": {
        "id": "4o2xSytwtoRY"
      },
      "id": "4o2xSytwtoRY"
    },
    {
      "cell_type": "code",
      "source": [
        "split_z = z.split()\n",
        "\n",
        "split_z"
      ],
      "metadata": {
        "colab": {
          "base_uri": "https://localhost:8080/"
        },
        "id": "WX9eQEMYtX5q",
        "outputId": "45e18215-24f9-4e42-8ca9-1877b36c7e60"
      },
      "id": "WX9eQEMYtX5q",
      "execution_count": null,
      "outputs": [
        {
          "output_type": "execute_result",
          "data": {
            "text/plain": [
              "['Tony', 'Stark', 'is', 'the', 'owner', 'of', 'Stark', 'industries']"
            ]
          },
          "metadata": {},
          "execution_count": 536
        }
      ]
    },
    {
      "cell_type": "markdown",
      "source": [
        "15. Join a list of words into a string."
      ],
      "metadata": {
        "id": "0FhZbjRHt6GH"
      },
      "id": "0FhZbjRHt6GH"
    },
    {
      "cell_type": "code",
      "source": [
        "joined_z =\" \".join(split_z)"
      ],
      "metadata": {
        "id": "LZ2Dd3t7tg9y"
      },
      "id": "LZ2Dd3t7tg9y",
      "execution_count": null,
      "outputs": []
    },
    {
      "cell_type": "markdown",
      "source": [
        "16. Convert a string where words are separated by spaces to one where words\n",
        "are separated by underscores."
      ],
      "metadata": {
        "id": "ZDZG5omcyeVQ"
      },
      "id": "ZDZG5omcyeVQ"
    },
    {
      "cell_type": "code",
      "source": [
        "z"
      ],
      "metadata": {
        "colab": {
          "base_uri": "https://localhost:8080/",
          "height": 35
        },
        "id": "vIH9QVWru18B",
        "outputId": "6243c7e1-399f-4093-cbe0-4d63958b28f5"
      },
      "id": "vIH9QVWru18B",
      "execution_count": null,
      "outputs": [
        {
          "output_type": "execute_result",
          "data": {
            "text/plain": [
              "'Tony Stark is the owner of Stark industries'"
            ],
            "application/vnd.google.colaboratory.intrinsic+json": {
              "type": "string"
            }
          },
          "metadata": {},
          "execution_count": 538
        }
      ]
    },
    {
      "cell_type": "code",
      "source": [
        "z.replace(\" \", \"_\")"
      ],
      "metadata": {
        "colab": {
          "base_uri": "https://localhost:8080/",
          "height": 35
        },
        "id": "x5gNoi_vyjov",
        "outputId": "cb152b38-c224-4ead-dcff-7162c02306c9"
      },
      "id": "x5gNoi_vyjov",
      "execution_count": null,
      "outputs": [
        {
          "output_type": "execute_result",
          "data": {
            "text/plain": [
              "'Tony_Stark_is_the_owner_of_Stark_industries'"
            ],
            "application/vnd.google.colaboratory.intrinsic+json": {
              "type": "string"
            }
          },
          "metadata": {},
          "execution_count": 539
        }
      ]
    },
    {
      "cell_type": "markdown",
      "source": [
        "17. Check if a string starts with a specific word or phrase."
      ],
      "metadata": {
        "id": "7OG3_kAOy3OO"
      },
      "id": "7OG3_kAOy3OO"
    },
    {
      "cell_type": "code",
      "source": [
        "z.startswith(\"Pepper\")"
      ],
      "metadata": {
        "colab": {
          "base_uri": "https://localhost:8080/"
        },
        "id": "dbeVplBayp2B",
        "outputId": "bd3d506c-90f2-4cca-c168-c1ec2d7362d2"
      },
      "id": "dbeVplBayp2B",
      "execution_count": null,
      "outputs": [
        {
          "output_type": "execute_result",
          "data": {
            "text/plain": [
              "False"
            ]
          },
          "metadata": {},
          "execution_count": 540
        }
      ]
    },
    {
      "cell_type": "code",
      "source": [
        "z.startswith('Tony')"
      ],
      "metadata": {
        "colab": {
          "base_uri": "https://localhost:8080/"
        },
        "id": "gZP9ELt9zDTT",
        "outputId": "cea3a73a-c6e6-4bcd-f8d3-843e343e1366"
      },
      "id": "gZP9ELt9zDTT",
      "execution_count": null,
      "outputs": [
        {
          "output_type": "execute_result",
          "data": {
            "text/plain": [
              "True"
            ]
          },
          "metadata": {},
          "execution_count": 541
        }
      ]
    },
    {
      "cell_type": "markdown",
      "source": [
        "18. Check if a string ends with a specific word or phrase."
      ],
      "metadata": {
        "id": "5Nvh8yi9zNjv"
      },
      "id": "5Nvh8yi9zNjv"
    },
    {
      "cell_type": "code",
      "source": [
        "z.endswith('industries')"
      ],
      "metadata": {
        "colab": {
          "base_uri": "https://localhost:8080/"
        },
        "id": "puF5novhzGeR",
        "outputId": "a8a76aca-9ea3-4d1c-90e6-bc28ff755997"
      },
      "id": "puF5novhzGeR",
      "execution_count": null,
      "outputs": [
        {
          "output_type": "execute_result",
          "data": {
            "text/plain": [
              "True"
            ]
          },
          "metadata": {},
          "execution_count": 542
        }
      ]
    },
    {
      "cell_type": "markdown",
      "source": [
        "19. Convert a string to title case (e.g., \"hello world\" to \"Hello World\")."
      ],
      "metadata": {
        "id": "fz2gDdW7zWyN"
      },
      "id": "fz2gDdW7zWyN"
    },
    {
      "cell_type": "code",
      "source": [
        "v = \"king cobra\"\n",
        "\n",
        "v.capitalize()"
      ],
      "metadata": {
        "colab": {
          "base_uri": "https://localhost:8080/",
          "height": 35
        },
        "id": "gDFa7UJHzVSn",
        "outputId": "e682a10d-234a-42c7-d378-bc62b84c4923"
      },
      "id": "gDFa7UJHzVSn",
      "execution_count": null,
      "outputs": [
        {
          "output_type": "execute_result",
          "data": {
            "text/plain": [
              "'King cobra'"
            ],
            "application/vnd.google.colaboratory.intrinsic+json": {
              "type": "string"
            }
          },
          "metadata": {},
          "execution_count": 543
        }
      ]
    },
    {
      "cell_type": "markdown",
      "source": [
        "20. Find the longest word in a string."
      ],
      "metadata": {
        "id": "b91LywQ21wAY"
      },
      "id": "b91LywQ21wAY"
    },
    {
      "cell_type": "code",
      "source": [
        "z"
      ],
      "metadata": {
        "colab": {
          "base_uri": "https://localhost:8080/",
          "height": 35
        },
        "id": "L38NBPAB1qOa",
        "outputId": "37ff5304-e274-426a-9f97-e049b7ec017d"
      },
      "id": "L38NBPAB1qOa",
      "execution_count": null,
      "outputs": [
        {
          "output_type": "execute_result",
          "data": {
            "text/plain": [
              "'Tony Stark is the owner of Stark industries'"
            ],
            "application/vnd.google.colaboratory.intrinsic+json": {
              "type": "string"
            }
          },
          "metadata": {},
          "execution_count": 544
        }
      ]
    },
    {
      "cell_type": "code",
      "source": [
        "split_string_z = z.split()\n",
        "\n",
        "max_word_length = []\n",
        "\n",
        "for i in split_string_z:\n",
        "\n",
        "  max_word_length.append(len(i))\n",
        "\n",
        "\n",
        "max(max_word_length)"
      ],
      "metadata": {
        "colab": {
          "base_uri": "https://localhost:8080/"
        },
        "id": "oBAsU1fD2RIu",
        "outputId": "57c10eab-76b2-43db-e6e0-97bf3b256304"
      },
      "id": "oBAsU1fD2RIu",
      "execution_count": null,
      "outputs": [
        {
          "output_type": "execute_result",
          "data": {
            "text/plain": [
              "10"
            ]
          },
          "metadata": {},
          "execution_count": 545
        }
      ]
    },
    {
      "cell_type": "markdown",
      "source": [
        "21. Find the shortest word in a string."
      ],
      "metadata": {
        "id": "OwdzpKfD4Jci"
      },
      "id": "OwdzpKfD4Jci"
    },
    {
      "cell_type": "code",
      "source": [
        "split_string_z = z.split()"
      ],
      "metadata": {
        "id": "4E21_k9a4kMj"
      },
      "id": "4E21_k9a4kMj",
      "execution_count": null,
      "outputs": []
    },
    {
      "cell_type": "code",
      "source": [
        "min_word_length = []\n",
        "\n",
        "for i in split_string_z:\n",
        "\n",
        "  min_word_length.append(len(i))\n",
        "\n",
        "min(min_word_length)"
      ],
      "metadata": {
        "colab": {
          "base_uri": "https://localhost:8080/"
        },
        "id": "fhrrl-RG3no_",
        "outputId": "bd36e8a4-675e-4150-c2a2-d7963cb393f3"
      },
      "id": "fhrrl-RG3no_",
      "execution_count": null,
      "outputs": [
        {
          "output_type": "execute_result",
          "data": {
            "text/plain": [
              "2"
            ]
          },
          "metadata": {},
          "execution_count": 547
        }
      ]
    },
    {
      "cell_type": "markdown",
      "source": [
        "22. Reverse the order of words in a string."
      ],
      "metadata": {
        "id": "3fNELmbA4s5Q"
      },
      "id": "3fNELmbA4s5Q"
    },
    {
      "cell_type": "code",
      "source": [
        "split_string_z = z.split()"
      ],
      "metadata": {
        "id": "rp4YUNLq4g21"
      },
      "id": "rp4YUNLq4g21",
      "execution_count": null,
      "outputs": []
    },
    {
      "cell_type": "code",
      "source": [
        "reverse_split_z = split_string_z[::-1]"
      ],
      "metadata": {
        "id": "UOHGGqh14zLh"
      },
      "id": "UOHGGqh14zLh",
      "execution_count": null,
      "outputs": []
    },
    {
      "cell_type": "code",
      "source": [
        "reverse_split_z"
      ],
      "metadata": {
        "colab": {
          "base_uri": "https://localhost:8080/"
        },
        "id": "1zBQjA1443AO",
        "outputId": "f2267272-e951-40b8-e25d-a628142f2cf6"
      },
      "id": "1zBQjA1443AO",
      "execution_count": null,
      "outputs": [
        {
          "output_type": "execute_result",
          "data": {
            "text/plain": [
              "['industries', 'Stark', 'of', 'owner', 'the', 'is', 'Stark', 'Tony']"
            ]
          },
          "metadata": {},
          "execution_count": 550
        }
      ]
    },
    {
      "cell_type": "code",
      "source": [
        "reverse_z = \" \"\n",
        "\n",
        "reverse_z.join(reverse_split_z)"
      ],
      "metadata": {
        "colab": {
          "base_uri": "https://localhost:8080/",
          "height": 35
        },
        "id": "LwGGLTyP48e3",
        "outputId": "916bd48b-fc8d-41af-b267-d8623a6bd671"
      },
      "id": "LwGGLTyP48e3",
      "execution_count": null,
      "outputs": [
        {
          "output_type": "execute_result",
          "data": {
            "text/plain": [
              "'industries Stark of owner the is Stark Tony'"
            ],
            "application/vnd.google.colaboratory.intrinsic+json": {
              "type": "string"
            }
          },
          "metadata": {},
          "execution_count": 551
        }
      ]
    },
    {
      "cell_type": "markdown",
      "source": [
        "23. Check if a string is alphanumeric."
      ],
      "metadata": {
        "id": "vIAj5oUp5a8p"
      },
      "id": "vIAj5oUp5a8p"
    },
    {
      "cell_type": "code",
      "source": [
        "z"
      ],
      "metadata": {
        "colab": {
          "base_uri": "https://localhost:8080/",
          "height": 35
        },
        "id": "o-MwJUYp5Xqu",
        "outputId": "54d8bd94-f103-4fab-cd75-cdbf63f74541"
      },
      "id": "o-MwJUYp5Xqu",
      "execution_count": null,
      "outputs": [
        {
          "output_type": "execute_result",
          "data": {
            "text/plain": [
              "'Tony Stark is the owner of Stark industries'"
            ],
            "application/vnd.google.colaboratory.intrinsic+json": {
              "type": "string"
            }
          },
          "metadata": {},
          "execution_count": 552
        }
      ]
    },
    {
      "cell_type": "code",
      "source": [
        "z.isalnum()"
      ],
      "metadata": {
        "colab": {
          "base_uri": "https://localhost:8080/"
        },
        "id": "0Z8sSD2_5rrq",
        "outputId": "1be1f0af-ff09-455e-ef1c-3d3354a3a751"
      },
      "id": "0Z8sSD2_5rrq",
      "execution_count": null,
      "outputs": [
        {
          "output_type": "execute_result",
          "data": {
            "text/plain": [
              "False"
            ]
          },
          "metadata": {},
          "execution_count": 553
        }
      ]
    },
    {
      "cell_type": "markdown",
      "source": [
        "24. Extract all digits from a string."
      ],
      "metadata": {
        "id": "AsGoajxO541Q"
      },
      "id": "AsGoajxO541Q"
    },
    {
      "cell_type": "code",
      "source": [
        "ironman = \"Ironman 1 is interesnting than both Ironman 2 and 3\""
      ],
      "metadata": {
        "id": "VCTCP9Vh5yls"
      },
      "id": "VCTCP9Vh5yls",
      "execution_count": null,
      "outputs": []
    },
    {
      "cell_type": "code",
      "source": [
        "digits =  []\n",
        "\n",
        "for i in range(len(ironman)):\n",
        "\n",
        "  if ironman[i].isnumeric():\n",
        "    digits.append(ironman[i])\n",
        "\n",
        "\n",
        "digits"
      ],
      "metadata": {
        "colab": {
          "base_uri": "https://localhost:8080/"
        },
        "id": "laKI9w5C6dAv",
        "outputId": "9e78dbfe-36d0-4fd4-d442-687d0b467ec0"
      },
      "id": "laKI9w5C6dAv",
      "execution_count": null,
      "outputs": [
        {
          "output_type": "execute_result",
          "data": {
            "text/plain": [
              "['1', '2', '3']"
            ]
          },
          "metadata": {},
          "execution_count": 555
        }
      ]
    },
    {
      "cell_type": "markdown",
      "source": [
        "25. Extract all alphabets from a string.\n"
      ],
      "metadata": {
        "id": "q01euxO68csS"
      },
      "id": "q01euxO68csS"
    },
    {
      "cell_type": "code",
      "source": [
        "ironman = \"Ironman 1 is interesnting than both Ironman 2 and 3\""
      ],
      "metadata": {
        "id": "PMlKL-Er71Xu"
      },
      "id": "PMlKL-Er71Xu",
      "execution_count": null,
      "outputs": []
    },
    {
      "cell_type": "code",
      "source": [
        "alphabets =  []\n",
        "\n",
        "for i in range(len(ironman)):\n",
        "\n",
        "  if ironman[i].isalpha():\n",
        "    alphabets.append(ironman[i])\n",
        "\n",
        "\n",
        "alphabets"
      ],
      "metadata": {
        "colab": {
          "base_uri": "https://localhost:8080/"
        },
        "id": "BkTUO4468jLu",
        "outputId": "be2fb29a-2c4c-46cd-dc9a-0f5282572e1b"
      },
      "id": "BkTUO4468jLu",
      "execution_count": null,
      "outputs": [
        {
          "output_type": "execute_result",
          "data": {
            "text/plain": [
              "['I',\n",
              " 'r',\n",
              " 'o',\n",
              " 'n',\n",
              " 'm',\n",
              " 'a',\n",
              " 'n',\n",
              " 'i',\n",
              " 's',\n",
              " 'i',\n",
              " 'n',\n",
              " 't',\n",
              " 'e',\n",
              " 'r',\n",
              " 'e',\n",
              " 's',\n",
              " 'n',\n",
              " 't',\n",
              " 'i',\n",
              " 'n',\n",
              " 'g',\n",
              " 't',\n",
              " 'h',\n",
              " 'a',\n",
              " 'n',\n",
              " 'b',\n",
              " 'o',\n",
              " 't',\n",
              " 'h',\n",
              " 'I',\n",
              " 'r',\n",
              " 'o',\n",
              " 'n',\n",
              " 'm',\n",
              " 'a',\n",
              " 'n',\n",
              " 'a',\n",
              " 'n',\n",
              " 'd']"
            ]
          },
          "metadata": {},
          "execution_count": 557
        }
      ]
    },
    {
      "cell_type": "markdown",
      "source": [
        "26. Count the number of uppercase letters in a string."
      ],
      "metadata": {
        "id": "yjskCyC483EN"
      },
      "id": "yjskCyC483EN"
    },
    {
      "cell_type": "code",
      "source": [
        "ironman = \"Ironman 1 Is Interesnting Than Both Ironman 2 and 3\""
      ],
      "metadata": {
        "id": "Gp2dvkvK8to3"
      },
      "id": "Gp2dvkvK8to3",
      "execution_count": null,
      "outputs": []
    },
    {
      "cell_type": "code",
      "source": [
        "no_of_uppercase_letters = 0\n",
        "\n",
        "for i in range(len(ironman)):\n",
        "\n",
        "  if ironman[i].istitle():\n",
        "\n",
        "    no_of_uppercase_letters += 1\n",
        "\n",
        "no_of_uppercase_letters"
      ],
      "metadata": {
        "colab": {
          "base_uri": "https://localhost:8080/"
        },
        "id": "KAohbFf0-C10",
        "outputId": "2a747195-bbce-4648-fb4c-ec209037a0b4"
      },
      "id": "KAohbFf0-C10",
      "execution_count": null,
      "outputs": [
        {
          "output_type": "execute_result",
          "data": {
            "text/plain": [
              "6"
            ]
          },
          "metadata": {},
          "execution_count": 559
        }
      ]
    },
    {
      "cell_type": "markdown",
      "source": [
        "27. Count the number of lowercase letters in a string."
      ],
      "metadata": {
        "id": "hjoTDKuO_Lhg"
      },
      "id": "hjoTDKuO_Lhg"
    },
    {
      "cell_type": "code",
      "source": [
        "ironman = \"Ironman 1 Is Interesnting Than Both Ironman 2 and 3\""
      ],
      "metadata": {
        "id": "oPTy-Xwm-tCs"
      },
      "id": "oPTy-Xwm-tCs",
      "execution_count": null,
      "outputs": []
    },
    {
      "cell_type": "code",
      "source": [
        "no_of_lowercase_letters = 0\n",
        "\n",
        "for i in range(len(ironman)):\n",
        "\n",
        "  if ironman[i].islower():\n",
        "\n",
        "    no_of_lowercase_letters += 1\n",
        "\n",
        "no_of_lowercase_letters"
      ],
      "metadata": {
        "colab": {
          "base_uri": "https://localhost:8080/"
        },
        "id": "zMwW5psU_a10",
        "outputId": "e760f5bc-3f7e-4dac-a531-584e8cbfa190"
      },
      "id": "zMwW5psU_a10",
      "execution_count": null,
      "outputs": [
        {
          "output_type": "execute_result",
          "data": {
            "text/plain": [
              "33"
            ]
          },
          "metadata": {},
          "execution_count": 561
        }
      ]
    },
    {
      "cell_type": "markdown",
      "source": [
        "28. Swap the case of each character in a string."
      ],
      "metadata": {
        "id": "ZHl9-YzGAHxX"
      },
      "id": "ZHl9-YzGAHxX"
    },
    {
      "cell_type": "code",
      "source": [
        "ironman = \"Ironman 1 Is Interesnting Than Both Ironman 2 and 3\""
      ],
      "metadata": {
        "id": "9jGIPquv_4nL"
      },
      "id": "9jGIPquv_4nL",
      "execution_count": null,
      "outputs": []
    },
    {
      "cell_type": "code",
      "source": [
        "ironman.swapcase()\n"
      ],
      "metadata": {
        "colab": {
          "base_uri": "https://localhost:8080/",
          "height": 35
        },
        "id": "pH0KDoCqECcF",
        "outputId": "27f7b89f-8a17-49ca-fbee-f5107a7f6f8c"
      },
      "id": "pH0KDoCqECcF",
      "execution_count": null,
      "outputs": [
        {
          "output_type": "execute_result",
          "data": {
            "text/plain": [
              "'iRONMAN 1 iS iNTERESNTING tHAN bOTH iRONMAN 2 AND 3'"
            ],
            "application/vnd.google.colaboratory.intrinsic+json": {
              "type": "string"
            }
          },
          "metadata": {},
          "execution_count": 563
        }
      ]
    },
    {
      "cell_type": "markdown",
      "source": [
        "29. Remove a specific word from a string."
      ],
      "metadata": {
        "id": "FWrhR8y0KjMB"
      },
      "id": "FWrhR8y0KjMB"
    },
    {
      "cell_type": "code",
      "source": [
        "ironman"
      ],
      "metadata": {
        "colab": {
          "base_uri": "https://localhost:8080/",
          "height": 35
        },
        "id": "-cICMKevGGNh",
        "outputId": "ebebab75-120f-405e-a96e-9f53177d61eb"
      },
      "id": "-cICMKevGGNh",
      "execution_count": null,
      "outputs": [
        {
          "output_type": "execute_result",
          "data": {
            "text/plain": [
              "'Ironman 1 Is Interesnting Than Both Ironman 2 and 3'"
            ],
            "application/vnd.google.colaboratory.intrinsic+json": {
              "type": "string"
            }
          },
          "metadata": {},
          "execution_count": 564
        }
      ]
    },
    {
      "cell_type": "code",
      "source": [
        "split_ironman = ironman.split()\n",
        "\n",
        "split_ironman.remove(\"Both\")\n",
        "\n",
        "\" \".join(split_ironman)"
      ],
      "metadata": {
        "colab": {
          "base_uri": "https://localhost:8080/",
          "height": 35
        },
        "id": "2uYwTaAmKoiM",
        "outputId": "39b59a2b-00fe-4ce8-8c13-259e980840e1"
      },
      "id": "2uYwTaAmKoiM",
      "execution_count": null,
      "outputs": [
        {
          "output_type": "execute_result",
          "data": {
            "text/plain": [
              "'Ironman 1 Is Interesnting Than Ironman 2 and 3'"
            ],
            "application/vnd.google.colaboratory.intrinsic+json": {
              "type": "string"
            }
          },
          "metadata": {},
          "execution_count": 565
        }
      ]
    },
    {
      "cell_type": "markdown",
      "source": [
        "30. Check if a string is a valid email address."
      ],
      "metadata": {
        "id": "lsTQoMxRMeEy"
      },
      "id": "lsTQoMxRMeEy"
    },
    {
      "cell_type": "code",
      "source": [
        "import re\n",
        "\n",
        "email1 = \"tonystark@starkindustries.com\"\n",
        "\n",
        "email2 = \"tonystark.starkindustries.com2\""
      ],
      "metadata": {
        "id": "6jPpo0RhKvgQ"
      },
      "id": "6jPpo0RhKvgQ",
      "execution_count": null,
      "outputs": []
    },
    {
      "cell_type": "code",
      "source": [
        "def email_validity_check(email):\n",
        "\n",
        "  pattern = r'^(\\w+)+@(\\w+)+\\.(\\w{2,})'\n",
        "\n",
        "  if re.match(pattern, email):\n",
        "\n",
        "    print(f'{email} is a valid email address format')\n",
        "\n",
        "  else:\n",
        "\n",
        "    print(f'{email} is not a valid address')\n"
      ],
      "metadata": {
        "id": "le7S4v1-zKjn"
      },
      "id": "le7S4v1-zKjn",
      "execution_count": null,
      "outputs": []
    },
    {
      "cell_type": "code",
      "source": [
        "email_validity_check(email1)"
      ],
      "metadata": {
        "colab": {
          "base_uri": "https://localhost:8080/"
        },
        "id": "Hddg3cpmzRzD",
        "outputId": "0b7c161b-9b52-4354-862e-48d2ccc476e5"
      },
      "id": "Hddg3cpmzRzD",
      "execution_count": null,
      "outputs": [
        {
          "output_type": "stream",
          "name": "stdout",
          "text": [
            "tonystark@starkindustries.com is a valid email address format\n"
          ]
        }
      ]
    },
    {
      "cell_type": "code",
      "source": [
        "email_validity_check(email2)"
      ],
      "metadata": {
        "colab": {
          "base_uri": "https://localhost:8080/"
        },
        "id": "SHpbjqeqQz8K",
        "outputId": "c969d8f6-d66f-4805-9176-3ebf81164607"
      },
      "id": "SHpbjqeqQz8K",
      "execution_count": null,
      "outputs": [
        {
          "output_type": "stream",
          "name": "stdout",
          "text": [
            "tonystark.starkindustries.com2 is not a valid address\n"
          ]
        }
      ]
    },
    {
      "cell_type": "markdown",
      "source": [
        "31. Extract the username from an email address string."
      ],
      "metadata": {
        "id": "MArsmrO7RIik"
      },
      "id": "MArsmrO7RIik"
    },
    {
      "cell_type": "code",
      "source": [
        "email_3 = \"tony_stark3@startindustries.com\""
      ],
      "metadata": {
        "id": "J68tMsnUQ3I4"
      },
      "id": "J68tMsnUQ3I4",
      "execution_count": null,
      "outputs": []
    },
    {
      "cell_type": "markdown",
      "source": [
        "Method A"
      ],
      "metadata": {
        "id": "2ja3FaR1SSIx"
      },
      "id": "2ja3FaR1SSIx"
    },
    {
      "cell_type": "code",
      "source": [
        "def username_extract_split(email):\n",
        "\n",
        "  email_split = email.split('@')\n",
        "\n",
        "  return email_split[0]\n"
      ],
      "metadata": {
        "id": "5XmekeryRRyW"
      },
      "id": "5XmekeryRRyW",
      "execution_count": null,
      "outputs": []
    },
    {
      "cell_type": "code",
      "source": [
        "username_extract_split(email_3)"
      ],
      "metadata": {
        "colab": {
          "base_uri": "https://localhost:8080/",
          "height": 35
        },
        "id": "vGQugNlRRXxY",
        "outputId": "ea378f7f-500d-455f-97f7-0c2c5d2fa36f"
      },
      "id": "vGQugNlRRXxY",
      "execution_count": null,
      "outputs": [
        {
          "output_type": "execute_result",
          "data": {
            "text/plain": [
              "'tony_stark3'"
            ],
            "application/vnd.google.colaboratory.intrinsic+json": {
              "type": "string"
            }
          },
          "metadata": {},
          "execution_count": 572
        }
      ]
    },
    {
      "cell_type": "markdown",
      "source": [
        "Method B"
      ],
      "metadata": {
        "id": "MPzZsUJbS_P4"
      },
      "id": "MPzZsUJbS_P4"
    },
    {
      "cell_type": "code",
      "source": [
        "import re\n",
        "\n",
        "def username_extract_re(email):\n",
        "\n",
        "  pattern = r'(\\w+)@'\n",
        "\n",
        "  match = re.search(pattern, email)\n",
        "\n",
        "  if match:\n",
        "\n",
        "    username = match.group(1)\n",
        "\n",
        "    print(f'Username: {username}')\n",
        "\n",
        "  else:\n",
        "\n",
        "    print(f'Username not found')\n",
        "\n"
      ],
      "metadata": {
        "id": "a4Z5PnD9S8_-"
      },
      "id": "a4Z5PnD9S8_-",
      "execution_count": null,
      "outputs": []
    },
    {
      "cell_type": "code",
      "source": [
        "username_extract_re(email_3)"
      ],
      "metadata": {
        "colab": {
          "base_uri": "https://localhost:8080/"
        },
        "id": "d2mOWW_7T4RW",
        "outputId": "e6dd0931-9e87-4416-9166-9a0237548098"
      },
      "id": "d2mOWW_7T4RW",
      "execution_count": null,
      "outputs": [
        {
          "output_type": "stream",
          "name": "stdout",
          "text": [
            "Username: tony_stark3\n"
          ]
        }
      ]
    },
    {
      "cell_type": "markdown",
      "source": [
        "32. Extract the domain name from an email address string."
      ],
      "metadata": {
        "id": "G08iy0TrYpCl"
      },
      "id": "G08iy0TrYpCl"
    },
    {
      "cell_type": "code",
      "source": [
        "import re\n",
        "\n",
        "def extract_domain(email):\n",
        "\n",
        "  pattern = r'@(\\w+)\\.'\n",
        "\n",
        "  domain_search = re.search(pattern, email)\n",
        "\n",
        "  print(domain_search.group(1))\n"
      ],
      "metadata": {
        "id": "hRNvO05wT7yz"
      },
      "id": "hRNvO05wT7yz",
      "execution_count": null,
      "outputs": []
    },
    {
      "cell_type": "code",
      "source": [
        "extract_domain(email_3)"
      ],
      "metadata": {
        "colab": {
          "base_uri": "https://localhost:8080/"
        },
        "id": "CsYe2D5mbE7m",
        "outputId": "381532e8-15cd-4b42-cbdc-0e007fac11ca"
      },
      "id": "CsYe2D5mbE7m",
      "execution_count": null,
      "outputs": [
        {
          "output_type": "stream",
          "name": "stdout",
          "text": [
            "startindustries\n"
          ]
        }
      ]
    },
    {
      "cell_type": "markdown",
      "source": [
        "33. Replace multiple spaces in a string with a single space."
      ],
      "metadata": {
        "id": "RlQ2UVNPd9K3"
      },
      "id": "RlQ2UVNPd9K3"
    },
    {
      "cell_type": "code",
      "source": [
        "string_4 = 'Pepper potts   is the     wife of    Tony stark and CEO of     Stark industries'"
      ],
      "metadata": {
        "id": "IgvZPNQzc7Qc"
      },
      "id": "IgvZPNQzc7Qc",
      "execution_count": null,
      "outputs": []
    },
    {
      "cell_type": "code",
      "source": [
        "def replace_mutilple_spaces(string):\n",
        "\n",
        "  pattern = r'\\s+'\n",
        "\n",
        "  string_with_single_spaces = re.sub(pattern, \" \", string)\n",
        "\n",
        "  return string_with_single_spaces\n",
        "\n"
      ],
      "metadata": {
        "id": "WFslL5bbfcqi"
      },
      "id": "WFslL5bbfcqi",
      "execution_count": null,
      "outputs": []
    },
    {
      "cell_type": "code",
      "source": [
        "replace_mutilple_spaces(string_4)"
      ],
      "metadata": {
        "colab": {
          "base_uri": "https://localhost:8080/",
          "height": 35
        },
        "id": "DCuZ9-WVhoc0",
        "outputId": "e1c40048-b300-45a9-8908-b1bb3a2508de"
      },
      "id": "DCuZ9-WVhoc0",
      "execution_count": null,
      "outputs": [
        {
          "output_type": "execute_result",
          "data": {
            "text/plain": [
              "'Pepper potts is the wife of Tony stark and CEO of Stark industries'"
            ],
            "application/vnd.google.colaboratory.intrinsic+json": {
              "type": "string"
            }
          },
          "metadata": {},
          "execution_count": 579
        }
      ]
    },
    {
      "cell_type": "markdown",
      "source": [
        "34. Check if a string is a valid URL."
      ],
      "metadata": {
        "id": "LEDd8-qHhwTk"
      },
      "id": "LEDd8-qHhwTk"
    },
    {
      "cell_type": "code",
      "source": [
        "import re\n",
        "\n",
        "def valid_url(url):\n",
        "\n",
        "  pattern = r'^(www\\.)+(\\w+)\\.+(\\w+)$'\n",
        "\n",
        "  if re.match(pattern, url):\n",
        "\n",
        "    print(f'The given url is valid')\n",
        "\n",
        "  else:\n",
        "\n",
        "    print(f'The given url is not valid')\n"
      ],
      "metadata": {
        "id": "IItrO38ThrPq"
      },
      "id": "IItrO38ThrPq",
      "execution_count": null,
      "outputs": []
    },
    {
      "cell_type": "code",
      "source": [
        "url1 = 'www.google.com'\n",
        "\n",
        "url2 = 'ww.starkinstriescom'\n",
        "\n",
        "valid_url(url1)"
      ],
      "metadata": {
        "colab": {
          "base_uri": "https://localhost:8080/"
        },
        "id": "jpf2y_NfjFP0",
        "outputId": "5743a8c4-9806-41a9-ab94-230bb77cb8cb"
      },
      "id": "jpf2y_NfjFP0",
      "execution_count": null,
      "outputs": [
        {
          "output_type": "stream",
          "name": "stdout",
          "text": [
            "The given url is valid\n"
          ]
        }
      ]
    },
    {
      "cell_type": "code",
      "source": [
        "valid_url(url2)"
      ],
      "metadata": {
        "colab": {
          "base_uri": "https://localhost:8080/"
        },
        "id": "VsTQfDeOjd0i",
        "outputId": "e56e0264-de25-4f31-f9a4-68790e6b6e67"
      },
      "id": "VsTQfDeOjd0i",
      "execution_count": null,
      "outputs": [
        {
          "output_type": "stream",
          "name": "stdout",
          "text": [
            "The given url is not valid\n"
          ]
        }
      ]
    },
    {
      "cell_type": "markdown",
      "source": [
        "35. Extract the protocol (http or https) from a URL string."
      ],
      "metadata": {
        "id": "KeuT4KtvjnA-"
      },
      "id": "KeuT4KtvjnA-"
    },
    {
      "cell_type": "code",
      "source": [
        "import re\n",
        "\n",
        "def protocol_extract(url):\n",
        "\n",
        "  pattern = r'(\\w+)://'\n",
        "\n",
        "  protocol_search = re.search(pattern, url)\n",
        "\n",
        "  protocol = protocol_search.group(1)\n",
        "\n",
        "  print(protocol)\n"
      ],
      "metadata": {
        "id": "zOjXe8aojjEK"
      },
      "id": "zOjXe8aojjEK",
      "execution_count": null,
      "outputs": []
    },
    {
      "cell_type": "code",
      "source": [
        "url1 = \"https://www.youtube.com\"\n",
        "\n",
        "\n",
        "protocol_extract(url1)\n",
        "\n"
      ],
      "metadata": {
        "colab": {
          "base_uri": "https://localhost:8080/"
        },
        "id": "8pxrX76lmtn4",
        "outputId": "139e0dbb-c4aa-419b-e113-a5083e3f0b71"
      },
      "id": "8pxrX76lmtn4",
      "execution_count": null,
      "outputs": [
        {
          "output_type": "stream",
          "name": "stdout",
          "text": [
            "https\n"
          ]
        }
      ]
    },
    {
      "cell_type": "markdown",
      "source": [
        "36. Find the frequency of each character in a string."
      ],
      "metadata": {
        "id": "W0-v2NAyn7xT"
      },
      "id": "W0-v2NAyn7xT"
    },
    {
      "cell_type": "code",
      "source": [
        "string_5 = 'Effervescent jugglers juggle perplexing juxtapositions of colorful balloons while riding unicycles.'"
      ],
      "metadata": {
        "id": "1PuPKKHlnQvP"
      },
      "id": "1PuPKKHlnQvP",
      "execution_count": null,
      "outputs": []
    },
    {
      "cell_type": "code",
      "source": [
        "for i in string_5:\n",
        "\n",
        "  print(f'Frequency of {i} in the given string is {string_5.count(i)}')\n",
        "\n"
      ],
      "metadata": {
        "colab": {
          "base_uri": "https://localhost:8080/"
        },
        "id": "GZqPC3vTopVg",
        "outputId": "50f96d2b-3cac-4a9b-c71b-5e8e931f1617"
      },
      "id": "GZqPC3vTopVg",
      "execution_count": null,
      "outputs": [
        {
          "output_type": "stream",
          "name": "stdout",
          "text": [
            "Frequency of E in the given string is 1\n",
            "Frequency of f in the given string is 4\n",
            "Frequency of f in the given string is 4\n",
            "Frequency of e in the given string is 9\n",
            "Frequency of r in the given string is 5\n",
            "Frequency of v in the given string is 1\n",
            "Frequency of e in the given string is 9\n",
            "Frequency of s in the given string is 6\n",
            "Frequency of c in the given string is 4\n",
            "Frequency of e in the given string is 9\n",
            "Frequency of n in the given string is 6\n",
            "Frequency of t in the given string is 3\n",
            "Frequency of   in the given string is 10\n",
            "Frequency of j in the given string is 3\n",
            "Frequency of u in the given string is 5\n",
            "Frequency of g in the given string is 6\n",
            "Frequency of g in the given string is 6\n",
            "Frequency of l in the given string is 9\n",
            "Frequency of e in the given string is 9\n",
            "Frequency of r in the given string is 5\n",
            "Frequency of s in the given string is 6\n",
            "Frequency of   in the given string is 10\n",
            "Frequency of j in the given string is 3\n",
            "Frequency of u in the given string is 5\n",
            "Frequency of g in the given string is 6\n",
            "Frequency of g in the given string is 6\n",
            "Frequency of l in the given string is 9\n",
            "Frequency of e in the given string is 9\n",
            "Frequency of   in the given string is 10\n",
            "Frequency of p in the given string is 3\n",
            "Frequency of e in the given string is 9\n",
            "Frequency of r in the given string is 5\n",
            "Frequency of p in the given string is 3\n",
            "Frequency of l in the given string is 9\n",
            "Frequency of e in the given string is 9\n",
            "Frequency of x in the given string is 2\n",
            "Frequency of i in the given string is 7\n",
            "Frequency of n in the given string is 6\n",
            "Frequency of g in the given string is 6\n",
            "Frequency of   in the given string is 10\n",
            "Frequency of j in the given string is 3\n",
            "Frequency of u in the given string is 5\n",
            "Frequency of x in the given string is 2\n",
            "Frequency of t in the given string is 3\n",
            "Frequency of a in the given string is 2\n",
            "Frequency of p in the given string is 3\n",
            "Frequency of o in the given string is 7\n",
            "Frequency of s in the given string is 6\n",
            "Frequency of i in the given string is 7\n",
            "Frequency of t in the given string is 3\n",
            "Frequency of i in the given string is 7\n",
            "Frequency of o in the given string is 7\n",
            "Frequency of n in the given string is 6\n",
            "Frequency of s in the given string is 6\n",
            "Frequency of   in the given string is 10\n",
            "Frequency of o in the given string is 7\n",
            "Frequency of f in the given string is 4\n",
            "Frequency of   in the given string is 10\n",
            "Frequency of c in the given string is 4\n",
            "Frequency of o in the given string is 7\n",
            "Frequency of l in the given string is 9\n",
            "Frequency of o in the given string is 7\n",
            "Frequency of r in the given string is 5\n",
            "Frequency of f in the given string is 4\n",
            "Frequency of u in the given string is 5\n",
            "Frequency of l in the given string is 9\n",
            "Frequency of   in the given string is 10\n",
            "Frequency of b in the given string is 1\n",
            "Frequency of a in the given string is 2\n",
            "Frequency of l in the given string is 9\n",
            "Frequency of l in the given string is 9\n",
            "Frequency of o in the given string is 7\n",
            "Frequency of o in the given string is 7\n",
            "Frequency of n in the given string is 6\n",
            "Frequency of s in the given string is 6\n",
            "Frequency of   in the given string is 10\n",
            "Frequency of w in the given string is 1\n",
            "Frequency of h in the given string is 1\n",
            "Frequency of i in the given string is 7\n",
            "Frequency of l in the given string is 9\n",
            "Frequency of e in the given string is 9\n",
            "Frequency of   in the given string is 10\n",
            "Frequency of r in the given string is 5\n",
            "Frequency of i in the given string is 7\n",
            "Frequency of d in the given string is 1\n",
            "Frequency of i in the given string is 7\n",
            "Frequency of n in the given string is 6\n",
            "Frequency of g in the given string is 6\n",
            "Frequency of   in the given string is 10\n",
            "Frequency of u in the given string is 5\n",
            "Frequency of n in the given string is 6\n",
            "Frequency of i in the given string is 7\n",
            "Frequency of c in the given string is 4\n",
            "Frequency of y in the given string is 1\n",
            "Frequency of c in the given string is 4\n",
            "Frequency of l in the given string is 9\n",
            "Frequency of e in the given string is 9\n",
            "Frequency of s in the given string is 6\n",
            "Frequency of . in the given string is 1\n"
          ]
        }
      ]
    },
    {
      "cell_type": "markdown",
      "source": [
        "37. Remove all punctuation from a string."
      ],
      "metadata": {
        "id": "OHjpYuGhs9e6"
      },
      "id": "OHjpYuGhs9e6"
    },
    {
      "cell_type": "code",
      "source": [
        "string_6 = \"The quick brown fox jumps over the lazy dog! Did you see that? It's amazing! Wow, what a beautiful day.\""
      ],
      "metadata": {
        "id": "6vcBDElPsccu"
      },
      "id": "6vcBDElPsccu",
      "execution_count": null,
      "outputs": []
    },
    {
      "cell_type": "code",
      "source": [
        "def remove_punctuation(string_input):\n",
        "\n",
        "  import string\n",
        "\n",
        "  translation_table = str.maketrans(\"\",\"\",string.punctuation)\n",
        "\n",
        "  punctuation_removed = string_input.translate(translation_table)\n",
        "\n",
        "  return punctuation_removed"
      ],
      "metadata": {
        "id": "XE8v2Crgy71-"
      },
      "id": "XE8v2Crgy71-",
      "execution_count": null,
      "outputs": []
    },
    {
      "cell_type": "code",
      "source": [
        "remove_punctuation(string_6)"
      ],
      "metadata": {
        "colab": {
          "base_uri": "https://localhost:8080/",
          "height": 35
        },
        "id": "t1OXQ1rE1SjQ",
        "outputId": "23fbf3c8-5777-461c-8ed7-c744485ca4f0"
      },
      "id": "t1OXQ1rE1SjQ",
      "execution_count": null,
      "outputs": [
        {
          "output_type": "execute_result",
          "data": {
            "text/plain": [
              "'The quick brown fox jumps over the lazy dog Did you see that Its amazing Wow what a beautiful day'"
            ],
            "application/vnd.google.colaboratory.intrinsic+json": {
              "type": "string"
            }
          },
          "metadata": {},
          "execution_count": 589
        }
      ]
    },
    {
      "cell_type": "markdown",
      "source": [
        "38. Check if a string contains only digits."
      ],
      "metadata": {
        "id": "DOYPF8Gx_feW"
      },
      "id": "DOYPF8Gx_feW"
    },
    {
      "cell_type": "code",
      "source": [
        "string_7 = \"1234456789\"\n",
        "\n",
        "string_7.isdigit()"
      ],
      "metadata": {
        "colab": {
          "base_uri": "https://localhost:8080/"
        },
        "id": "l_HM4_pk_WgP",
        "outputId": "c4aab582-3877-4dce-ec2a-38801ded411d"
      },
      "id": "l_HM4_pk_WgP",
      "execution_count": null,
      "outputs": [
        {
          "output_type": "execute_result",
          "data": {
            "text/plain": [
              "True"
            ]
          },
          "metadata": {},
          "execution_count": 590
        }
      ]
    },
    {
      "cell_type": "markdown",
      "source": [
        "39. Check if a string contains only alphabets."
      ],
      "metadata": {
        "id": "9Sk7P5i3_5x2"
      },
      "id": "9Sk7P5i3_5x2"
    },
    {
      "cell_type": "code",
      "source": [
        "string_8 = \"Ilovemangoes\""
      ],
      "metadata": {
        "id": "CdgOiroHAtBn"
      },
      "id": "CdgOiroHAtBn",
      "execution_count": null,
      "outputs": []
    },
    {
      "cell_type": "code",
      "source": [
        "string_8.isalpha()"
      ],
      "metadata": {
        "colab": {
          "base_uri": "https://localhost:8080/"
        },
        "id": "vzpErJlyAtfn",
        "outputId": "3e30aadc-8784-4217-8bd9-6d45a0aabbfd"
      },
      "id": "vzpErJlyAtfn",
      "execution_count": null,
      "outputs": [
        {
          "output_type": "execute_result",
          "data": {
            "text/plain": [
              "True"
            ]
          },
          "metadata": {},
          "execution_count": 592
        }
      ]
    },
    {
      "cell_type": "markdown",
      "source": [
        "40. Convert a string to a list of characters."
      ],
      "metadata": {
        "id": "M4QMLGdzAwZx"
      },
      "id": "M4QMLGdzAwZx"
    },
    {
      "cell_type": "code",
      "source": [
        "string_6"
      ],
      "metadata": {
        "colab": {
          "base_uri": "https://localhost:8080/",
          "height": 35
        },
        "id": "sp5p3bGjAvnF",
        "outputId": "3d877b6c-fa50-4527-b905-42f26939466c"
      },
      "id": "sp5p3bGjAvnF",
      "execution_count": null,
      "outputs": [
        {
          "output_type": "execute_result",
          "data": {
            "text/plain": [
              "\"The quick brown fox jumps over the lazy dog! Did you see that? It's amazing! Wow, what a beautiful day.\""
            ],
            "application/vnd.google.colaboratory.intrinsic+json": {
              "type": "string"
            }
          },
          "metadata": {},
          "execution_count": 593
        }
      ]
    },
    {
      "cell_type": "code",
      "source": [
        "string_list  = string_6.split()\n",
        "\n",
        "string_list"
      ],
      "metadata": {
        "colab": {
          "base_uri": "https://localhost:8080/"
        },
        "id": "9GRec6VLA5ev",
        "outputId": "451fe6d0-f2c4-4cb1-dbd2-2442bcdf2532"
      },
      "id": "9GRec6VLA5ev",
      "execution_count": null,
      "outputs": [
        {
          "output_type": "execute_result",
          "data": {
            "text/plain": [
              "['The',\n",
              " 'quick',\n",
              " 'brown',\n",
              " 'fox',\n",
              " 'jumps',\n",
              " 'over',\n",
              " 'the',\n",
              " 'lazy',\n",
              " 'dog!',\n",
              " 'Did',\n",
              " 'you',\n",
              " 'see',\n",
              " 'that?',\n",
              " \"It's\",\n",
              " 'amazing!',\n",
              " 'Wow,',\n",
              " 'what',\n",
              " 'a',\n",
              " 'beautiful',\n",
              " 'day.']"
            ]
          },
          "metadata": {},
          "execution_count": 594
        }
      ]
    },
    {
      "cell_type": "markdown",
      "source": [
        "41. Check if two strings are anagrams."
      ],
      "metadata": {
        "id": "Y3z1mXOUBGK9"
      },
      "id": "Y3z1mXOUBGK9"
    },
    {
      "cell_type": "code",
      "source": [
        "anagram1 = \"astronomer\"\n",
        "\n",
        "anagram2 = \"moon starer\""
      ],
      "metadata": {
        "id": "a0_c7YeLA-ws"
      },
      "id": "a0_c7YeLA-ws",
      "execution_count": null,
      "outputs": []
    },
    {
      "cell_type": "code",
      "source": [
        "def anagram_check(anagram1, anagram2):\n",
        "\n",
        "  clean_anagram1 = anagram1.replace(\" \", \"\").lower()\n",
        "\n",
        "  clean_anagram2 = anagram2.replace(\" \",\"\").lower()\n",
        "\n",
        "  anagram1_char_occ = {}\n",
        "\n",
        "  anagram2_char_occ = {}\n",
        "\n",
        "  for i in clean_anagram1:\n",
        "\n",
        "    anagram1_char_occ.update({i:clean_anagram1.count(i)})\n",
        "\n",
        "\n",
        "  for i in clean_anagram2:\n",
        "\n",
        "    anagram2_char_occ.update({i:clean_anagram2.count(i)})\n",
        "\n",
        "\n",
        "  if anagram1_char_occ == anagram2_char_occ:\n",
        "\n",
        "    print('The given words are anagrams')\n",
        "\n",
        "  else:\n",
        "\n",
        "    print('The given words are not anagrams')\n"
      ],
      "metadata": {
        "id": "sEBYA5XdCVC2"
      },
      "id": "sEBYA5XdCVC2",
      "execution_count": null,
      "outputs": []
    },
    {
      "cell_type": "code",
      "source": [
        "anagram_check(anagram1,anagram2)"
      ],
      "metadata": {
        "colab": {
          "base_uri": "https://localhost:8080/"
        },
        "id": "-JxQaTzaGoBA",
        "outputId": "eda9f77d-9643-452a-86d5-ed53169d1de7"
      },
      "id": "-JxQaTzaGoBA",
      "execution_count": null,
      "outputs": [
        {
          "output_type": "stream",
          "name": "stdout",
          "text": [
            "The given words are anagrams\n"
          ]
        }
      ]
    },
    {
      "cell_type": "code",
      "source": [
        "anagram3 = \"Tony stark\"\n",
        "\n",
        "anagram4 = \"Pepper pots\""
      ],
      "metadata": {
        "id": "3Tc5EIubGtDf"
      },
      "id": "3Tc5EIubGtDf",
      "execution_count": null,
      "outputs": []
    },
    {
      "cell_type": "code",
      "source": [
        "anagram_check(anagram3, anagram4)"
      ],
      "metadata": {
        "colab": {
          "base_uri": "https://localhost:8080/"
        },
        "id": "1jh8NKVmHPUj",
        "outputId": "376a8d74-8447-4888-f052-b8e298698efd"
      },
      "id": "1jh8NKVmHPUj",
      "execution_count": null,
      "outputs": [
        {
          "output_type": "stream",
          "name": "stdout",
          "text": [
            "The given words are not anagrams\n"
          ]
        }
      ]
    },
    {
      "cell_type": "markdown",
      "source": [
        "42. Encode a string using a Caesar cipher."
      ],
      "metadata": {
        "id": "hHJIaqdDHaQE"
      },
      "id": "hHJIaqdDHaQE"
    },
    {
      "cell_type": "code",
      "source": [
        "def ceasar_cipher_encode(text, shift):\n",
        "\n",
        "  encoaded_text = \"\"\n",
        "\n",
        "  for char in text:\n",
        "\n",
        "    if char.isalpha():\n",
        "\n",
        "\n",
        "      if char.isupper():\n",
        "\n",
        "        encoaded_char = chr(((ord(char) + shift - ord('A')) % 26) + ord('A'))\n",
        "\n",
        "      else:\n",
        "\n",
        "        encoaded_char = chr(((ord(char) + shift - ord('a')) % 26) + ord('a'))\n",
        "\n",
        "\n",
        "      encoaded_text += encoaded_char\n",
        "\n",
        "\n",
        "    else:\n",
        "\n",
        "      encoaded_text += char\n",
        "\n",
        "\n",
        "  return encoaded_text"
      ],
      "metadata": {
        "id": "AM6kTQAiHUIx"
      },
      "id": "AM6kTQAiHUIx",
      "execution_count": null,
      "outputs": []
    },
    {
      "cell_type": "code",
      "source": [
        "text = 'AaAa'\n",
        "\n",
        "ceasar_cipher_encode(text, 4)"
      ],
      "metadata": {
        "colab": {
          "base_uri": "https://localhost:8080/",
          "height": 35
        },
        "id": "VuzRRXh07sEt",
        "outputId": "cd355abf-8bf6-44ee-8d3d-b626f2e123a8"
      },
      "id": "VuzRRXh07sEt",
      "execution_count": null,
      "outputs": [
        {
          "output_type": "execute_result",
          "data": {
            "text/plain": [
              "'EeEe'"
            ],
            "application/vnd.google.colaboratory.intrinsic+json": {
              "type": "string"
            }
          },
          "metadata": {},
          "execution_count": 601
        }
      ]
    },
    {
      "cell_type": "markdown",
      "source": [
        "43. Decode a Caesar cipher encoded string."
      ],
      "metadata": {
        "id": "tV_v6mycSI1o"
      },
      "id": "tV_v6mycSI1o"
    },
    {
      "cell_type": "code",
      "source": [
        "def ceasar_cipher_decode(text, shift):\n",
        "\n",
        "  encoaded_text = \"\"\n",
        "\n",
        "  for char in text:\n",
        "\n",
        "    if char.isalpha():\n",
        "\n",
        "\n",
        "      if char.isupper():\n",
        "\n",
        "        encoaded_char = chr(((ord(char) - shift - ord('A')) % 26) + ord('A'))\n",
        "\n",
        "\n",
        "\n",
        "      else:\n",
        "\n",
        "        encoaded_char = chr(((ord(char) - shift - ord('a')) % 26) + ord('a'))\n",
        "\n",
        "\n",
        "      encoaded_text += encoaded_char\n",
        "\n",
        "\n",
        "    else:\n",
        "\n",
        "      encoaded_text += char\n",
        "\n",
        "\n",
        "  return encoaded_text"
      ],
      "metadata": {
        "id": "MPj4MBO4SHYJ"
      },
      "id": "MPj4MBO4SHYJ",
      "execution_count": null,
      "outputs": []
    },
    {
      "cell_type": "code",
      "source": [
        "ceasar_cipher_decode('aaa', 3)"
      ],
      "metadata": {
        "colab": {
          "base_uri": "https://localhost:8080/",
          "height": 35
        },
        "id": "VYo4BN7sUkxB",
        "outputId": "fc2df5dc-d54c-4c8d-d4ca-062d06db3e35"
      },
      "id": "VYo4BN7sUkxB",
      "execution_count": null,
      "outputs": [
        {
          "output_type": "execute_result",
          "data": {
            "text/plain": [
              "'xxx'"
            ],
            "application/vnd.google.colaboratory.intrinsic+json": {
              "type": "string"
            }
          },
          "metadata": {},
          "execution_count": 603
        }
      ]
    },
    {
      "cell_type": "markdown",
      "source": [
        "44. Find the most frequent word in a string."
      ],
      "metadata": {
        "id": "qMsGrQXAfS-6"
      },
      "id": "qMsGrQXAfS-6"
    },
    {
      "cell_type": "code",
      "source": [
        "string_9 = \"This is a sample string. This string contains some sample words. The sample words may repeat.\""
      ],
      "metadata": {
        "id": "khT1frJQed5j"
      },
      "id": "khT1frJQed5j",
      "execution_count": null,
      "outputs": []
    },
    {
      "cell_type": "code",
      "source": [
        "def most_freq_word(input_string):\n",
        "\n",
        "  from collections import Counter\n",
        "  import string\n",
        "\n",
        "  translation_table = str.maketrans(\"\",\"\",string.punctuation)\n",
        "  punctuation_removed = input_string.translate(translation_table)\n",
        "  input_string_list = punctuation_removed.split()\n",
        "  word_counts = Counter(input_string_list)\n",
        "  return word_counts.most_common(1)"
      ],
      "metadata": {
        "id": "xRNHXALkimrP"
      },
      "id": "xRNHXALkimrP",
      "execution_count": null,
      "outputs": []
    },
    {
      "cell_type": "code",
      "source": [
        "most_freq_word(string_9)"
      ],
      "metadata": {
        "colab": {
          "base_uri": "https://localhost:8080/"
        },
        "id": "B7Yjv8Si2rgb",
        "outputId": "e332772c-49fe-4cbb-d386-a61d5f68f3e1"
      },
      "id": "B7Yjv8Si2rgb",
      "execution_count": null,
      "outputs": [
        {
          "output_type": "execute_result",
          "data": {
            "text/plain": [
              "[('sample', 3)]"
            ]
          },
          "metadata": {},
          "execution_count": 606
        }
      ]
    },
    {
      "cell_type": "markdown",
      "source": [
        "45. Find all unique words in a string."
      ],
      "metadata": {
        "id": "oX6TkeXP1ck3"
      },
      "id": "oX6TkeXP1ck3"
    },
    {
      "cell_type": "code",
      "source": [
        "def unique_words(input_string):\n",
        "\n",
        "  import string\n",
        "\n",
        "  translation_table = str.maketrans(\"\",\"\",string.punctuation)\n",
        "\n",
        "  punctuation_removed = input_string.translate(translation_table)\n",
        "\n",
        "  input_string_set = set(punctuation_removed.split())\n",
        "\n",
        "  return input_string_set\n",
        "\n"
      ],
      "metadata": {
        "id": "GMj5UHZemWW5"
      },
      "id": "GMj5UHZemWW5",
      "execution_count": null,
      "outputs": []
    },
    {
      "cell_type": "code",
      "source": [
        "unique_words(string_9)"
      ],
      "metadata": {
        "colab": {
          "base_uri": "https://localhost:8080/"
        },
        "id": "RETiOO-XKJJL",
        "outputId": "3f3bbfa4-0f14-46be-fcdf-3af3ce1d379b"
      },
      "id": "RETiOO-XKJJL",
      "execution_count": null,
      "outputs": [
        {
          "output_type": "execute_result",
          "data": {
            "text/plain": [
              "{'The',\n",
              " 'This',\n",
              " 'a',\n",
              " 'contains',\n",
              " 'is',\n",
              " 'may',\n",
              " 'repeat',\n",
              " 'sample',\n",
              " 'some',\n",
              " 'string',\n",
              " 'words'}"
            ]
          },
          "metadata": {},
          "execution_count": 608
        }
      ]
    },
    {
      "cell_type": "markdown",
      "source": [
        "46. Count the number of syllables in a string."
      ],
      "metadata": {
        "id": "v9RG7Rb0K2xT"
      },
      "id": "v9RG7Rb0K2xT"
    },
    {
      "cell_type": "code",
      "source": [
        "def count_syllables(input_string):\n",
        "\n",
        "  import re\n",
        "\n",
        "  vowel_groups = re.findall(r'[aeiou]+', input_string, re.IGNORECASE)\n",
        "\n",
        "  return len(vowel_groups)\n"
      ],
      "metadata": {
        "id": "uQJJFnEZKMg1"
      },
      "id": "uQJJFnEZKMg1",
      "execution_count": null,
      "outputs": []
    },
    {
      "cell_type": "code",
      "source": [
        "string_10 = 'banana'\n",
        "\n",
        "count_syllables(string_10)"
      ],
      "metadata": {
        "colab": {
          "base_uri": "https://localhost:8080/"
        },
        "id": "z4gaMqChZ3cy",
        "outputId": "ee84b1f4-b4cc-47d6-e49d-5e553873aedd"
      },
      "id": "z4gaMqChZ3cy",
      "execution_count": null,
      "outputs": [
        {
          "output_type": "execute_result",
          "data": {
            "text/plain": [
              "3"
            ]
          },
          "metadata": {},
          "execution_count": 610
        }
      ]
    },
    {
      "cell_type": "markdown",
      "source": [
        "47. Check if a string contains any special characters."
      ],
      "metadata": {
        "id": "G16HWMKBaMvr"
      },
      "id": "G16HWMKBaMvr"
    },
    {
      "cell_type": "code",
      "source": [
        "def check_special_char(input_string):\n",
        "\n",
        "  pattern = re.compile(r'[!@#$%^&*()_+{}\\[\\]:;<>,.?~\\\\/]')\n",
        "\n",
        "  match = pattern.search(input_string)\n",
        "\n",
        "  return bool(match)\n"
      ],
      "metadata": {
        "id": "mBhRxDXZaEN3"
      },
      "id": "mBhRxDXZaEN3",
      "execution_count": null,
      "outputs": []
    },
    {
      "cell_type": "code",
      "source": [
        "mixed_string = \"Hello, world! This is an example sentence with special characters: @#$%^&*\"\n"
      ],
      "metadata": {
        "id": "aSBwAgGMe6N-"
      },
      "id": "aSBwAgGMe6N-",
      "execution_count": null,
      "outputs": []
    },
    {
      "cell_type": "code",
      "source": [
        "check_special_char(mixed_string)"
      ],
      "metadata": {
        "colab": {
          "base_uri": "https://localhost:8080/"
        },
        "id": "3H1aiFUwfLVi",
        "outputId": "19c323db-66b9-48ed-b3ab-487d009fe6b5"
      },
      "id": "3H1aiFUwfLVi",
      "execution_count": null,
      "outputs": [
        {
          "output_type": "execute_result",
          "data": {
            "text/plain": [
              "True"
            ]
          },
          "metadata": {},
          "execution_count": 613
        }
      ]
    },
    {
      "cell_type": "markdown",
      "source": [
        "48. Remove the nth word from a string."
      ],
      "metadata": {
        "id": "1gMG8iLcismJ"
      },
      "id": "1gMG8iLcismJ"
    },
    {
      "cell_type": "code",
      "source": [
        "def remove_nth_word(input_string, n):\n",
        "\n",
        "  if n >= 1 and n <= len(input_string):\n",
        "\n",
        "    input_string_split = input_string.split()\n",
        "\n",
        "    removed_word = input_string_split.pop(n-1)\n",
        "\n",
        "    output_string = \" \".join(input_string_split)\n",
        "\n",
        "    return output_string, removed_word\n",
        "\n",
        "  else:\n",
        "\n",
        "    return None, None"
      ],
      "metadata": {
        "id": "3FSp5g50fOFG"
      },
      "id": "3FSp5g50fOFG",
      "execution_count": null,
      "outputs": []
    },
    {
      "cell_type": "code",
      "source": [
        "remove_nth_word(mixed_string, 5)"
      ],
      "metadata": {
        "colab": {
          "base_uri": "https://localhost:8080/"
        },
        "id": "4GGIje7_meg6",
        "outputId": "15976e4c-0658-437f-d81c-2b322ed283f7"
      },
      "id": "4GGIje7_meg6",
      "execution_count": null,
      "outputs": [
        {
          "output_type": "execute_result",
          "data": {
            "text/plain": [
              "('Hello, world! This is example sentence with special characters: @#$%^&*',\n",
              " 'an')"
            ]
          },
          "metadata": {},
          "execution_count": 615
        }
      ]
    },
    {
      "cell_type": "markdown",
      "source": [
        "49. Insert a word at the nth position in a string."
      ],
      "metadata": {
        "id": "W3uujGXGwHbK"
      },
      "id": "W3uujGXGwHbK"
    },
    {
      "cell_type": "code",
      "source": [
        "string_9"
      ],
      "metadata": {
        "colab": {
          "base_uri": "https://localhost:8080/",
          "height": 35
        },
        "id": "kpKSb0BRnTNy",
        "outputId": "a6890c41-1dc7-4e84-cc9c-3a0ba184d2d1"
      },
      "id": "kpKSb0BRnTNy",
      "execution_count": null,
      "outputs": [
        {
          "output_type": "execute_result",
          "data": {
            "text/plain": [
              "'This is a sample string. This string contains some sample words. The sample words may repeat.'"
            ],
            "application/vnd.google.colaboratory.intrinsic+json": {
              "type": "string"
            }
          },
          "metadata": {},
          "execution_count": 616
        }
      ]
    },
    {
      "cell_type": "code",
      "source": [
        "def insert_word(input_string, word, position):\n",
        "\n",
        "  split_input_string = input_string.split()\n",
        "\n",
        "  split_input_string.insert(position, word)\n",
        "\n",
        "  new_string = \" \".join(split_input_string)\n",
        "\n",
        "  return new_string\n",
        "\n"
      ],
      "metadata": {
        "id": "Vt1t-ZNFw23u"
      },
      "id": "Vt1t-ZNFw23u",
      "execution_count": null,
      "outputs": []
    },
    {
      "cell_type": "code",
      "source": [
        "insert_word(string_9, \"Teju\", 5)"
      ],
      "metadata": {
        "colab": {
          "base_uri": "https://localhost:8080/",
          "height": 35
        },
        "id": "CnaCs1ufxk5v",
        "outputId": "111ac2b5-d4c3-4c6f-8fbc-44b69f774e49"
      },
      "id": "CnaCs1ufxk5v",
      "execution_count": null,
      "outputs": [
        {
          "output_type": "execute_result",
          "data": {
            "text/plain": [
              "'This is a sample string. Teju This string contains some sample words. The sample words may repeat.'"
            ],
            "application/vnd.google.colaboratory.intrinsic+json": {
              "type": "string"
            }
          },
          "metadata": {},
          "execution_count": 618
        }
      ]
    },
    {
      "cell_type": "markdown",
      "source": [
        "50. Convert a CSV string to a list of lists."
      ],
      "metadata": {
        "id": "wBFrwRBVy6mn"
      },
      "id": "wBFrwRBVy6mn"
    },
    {
      "cell_type": "code",
      "source": [
        "csv_string = \"Name, Age, Country\\nJohn, 25, USA\\nAlice, 30, Canada\\nBob, 22, UK\""
      ],
      "metadata": {
        "id": "wgT1mDX_3Kj-"
      },
      "id": "wgT1mDX_3Kj-",
      "execution_count": null,
      "outputs": []
    },
    {
      "cell_type": "code",
      "source": [
        "list_of_strings = csv_string.split('\\n')"
      ],
      "metadata": {
        "id": "vL_dr1QI5VSM"
      },
      "id": "vL_dr1QI5VSM",
      "execution_count": null,
      "outputs": []
    },
    {
      "cell_type": "code",
      "source": [
        "list_of_strings"
      ],
      "metadata": {
        "colab": {
          "base_uri": "https://localhost:8080/"
        },
        "id": "8E2BcPxy5xX4",
        "outputId": "d115b51b-3d0b-46a1-f9bf-66f89f4586fd"
      },
      "id": "8E2BcPxy5xX4",
      "execution_count": null,
      "outputs": [
        {
          "output_type": "execute_result",
          "data": {
            "text/plain": [
              "['Name, Age, Country', 'John, 25, USA', 'Alice, 30, Canada', 'Bob, 22, UK']"
            ]
          },
          "metadata": {},
          "execution_count": 621
        }
      ]
    },
    {
      "cell_type": "code",
      "source": [
        "def list_of_lists(csv_input_string):\n",
        "\n",
        "  list_of_strings = csv_input_string.split('\\n')\n",
        "\n",
        "  final_list = []\n",
        "\n",
        "  for i in list_of_strings:\n",
        "\n",
        "      final_list.append(i.split())\n",
        "\n",
        "  return final_list\n",
        "\n"
      ],
      "metadata": {
        "id": "GFlSwk4I5YJO"
      },
      "id": "GFlSwk4I5YJO",
      "execution_count": null,
      "outputs": []
    },
    {
      "cell_type": "code",
      "source": [
        "list_of_lists(csv_string)"
      ],
      "metadata": {
        "colab": {
          "base_uri": "https://localhost:8080/"
        },
        "id": "0Hgo6Hen6aG-",
        "outputId": "476688c9-5541-49b0-fb64-e57aa41d2602"
      },
      "id": "0Hgo6Hen6aG-",
      "execution_count": null,
      "outputs": [
        {
          "output_type": "execute_result",
          "data": {
            "text/plain": [
              "[['Name,', 'Age,', 'Country'],\n",
              " ['John,', '25,', 'USA'],\n",
              " ['Alice,', '30,', 'Canada'],\n",
              " ['Bob,', '22,', 'UK']]"
            ]
          },
          "metadata": {},
          "execution_count": 623
        }
      ]
    },
    {
      "cell_type": "markdown",
      "source": [
        "**List Based Practice Problem**"
      ],
      "metadata": {
        "id": "9Skw_WQs7XDT"
      },
      "id": "9Skw_WQs7XDT"
    },
    {
      "cell_type": "markdown",
      "source": [
        "1. Create a list with integers from 1 to 10."
      ],
      "metadata": {
        "id": "e96Re_bF7mcW"
      },
      "id": "e96Re_bF7mcW"
    },
    {
      "cell_type": "code",
      "source": [
        "list_of_integers = []\n",
        "\n",
        "for i in range(1 ,11):\n",
        "\n",
        "  list_of_integers.append(i)\n",
        "\n",
        "list_of_integers\n",
        "\n"
      ],
      "metadata": {
        "colab": {
          "base_uri": "https://localhost:8080/"
        },
        "id": "V1MaTCVY7VZy",
        "outputId": "1a0b7967-039a-41e6-ca45-51ff506ce931"
      },
      "id": "V1MaTCVY7VZy",
      "execution_count": null,
      "outputs": [
        {
          "output_type": "execute_result",
          "data": {
            "text/plain": [
              "[1, 2, 3, 4, 5, 6, 7, 8, 9, 10]"
            ]
          },
          "metadata": {},
          "execution_count": 624
        }
      ]
    },
    {
      "cell_type": "markdown",
      "source": [
        "2. Find the length of a list without using the `len()` function."
      ],
      "metadata": {
        "id": "M6exhT2K8CrD"
      },
      "id": "M6exhT2K8CrD"
    },
    {
      "cell_type": "code",
      "source": [
        "list_mixed = [42, 3.14159, \"Hello, world!\", True, \"Python\", 7.5]"
      ],
      "metadata": {
        "id": "0uTwg2N98Box"
      },
      "id": "0uTwg2N98Box",
      "execution_count": null,
      "outputs": []
    },
    {
      "cell_type": "code",
      "source": [
        "length_of_list = 0\n",
        "\n",
        "for i in list_mixed:\n",
        "\n",
        "  length_of_list += 1\n",
        "\n",
        "length_of_list\n",
        "\n"
      ],
      "metadata": {
        "colab": {
          "base_uri": "https://localhost:8080/"
        },
        "id": "9x92jU4P8Oeh",
        "outputId": "12faf5c0-172c-4fde-beca-007ca0ab4cb1"
      },
      "id": "9x92jU4P8Oeh",
      "execution_count": null,
      "outputs": [
        {
          "output_type": "execute_result",
          "data": {
            "text/plain": [
              "6"
            ]
          },
          "metadata": {},
          "execution_count": 626
        }
      ]
    },
    {
      "cell_type": "markdown",
      "source": [
        "3. Append an element to the end of a list."
      ],
      "metadata": {
        "id": "wN_jTgFm8t0j"
      },
      "id": "wN_jTgFm8t0j"
    },
    {
      "cell_type": "code",
      "source": [
        "list_mixed"
      ],
      "metadata": {
        "colab": {
          "base_uri": "https://localhost:8080/"
        },
        "id": "fzyahBji8sR_",
        "outputId": "132b92f1-77bc-406c-f95b-e133aedfd3a2"
      },
      "id": "fzyahBji8sR_",
      "execution_count": null,
      "outputs": [
        {
          "output_type": "execute_result",
          "data": {
            "text/plain": [
              "[42, 3.14159, 'Hello, world!', True, 'Python', 7.5]"
            ]
          },
          "metadata": {},
          "execution_count": 627
        }
      ]
    },
    {
      "cell_type": "code",
      "source": [
        "list_mixed.append('2-5j')"
      ],
      "metadata": {
        "id": "SYrn18L68yQC"
      },
      "id": "SYrn18L68yQC",
      "execution_count": null,
      "outputs": []
    },
    {
      "cell_type": "code",
      "source": [
        "list_mixed"
      ],
      "metadata": {
        "colab": {
          "base_uri": "https://localhost:8080/"
        },
        "id": "SqI6mXTU8_Gu",
        "outputId": "19a04f8c-bdca-4d11-c8d6-e2a3402be30e"
      },
      "id": "SqI6mXTU8_Gu",
      "execution_count": null,
      "outputs": [
        {
          "output_type": "execute_result",
          "data": {
            "text/plain": [
              "[42, 3.14159, 'Hello, world!', True, 'Python', 7.5, '2-5j']"
            ]
          },
          "metadata": {},
          "execution_count": 629
        }
      ]
    },
    {
      "cell_type": "markdown",
      "source": [
        "4. Insert an element at a specific index in a list."
      ],
      "metadata": {
        "id": "fRc1r9V69BS4"
      },
      "id": "fRc1r9V69BS4"
    },
    {
      "cell_type": "code",
      "source": [
        "list_mixed"
      ],
      "metadata": {
        "colab": {
          "base_uri": "https://localhost:8080/"
        },
        "id": "-3nZPgO99AQm",
        "outputId": "209b57a7-fc9f-4f99-c516-129674a85fda"
      },
      "id": "-3nZPgO99AQm",
      "execution_count": null,
      "outputs": [
        {
          "output_type": "execute_result",
          "data": {
            "text/plain": [
              "[42, 3.14159, 'Hello, world!', True, 'Python', 7.5, '2-5j']"
            ]
          },
          "metadata": {},
          "execution_count": 630
        }
      ]
    },
    {
      "cell_type": "code",
      "source": [
        "list_mixed.insert(3, \"Teju\")"
      ],
      "metadata": {
        "id": "mmvlQkJi9So2"
      },
      "id": "mmvlQkJi9So2",
      "execution_count": null,
      "outputs": []
    },
    {
      "cell_type": "code",
      "source": [
        "list_mixed"
      ],
      "metadata": {
        "colab": {
          "base_uri": "https://localhost:8080/"
        },
        "id": "UDnOtsJ59eFT",
        "outputId": "ea2df2f9-5148-4962-db29-22349393bc01"
      },
      "id": "UDnOtsJ59eFT",
      "execution_count": null,
      "outputs": [
        {
          "output_type": "execute_result",
          "data": {
            "text/plain": [
              "[42, 3.14159, 'Hello, world!', 'Teju', True, 'Python', 7.5, '2-5j']"
            ]
          },
          "metadata": {},
          "execution_count": 632
        }
      ]
    },
    {
      "cell_type": "markdown",
      "source": [
        "5. Remove an element from a list by its value."
      ],
      "metadata": {
        "id": "jDgxkrW79g9B"
      },
      "id": "jDgxkrW79g9B"
    },
    {
      "cell_type": "code",
      "source": [
        "list_mixed.remove(\"Teju\")"
      ],
      "metadata": {
        "id": "RkVjeIYu9fEK"
      },
      "id": "RkVjeIYu9fEK",
      "execution_count": null,
      "outputs": []
    },
    {
      "cell_type": "code",
      "source": [
        "list_mixed"
      ],
      "metadata": {
        "colab": {
          "base_uri": "https://localhost:8080/"
        },
        "id": "YRd27CVs9opC",
        "outputId": "52f4261c-4c09-49df-873b-ec0a7c5d40e9"
      },
      "id": "YRd27CVs9opC",
      "execution_count": null,
      "outputs": [
        {
          "output_type": "execute_result",
          "data": {
            "text/plain": [
              "[42, 3.14159, 'Hello, world!', True, 'Python', 7.5, '2-5j']"
            ]
          },
          "metadata": {},
          "execution_count": 634
        }
      ]
    },
    {
      "cell_type": "markdown",
      "source": [
        "6. Remove an element from a list by its index."
      ],
      "metadata": {
        "id": "_TqG3U9f9qrL"
      },
      "id": "_TqG3U9f9qrL"
    },
    {
      "cell_type": "code",
      "source": [
        "list_mixed.pop(2)"
      ],
      "metadata": {
        "colab": {
          "base_uri": "https://localhost:8080/",
          "height": 35
        },
        "id": "F6dUUhsc9puL",
        "outputId": "c896cf91-afd4-47ce-d2a9-7a68a9b8787d"
      },
      "id": "F6dUUhsc9puL",
      "execution_count": null,
      "outputs": [
        {
          "output_type": "execute_result",
          "data": {
            "text/plain": [
              "'Hello, world!'"
            ],
            "application/vnd.google.colaboratory.intrinsic+json": {
              "type": "string"
            }
          },
          "metadata": {},
          "execution_count": 635
        }
      ]
    },
    {
      "cell_type": "code",
      "source": [
        "list_mixed"
      ],
      "metadata": {
        "colab": {
          "base_uri": "https://localhost:8080/"
        },
        "id": "QYRsdL5-BHd0",
        "outputId": "581754ae-7c9f-4a87-c608-31b98e7bbcfc"
      },
      "id": "QYRsdL5-BHd0",
      "execution_count": null,
      "outputs": [
        {
          "output_type": "execute_result",
          "data": {
            "text/plain": [
              "[42, 3.14159, True, 'Python', 7.5, '2-5j']"
            ]
          },
          "metadata": {},
          "execution_count": 636
        }
      ]
    },
    {
      "cell_type": "markdown",
      "source": [
        "7. Check if an element exists in a list."
      ],
      "metadata": {
        "id": "qI5PRfK5BdnP"
      },
      "id": "qI5PRfK5BdnP"
    },
    {
      "cell_type": "code",
      "source": [
        "unique_list = [1, 3.14, \"Hello\", True, None, (1, 2), {\"name\": \"Alice\", \"age\": 30}, [4, 5, 6], {\"apple\", \"banana\", \"cherry\"}]"
      ],
      "metadata": {
        "id": "0BY_0IfOBavB"
      },
      "id": "0BY_0IfOBavB",
      "execution_count": null,
      "outputs": []
    },
    {
      "cell_type": "code",
      "source": [
        "element1 =  {\"name\": \"Alice\", \"age\": 30}\n",
        "\n",
        "element2 = \"Ironman\"\n",
        "\n",
        "if element1 in unique_list:\n",
        "\n",
        "  print('The given element exist in the list provided')\n",
        "\n",
        "else:\n",
        "\n",
        "  print('The given element does not exist in the list provided')"
      ],
      "metadata": {
        "colab": {
          "base_uri": "https://localhost:8080/"
        },
        "id": "WsBYNkl0LrFq",
        "outputId": "754e33bb-c98f-405d-fe21-c731dc9dd278"
      },
      "id": "WsBYNkl0LrFq",
      "execution_count": null,
      "outputs": [
        {
          "output_type": "stream",
          "name": "stdout",
          "text": [
            "The given element exist in the list provided\n"
          ]
        }
      ]
    },
    {
      "cell_type": "code",
      "source": [
        "if element2 in unique_list:\n",
        "\n",
        "  print('The given element exist in the list provided')\n",
        "\n",
        "else:\n",
        "\n",
        "  print('The given element does not exist in the list provided')"
      ],
      "metadata": {
        "colab": {
          "base_uri": "https://localhost:8080/"
        },
        "id": "WmcDnrHLMSSu",
        "outputId": "e8735317-1f81-4403-fb6f-63e4553e1cc6"
      },
      "id": "WmcDnrHLMSSu",
      "execution_count": null,
      "outputs": [
        {
          "output_type": "stream",
          "name": "stdout",
          "text": [
            "The given element does not exist in the list provided\n"
          ]
        }
      ]
    },
    {
      "cell_type": "markdown",
      "source": [
        "8. Find the index of the first occurrence of an element in a list."
      ],
      "metadata": {
        "id": "nmlR_Pa5MXah"
      },
      "id": "nmlR_Pa5MXah"
    },
    {
      "cell_type": "code",
      "source": [
        "element1"
      ],
      "metadata": {
        "colab": {
          "base_uri": "https://localhost:8080/"
        },
        "id": "3Bw0WB1VMWLo",
        "outputId": "e905ac23-c556-45aa-c3f5-34532007fb7a"
      },
      "id": "3Bw0WB1VMWLo",
      "execution_count": null,
      "outputs": [
        {
          "output_type": "execute_result",
          "data": {
            "text/plain": [
              "{'name': 'Alice', 'age': 30}"
            ]
          },
          "metadata": {},
          "execution_count": 640
        }
      ]
    },
    {
      "cell_type": "code",
      "source": [
        "unique_list.index(element1)"
      ],
      "metadata": {
        "colab": {
          "base_uri": "https://localhost:8080/"
        },
        "id": "sCT0tRmJMebK",
        "outputId": "a4bfb7d5-33b4-4279-a306-462f39f17b40"
      },
      "id": "sCT0tRmJMebK",
      "execution_count": null,
      "outputs": [
        {
          "output_type": "execute_result",
          "data": {
            "text/plain": [
              "6"
            ]
          },
          "metadata": {},
          "execution_count": 641
        }
      ]
    },
    {
      "cell_type": "markdown",
      "source": [
        "9. Count the occurrences of an element in a list."
      ],
      "metadata": {
        "id": "ddIFnZMJMqzh"
      },
      "id": "ddIFnZMJMqzh"
    },
    {
      "cell_type": "code",
      "source": [
        "repeated_elements_list = [1, 2, 3, 2, 4, 1, 5, 6, 4, 7, 7, 8, 9, 9]"
      ],
      "metadata": {
        "id": "8ZTykGXIMoGv"
      },
      "id": "8ZTykGXIMoGv",
      "execution_count": null,
      "outputs": []
    },
    {
      "cell_type": "code",
      "source": [
        "repeated_elements_list.count(2)"
      ],
      "metadata": {
        "colab": {
          "base_uri": "https://localhost:8080/"
        },
        "id": "2UhtO1_cM593",
        "outputId": "eef4d3bb-1c81-4ab3-b697-e0f367cfd49d"
      },
      "id": "2UhtO1_cM593",
      "execution_count": null,
      "outputs": [
        {
          "output_type": "execute_result",
          "data": {
            "text/plain": [
              "2"
            ]
          },
          "metadata": {},
          "execution_count": 643
        }
      ]
    },
    {
      "cell_type": "markdown",
      "source": [
        "10. Reverse the order of elements in a list."
      ],
      "metadata": {
        "id": "bl0kb4K3NCAj"
      },
      "id": "bl0kb4K3NCAj"
    },
    {
      "cell_type": "code",
      "source": [
        "unique_list"
      ],
      "metadata": {
        "colab": {
          "base_uri": "https://localhost:8080/"
        },
        "id": "PxWYyfS2M-zh",
        "outputId": "83461069-4524-4e45-81de-b33d0cfcb927"
      },
      "id": "PxWYyfS2M-zh",
      "execution_count": null,
      "outputs": [
        {
          "output_type": "execute_result",
          "data": {
            "text/plain": [
              "[1,\n",
              " 3.14,\n",
              " 'Hello',\n",
              " True,\n",
              " None,\n",
              " (1, 2),\n",
              " {'name': 'Alice', 'age': 30},\n",
              " [4, 5, 6],\n",
              " {'apple', 'banana', 'cherry'}]"
            ]
          },
          "metadata": {},
          "execution_count": 644
        }
      ]
    },
    {
      "cell_type": "code",
      "source": [
        "reveresed_list = unique_list[::-1]\n",
        "\n",
        "print(reveresed_list)"
      ],
      "metadata": {
        "colab": {
          "base_uri": "https://localhost:8080/"
        },
        "id": "7b2IdkBJNNXd",
        "outputId": "e022d55f-69fb-4ef6-cb3e-8979c348f0b4"
      },
      "id": "7b2IdkBJNNXd",
      "execution_count": null,
      "outputs": [
        {
          "output_type": "stream",
          "name": "stdout",
          "text": [
            "[{'apple', 'cherry', 'banana'}, [4, 5, 6], {'name': 'Alice', 'age': 30}, (1, 2), None, True, 'Hello', 3.14, 1]\n"
          ]
        }
      ]
    },
    {
      "cell_type": "markdown",
      "source": [
        "11. Sort a list in ascending order."
      ],
      "metadata": {
        "id": "ZgtW4_oWNhLM"
      },
      "id": "ZgtW4_oWNhLM"
    },
    {
      "cell_type": "markdown",
      "source": [
        "Method 1"
      ],
      "metadata": {
        "id": "rAfGE39kPxuM"
      },
      "id": "rAfGE39kPxuM"
    },
    {
      "cell_type": "code",
      "source": [
        "repeated_elements_list\n"
      ],
      "metadata": {
        "colab": {
          "base_uri": "https://localhost:8080/"
        },
        "id": "PR0qcnXDNP0f",
        "outputId": "387acfc4-0f6f-4ca6-e1b5-52d95656a190"
      },
      "id": "PR0qcnXDNP0f",
      "execution_count": null,
      "outputs": [
        {
          "output_type": "execute_result",
          "data": {
            "text/plain": [
              "[1, 2, 3, 2, 4, 1, 5, 6, 4, 7, 7, 8, 9, 9]"
            ]
          },
          "metadata": {},
          "execution_count": 646
        }
      ]
    },
    {
      "cell_type": "code",
      "source": [
        "sorted_list = sorted(repeated_elements_list)"
      ],
      "metadata": {
        "id": "Xjpp91UpNpTa"
      },
      "id": "Xjpp91UpNpTa",
      "execution_count": null,
      "outputs": []
    },
    {
      "cell_type": "code",
      "source": [
        "print(sorted_list)"
      ],
      "metadata": {
        "colab": {
          "base_uri": "https://localhost:8080/"
        },
        "id": "-ijz6DIgNszW",
        "outputId": "526badab-dffe-4905-9682-b48fc8d671ba"
      },
      "id": "-ijz6DIgNszW",
      "execution_count": null,
      "outputs": [
        {
          "output_type": "stream",
          "name": "stdout",
          "text": [
            "[1, 1, 2, 2, 3, 4, 4, 5, 6, 7, 7, 8, 9, 9]\n"
          ]
        }
      ]
    },
    {
      "cell_type": "markdown",
      "source": [
        "Method 2"
      ],
      "metadata": {
        "id": "XAkrkD_3PiWQ"
      },
      "id": "XAkrkD_3PiWQ"
    },
    {
      "cell_type": "code",
      "source": [
        "repeated_elements_list.sort()"
      ],
      "metadata": {
        "id": "tWPeti0hO2CF"
      },
      "id": "tWPeti0hO2CF",
      "execution_count": null,
      "outputs": []
    },
    {
      "cell_type": "code",
      "source": [
        "repeated_elements_list"
      ],
      "metadata": {
        "colab": {
          "base_uri": "https://localhost:8080/"
        },
        "id": "zNW3SH5zO4Sh",
        "outputId": "040b3797-fd49-4390-86f1-a18781cc84f0"
      },
      "id": "zNW3SH5zO4Sh",
      "execution_count": null,
      "outputs": [
        {
          "output_type": "execute_result",
          "data": {
            "text/plain": [
              "[1, 1, 2, 2, 3, 4, 4, 5, 6, 7, 7, 8, 9, 9]"
            ]
          },
          "metadata": {},
          "execution_count": 650
        }
      ]
    },
    {
      "cell_type": "markdown",
      "source": [
        "12. Sort a list in descending order."
      ],
      "metadata": {
        "id": "CnnGuigDO7Dj"
      },
      "id": "CnnGuigDO7Dj"
    },
    {
      "cell_type": "markdown",
      "source": [
        "Method 1"
      ],
      "metadata": {
        "id": "tC_tEPjjP1f1"
      },
      "id": "tC_tEPjjP1f1"
    },
    {
      "cell_type": "code",
      "source": [
        "repeated_elements_list"
      ],
      "metadata": {
        "colab": {
          "base_uri": "https://localhost:8080/"
        },
        "id": "2Tf6vGZzO5Xc",
        "outputId": "462c1724-43e3-4bd0-d951-657b590a8244"
      },
      "id": "2Tf6vGZzO5Xc",
      "execution_count": null,
      "outputs": [
        {
          "output_type": "execute_result",
          "data": {
            "text/plain": [
              "[1, 1, 2, 2, 3, 4, 4, 5, 6, 7, 7, 8, 9, 9]"
            ]
          },
          "metadata": {},
          "execution_count": 651
        }
      ]
    },
    {
      "cell_type": "code",
      "source": [
        "repeated_elements_list.sort(reverse=True)"
      ],
      "metadata": {
        "id": "sm8yk6PuO_ez"
      },
      "id": "sm8yk6PuO_ez",
      "execution_count": null,
      "outputs": []
    },
    {
      "cell_type": "code",
      "source": [
        "repeated_elements_list"
      ],
      "metadata": {
        "colab": {
          "base_uri": "https://localhost:8080/"
        },
        "id": "GN9BO_AFPFoZ",
        "outputId": "ba94e298-9177-4463-8f24-cc5f8c4a719a"
      },
      "id": "GN9BO_AFPFoZ",
      "execution_count": null,
      "outputs": [
        {
          "output_type": "execute_result",
          "data": {
            "text/plain": [
              "[9, 9, 8, 7, 7, 6, 5, 4, 4, 3, 2, 2, 1, 1]"
            ]
          },
          "metadata": {},
          "execution_count": 653
        }
      ]
    },
    {
      "cell_type": "markdown",
      "source": [
        "Method 2"
      ],
      "metadata": {
        "id": "BWA0Cm7FPsII"
      },
      "id": "BWA0Cm7FPsII"
    },
    {
      "cell_type": "code",
      "source": [
        "my_list = [4, 1, 7, 3, 9, 2]"
      ],
      "metadata": {
        "id": "RMmnguojPc6p"
      },
      "id": "RMmnguojPc6p",
      "execution_count": null,
      "outputs": []
    },
    {
      "cell_type": "code",
      "source": [
        "sorted_descending = sorted(my_list, reverse=True)"
      ],
      "metadata": {
        "id": "SxnoGzk-QDes"
      },
      "id": "SxnoGzk-QDes",
      "execution_count": null,
      "outputs": []
    },
    {
      "cell_type": "code",
      "source": [
        "sorted_descending"
      ],
      "metadata": {
        "colab": {
          "base_uri": "https://localhost:8080/"
        },
        "id": "rrxBiA13QPhd",
        "outputId": "4632ddce-cc4b-47d6-cffd-26b7ede88be7"
      },
      "id": "rrxBiA13QPhd",
      "execution_count": null,
      "outputs": [
        {
          "output_type": "execute_result",
          "data": {
            "text/plain": [
              "[9, 7, 4, 3, 2, 1]"
            ]
          },
          "metadata": {},
          "execution_count": 656
        }
      ]
    },
    {
      "cell_type": "markdown",
      "source": [
        "13. Create a list of even numbers from 1 to 20."
      ],
      "metadata": {
        "id": "r_7yCCjtQSfu"
      },
      "id": "r_7yCCjtQSfu"
    },
    {
      "cell_type": "code",
      "source": [
        "even_numbers = []\n",
        "\n",
        "for i in range(1, 21):\n",
        "\n",
        "  if i%2 == 0:\n",
        "\n",
        "    even_numbers.append(i)\n"
      ],
      "metadata": {
        "id": "wNDNTI-HQQyy"
      },
      "id": "wNDNTI-HQQyy",
      "execution_count": null,
      "outputs": []
    },
    {
      "cell_type": "code",
      "source": [
        "even_numbers"
      ],
      "metadata": {
        "colab": {
          "base_uri": "https://localhost:8080/"
        },
        "id": "eKeehjXQQyyF",
        "outputId": "4c73e5cb-bc2e-4b4e-f101-d05ff7e67f98"
      },
      "id": "eKeehjXQQyyF",
      "execution_count": null,
      "outputs": [
        {
          "output_type": "execute_result",
          "data": {
            "text/plain": [
              "[2, 4, 6, 8, 10, 12, 14, 16, 18, 20]"
            ]
          },
          "metadata": {},
          "execution_count": 658
        }
      ]
    },
    {
      "cell_type": "markdown",
      "source": [
        "14. Create a list of odd numbers from 1 to 20."
      ],
      "metadata": {
        "id": "aOZXCR5RRCxZ"
      },
      "id": "aOZXCR5RRCxZ"
    },
    {
      "cell_type": "code",
      "source": [
        "odd_numbers = []\n",
        "\n",
        "for i in range(1, 21):\n",
        "\n",
        "  if i%2 != 0:\n",
        "\n",
        "    odd_numbers.append(i)"
      ],
      "metadata": {
        "id": "NFs3-n6MQz1p"
      },
      "id": "NFs3-n6MQz1p",
      "execution_count": null,
      "outputs": []
    },
    {
      "cell_type": "code",
      "source": [
        "odd_numbers"
      ],
      "metadata": {
        "colab": {
          "base_uri": "https://localhost:8080/"
        },
        "id": "eWSNq28yRK2h",
        "outputId": "d5042f19-3774-451d-e613-0113669840c9"
      },
      "id": "eWSNq28yRK2h",
      "execution_count": null,
      "outputs": [
        {
          "output_type": "execute_result",
          "data": {
            "text/plain": [
              "[1, 3, 5, 7, 9, 11, 13, 15, 17, 19]"
            ]
          },
          "metadata": {},
          "execution_count": 660
        }
      ]
    },
    {
      "cell_type": "markdown",
      "source": [
        "15. Find the sum of all elements in a list."
      ],
      "metadata": {
        "id": "Lv91xSjlRQES"
      },
      "id": "Lv91xSjlRQES"
    },
    {
      "cell_type": "code",
      "source": [
        "even_numbers"
      ],
      "metadata": {
        "colab": {
          "base_uri": "https://localhost:8080/"
        },
        "id": "_evJFTs8RN7-",
        "outputId": "5ed2cf0c-44ae-493f-b079-607ae074c939"
      },
      "id": "_evJFTs8RN7-",
      "execution_count": null,
      "outputs": [
        {
          "output_type": "execute_result",
          "data": {
            "text/plain": [
              "[2, 4, 6, 8, 10, 12, 14, 16, 18, 20]"
            ]
          },
          "metadata": {},
          "execution_count": 661
        }
      ]
    },
    {
      "cell_type": "code",
      "source": [
        "sum_of_even_numbers = sum(even_numbers)\n",
        "\n",
        "sum_of_even_numbers"
      ],
      "metadata": {
        "colab": {
          "base_uri": "https://localhost:8080/"
        },
        "id": "YJclKwoQRSui",
        "outputId": "9a4bf964-0f3e-4585-8487-2525e4eeaa31"
      },
      "id": "YJclKwoQRSui",
      "execution_count": null,
      "outputs": [
        {
          "output_type": "execute_result",
          "data": {
            "text/plain": [
              "110"
            ]
          },
          "metadata": {},
          "execution_count": 662
        }
      ]
    },
    {
      "cell_type": "markdown",
      "source": [
        "16. Find the maximum value in a list."
      ],
      "metadata": {
        "id": "s0AGPlflReFD"
      },
      "id": "s0AGPlflReFD"
    },
    {
      "cell_type": "code",
      "source": [
        "even_numbers"
      ],
      "metadata": {
        "colab": {
          "base_uri": "https://localhost:8080/"
        },
        "id": "yv4gb8aNRcEN",
        "outputId": "78d0b26c-2a2e-46e5-aa96-101e997b39cf"
      },
      "id": "yv4gb8aNRcEN",
      "execution_count": null,
      "outputs": [
        {
          "output_type": "execute_result",
          "data": {
            "text/plain": [
              "[2, 4, 6, 8, 10, 12, 14, 16, 18, 20]"
            ]
          },
          "metadata": {},
          "execution_count": 663
        }
      ]
    },
    {
      "cell_type": "code",
      "source": [
        "max(even_numbers)"
      ],
      "metadata": {
        "colab": {
          "base_uri": "https://localhost:8080/"
        },
        "id": "xl0Gx-qrRgW6",
        "outputId": "7dcce66e-3e25-4b59-fcb7-911681a0c519"
      },
      "id": "xl0Gx-qrRgW6",
      "execution_count": null,
      "outputs": [
        {
          "output_type": "execute_result",
          "data": {
            "text/plain": [
              "20"
            ]
          },
          "metadata": {},
          "execution_count": 664
        }
      ]
    },
    {
      "cell_type": "markdown",
      "source": [
        "17. Find the minimum value in a list."
      ],
      "metadata": {
        "id": "xoq5qZwVRi50"
      },
      "id": "xoq5qZwVRi50"
    },
    {
      "cell_type": "code",
      "source": [
        "odd_numbers"
      ],
      "metadata": {
        "colab": {
          "base_uri": "https://localhost:8080/"
        },
        "id": "NgLMSgtgRiF_",
        "outputId": "87f63290-33a7-4b66-f45b-02c7cfde53f0"
      },
      "id": "NgLMSgtgRiF_",
      "execution_count": null,
      "outputs": [
        {
          "output_type": "execute_result",
          "data": {
            "text/plain": [
              "[1, 3, 5, 7, 9, 11, 13, 15, 17, 19]"
            ]
          },
          "metadata": {},
          "execution_count": 665
        }
      ]
    },
    {
      "cell_type": "code",
      "source": [
        "min(odd_numbers)"
      ],
      "metadata": {
        "colab": {
          "base_uri": "https://localhost:8080/"
        },
        "id": "sjluuDb4RmUu",
        "outputId": "7a692dc9-b7b1-4e5e-c1e5-fd613b89969b"
      },
      "id": "sjluuDb4RmUu",
      "execution_count": null,
      "outputs": [
        {
          "output_type": "execute_result",
          "data": {
            "text/plain": [
              "1"
            ]
          },
          "metadata": {},
          "execution_count": 666
        }
      ]
    },
    {
      "cell_type": "markdown",
      "source": [
        "18. Create a list of squares of numbers from 1 to 10."
      ],
      "metadata": {
        "id": "NRIhGlugRo_5"
      },
      "id": "NRIhGlugRo_5"
    },
    {
      "cell_type": "code",
      "source": [
        "list_of_squares = []\n",
        "\n",
        "for i in range(1, 11):\n",
        "\n",
        "  square = i*i\n",
        "\n",
        "  list_of_squares.append(square)\n",
        "\n",
        "list_of_squares"
      ],
      "metadata": {
        "colab": {
          "base_uri": "https://localhost:8080/"
        },
        "id": "ka4IACUwRoHk",
        "outputId": "06067755-010b-4deb-cf35-03ac5b70065a"
      },
      "id": "ka4IACUwRoHk",
      "execution_count": null,
      "outputs": [
        {
          "output_type": "execute_result",
          "data": {
            "text/plain": [
              "[1, 4, 9, 16, 25, 36, 49, 64, 81, 100]"
            ]
          },
          "metadata": {},
          "execution_count": 667
        }
      ]
    },
    {
      "cell_type": "markdown",
      "source": [
        "19. Create a list of random numbers."
      ],
      "metadata": {
        "id": "o7kKGdkBTgg5"
      },
      "id": "o7kKGdkBTgg5"
    },
    {
      "cell_type": "code",
      "source": [
        "import random\n",
        "\n",
        "random_numbers = []\n",
        "\n",
        "for i in range(10):\n",
        "\n",
        "  random_numbers.append(random.randint(1,500))\n",
        "\n",
        "random_numbers"
      ],
      "metadata": {
        "colab": {
          "base_uri": "https://localhost:8080/"
        },
        "id": "R4JYxU8CTe7t",
        "outputId": "8ecb3cd5-c83f-4af9-ca18-e45b7017c6c6"
      },
      "id": "R4JYxU8CTe7t",
      "execution_count": null,
      "outputs": [
        {
          "output_type": "execute_result",
          "data": {
            "text/plain": [
              "[197, 363, 33, 76, 238, 289, 162, 256, 341, 368]"
            ]
          },
          "metadata": {},
          "execution_count": 668
        }
      ]
    },
    {
      "cell_type": "markdown",
      "source": [
        "20. Remove duplicates from a list."
      ],
      "metadata": {
        "id": "CfKJhooFUVJt"
      },
      "id": "CfKJhooFUVJt"
    },
    {
      "cell_type": "code",
      "source": [
        "repeated_elements_list"
      ],
      "metadata": {
        "colab": {
          "base_uri": "https://localhost:8080/"
        },
        "id": "ymF37NV5UQ1t",
        "outputId": "2ca2b77e-4230-4d38-cb18-2032e18e353b"
      },
      "id": "ymF37NV5UQ1t",
      "execution_count": null,
      "outputs": [
        {
          "output_type": "execute_result",
          "data": {
            "text/plain": [
              "[9, 9, 8, 7, 7, 6, 5, 4, 4, 3, 2, 2, 1, 1]"
            ]
          },
          "metadata": {},
          "execution_count": 669
        }
      ]
    },
    {
      "cell_type": "code",
      "source": [
        "non_duplicate = set(repeated_elements_list)"
      ],
      "metadata": {
        "id": "0HKkkJzHUUA6"
      },
      "id": "0HKkkJzHUUA6",
      "execution_count": null,
      "outputs": []
    },
    {
      "cell_type": "code",
      "source": [
        "non_duplicate"
      ],
      "metadata": {
        "colab": {
          "base_uri": "https://localhost:8080/"
        },
        "id": "FWyPYdTKU03d",
        "outputId": "834d1825-b080-4020-b19d-a7b85d8981fb"
      },
      "id": "FWyPYdTKU03d",
      "execution_count": null,
      "outputs": [
        {
          "output_type": "execute_result",
          "data": {
            "text/plain": [
              "{1, 2, 3, 4, 5, 6, 7, 8, 9}"
            ]
          },
          "metadata": {},
          "execution_count": 671
        }
      ]
    },
    {
      "cell_type": "markdown",
      "source": [
        "21. Find the common elements between two lists."
      ],
      "metadata": {
        "id": "cEb06-_sU5am"
      },
      "id": "cEb06-_sU5am"
    },
    {
      "cell_type": "code",
      "source": [
        "list1 = [1, 2, 3, 4, 5]\n",
        "list2 = [4, 5, 6, 7, 8]\n",
        "\n",
        "common_elements = []\n",
        "\n",
        "for i in list1:\n",
        "\n",
        "  for j in list2:\n",
        "\n",
        "    if i==j:\n",
        "\n",
        "      common_elements.append(i)\n",
        "\n",
        "\n",
        "common_elements\n",
        "\n"
      ],
      "metadata": {
        "colab": {
          "base_uri": "https://localhost:8080/"
        },
        "id": "UWKQq03BU4ZZ",
        "outputId": "29ac106b-85a4-4deb-df87-8f839207f3e4"
      },
      "id": "UWKQq03BU4ZZ",
      "execution_count": null,
      "outputs": [
        {
          "output_type": "execute_result",
          "data": {
            "text/plain": [
              "[4, 5]"
            ]
          },
          "metadata": {},
          "execution_count": 672
        }
      ]
    },
    {
      "cell_type": "markdown",
      "source": [
        "22. Find the difference between two lists."
      ],
      "metadata": {
        "id": "tju80CkicVne"
      },
      "id": "tju80CkicVne"
    },
    {
      "cell_type": "code",
      "source": [
        "difference1 = list[set(list1).difference(list2)]"
      ],
      "metadata": {
        "id": "5LxVl1JkVobe"
      },
      "id": "5LxVl1JkVobe",
      "execution_count": null,
      "outputs": []
    },
    {
      "cell_type": "code",
      "source": [
        "difference1"
      ],
      "metadata": {
        "colab": {
          "base_uri": "https://localhost:8080/"
        },
        "id": "Ba-5Ns0adCoC",
        "outputId": "4e790638-fbca-4ded-d338-dacacbb3889b"
      },
      "id": "Ba-5Ns0adCoC",
      "execution_count": null,
      "outputs": [
        {
          "output_type": "execute_result",
          "data": {
            "text/plain": [
              "list[{1, 2, 3}]"
            ]
          },
          "metadata": {},
          "execution_count": 674
        }
      ]
    },
    {
      "cell_type": "code",
      "source": [
        "difference2 = list[set(list2).difference(list1)]"
      ],
      "metadata": {
        "id": "W1NCqDaddb6R"
      },
      "id": "W1NCqDaddb6R",
      "execution_count": null,
      "outputs": []
    },
    {
      "cell_type": "code",
      "source": [
        "difference2"
      ],
      "metadata": {
        "colab": {
          "base_uri": "https://localhost:8080/"
        },
        "id": "h_QwXUZOdoPs",
        "outputId": "c333736a-e271-4008-8075-3afda511a901"
      },
      "id": "h_QwXUZOdoPs",
      "execution_count": null,
      "outputs": [
        {
          "output_type": "execute_result",
          "data": {
            "text/plain": [
              "list[{6, 7, 8}]"
            ]
          },
          "metadata": {},
          "execution_count": 676
        }
      ]
    },
    {
      "cell_type": "markdown",
      "source": [
        "23. Merge two lists."
      ],
      "metadata": {
        "id": "XPHclSzRd1UT"
      },
      "id": "XPHclSzRd1UT"
    },
    {
      "cell_type": "markdown",
      "source": [
        "Method 1"
      ],
      "metadata": {
        "id": "EJ7n65omeePD"
      },
      "id": "EJ7n65omeePD"
    },
    {
      "cell_type": "code",
      "source": [
        "list1 = [1, 2, 3, 4, 5]\n",
        "list2 = [4, 5, 6, 7, 8]"
      ],
      "metadata": {
        "id": "7waeCM3KdpE5"
      },
      "id": "7waeCM3KdpE5",
      "execution_count": null,
      "outputs": []
    },
    {
      "cell_type": "code",
      "source": [
        "merge = list1 + list2"
      ],
      "metadata": {
        "id": "hd2xrMKod-y2"
      },
      "id": "hd2xrMKod-y2",
      "execution_count": null,
      "outputs": []
    },
    {
      "cell_type": "code",
      "source": [
        "merge"
      ],
      "metadata": {
        "colab": {
          "base_uri": "https://localhost:8080/"
        },
        "id": "YHgxC1s0eaGF",
        "outputId": "beb0a49d-4687-4276-e67a-e9a501928724"
      },
      "id": "YHgxC1s0eaGF",
      "execution_count": null,
      "outputs": [
        {
          "output_type": "execute_result",
          "data": {
            "text/plain": [
              "[1, 2, 3, 4, 5, 4, 5, 6, 7, 8]"
            ]
          },
          "metadata": {},
          "execution_count": 679
        }
      ]
    },
    {
      "cell_type": "markdown",
      "source": [
        "Method 2"
      ],
      "metadata": {
        "id": "d-1CpwV-ehyO"
      },
      "id": "d-1CpwV-ehyO"
    },
    {
      "cell_type": "code",
      "source": [
        "merged_list = list1.extend(list2)"
      ],
      "metadata": {
        "id": "PBXGT5VjebgE"
      },
      "id": "PBXGT5VjebgE",
      "execution_count": null,
      "outputs": []
    },
    {
      "cell_type": "code",
      "source": [],
      "metadata": {
        "id": "JpE9wUA2ennp"
      },
      "id": "JpE9wUA2ennp",
      "execution_count": null,
      "outputs": []
    },
    {
      "cell_type": "code",
      "source": [
        "list1"
      ],
      "metadata": {
        "colab": {
          "base_uri": "https://localhost:8080/"
        },
        "id": "4S_YwDeFerat",
        "outputId": "c322f30f-59a4-4995-db34-43c4a2413b6b"
      },
      "id": "4S_YwDeFerat",
      "execution_count": null,
      "outputs": [
        {
          "output_type": "execute_result",
          "data": {
            "text/plain": [
              "[1, 2, 3, 4, 5, 4, 5, 6, 7, 8]"
            ]
          },
          "metadata": {},
          "execution_count": 681
        }
      ]
    },
    {
      "cell_type": "markdown",
      "source": [
        "24. Multiply all elements in a list by 2."
      ],
      "metadata": {
        "id": "kk37fkl3fBTd"
      },
      "id": "kk37fkl3fBTd"
    },
    {
      "cell_type": "code",
      "source": [
        "list1"
      ],
      "metadata": {
        "colab": {
          "base_uri": "https://localhost:8080/"
        },
        "id": "NKgc5X8vey9R",
        "outputId": "09fb7f67-829a-486e-b812-adbf3dbbd7ee"
      },
      "id": "NKgc5X8vey9R",
      "execution_count": null,
      "outputs": [
        {
          "output_type": "execute_result",
          "data": {
            "text/plain": [
              "[1, 2, 3, 4, 5, 4, 5, 6, 7, 8]"
            ]
          },
          "metadata": {},
          "execution_count": 682
        }
      ]
    },
    {
      "cell_type": "code",
      "source": [
        "new_list = []\n",
        "\n",
        "for i in list1:\n",
        "\n",
        "  new_list.append(i*2)"
      ],
      "metadata": {
        "id": "8FFfaDmpfC8t"
      },
      "id": "8FFfaDmpfC8t",
      "execution_count": null,
      "outputs": []
    },
    {
      "cell_type": "code",
      "source": [
        "new_list"
      ],
      "metadata": {
        "colab": {
          "base_uri": "https://localhost:8080/"
        },
        "id": "nQFxrGjUfGo-",
        "outputId": "55a9825a-d90a-4e04-d97b-f5a7cf720df7"
      },
      "id": "nQFxrGjUfGo-",
      "execution_count": null,
      "outputs": [
        {
          "output_type": "execute_result",
          "data": {
            "text/plain": [
              "[2, 4, 6, 8, 10, 8, 10, 12, 14, 16]"
            ]
          },
          "metadata": {},
          "execution_count": 684
        }
      ]
    },
    {
      "cell_type": "markdown",
      "source": [
        "25. Filter out all even numbers from a list."
      ],
      "metadata": {
        "id": "hvFtClPFfaZ2"
      },
      "id": "hvFtClPFfaZ2"
    },
    {
      "cell_type": "code",
      "source": [
        "numbers = [1, 2, 3, 4, 5, 6, 7, 8, 9, 10]"
      ],
      "metadata": {
        "id": "SVwTAxC4fHv9"
      },
      "id": "SVwTAxC4fHv9",
      "execution_count": null,
      "outputs": []
    },
    {
      "cell_type": "code",
      "source": [
        "for i in numbers:\n",
        "\n",
        "  if i%2 == 0:\n",
        "    numbers.remove(i)\n",
        "\n",
        "numbers"
      ],
      "metadata": {
        "colab": {
          "base_uri": "https://localhost:8080/"
        },
        "id": "3sISdvkwfofr",
        "outputId": "7f6bd231-a764-41f2-e460-6b89965194c0"
      },
      "id": "3sISdvkwfofr",
      "execution_count": null,
      "outputs": [
        {
          "output_type": "execute_result",
          "data": {
            "text/plain": [
              "[1, 3, 5, 7, 9]"
            ]
          },
          "metadata": {},
          "execution_count": 686
        }
      ]
    },
    {
      "cell_type": "markdown",
      "source": [
        "26. Convert a list of strings to a list of integers."
      ],
      "metadata": {
        "id": "xQzLmOz6gCTy"
      },
      "id": "xQzLmOz6gCTy"
    },
    {
      "cell_type": "code",
      "source": [
        "string_numbers = [\"1\", \"2\", \"3\", \"4\", \"5\", \"6\", \"7\", \"8\", \"9\", \"10\"]"
      ],
      "metadata": {
        "id": "wNhLzwVUfz4l"
      },
      "id": "wNhLzwVUfz4l",
      "execution_count": null,
      "outputs": []
    },
    {
      "cell_type": "code",
      "source": [
        "converted_to_int = []\n",
        "\n",
        "for i in string_numbers:\n",
        "\n",
        "  int_num = int(i)\n",
        "\n",
        "  converted_to_int.append(int_num)\n",
        "\n",
        "converted_to_int\n",
        "\n"
      ],
      "metadata": {
        "colab": {
          "base_uri": "https://localhost:8080/"
        },
        "id": "jRiQvsMmguv6",
        "outputId": "13aef92d-ef1c-4b6e-fc11-044411bf289b"
      },
      "id": "jRiQvsMmguv6",
      "execution_count": null,
      "outputs": [
        {
          "output_type": "execute_result",
          "data": {
            "text/plain": [
              "[1, 2, 3, 4, 5, 6, 7, 8, 9, 10]"
            ]
          },
          "metadata": {},
          "execution_count": 688
        }
      ]
    },
    {
      "cell_type": "markdown",
      "source": [
        "27. Convert a list of integers to a list of strings."
      ],
      "metadata": {
        "id": "8O0lu2tIhjjH"
      },
      "id": "8O0lu2tIhjjH"
    },
    {
      "cell_type": "code",
      "source": [
        "converted_to_int"
      ],
      "metadata": {
        "colab": {
          "base_uri": "https://localhost:8080/"
        },
        "id": "x7NnvR5AhDcm",
        "outputId": "5f5ba3b7-a64c-4c4e-9788-5cbe482393c3"
      },
      "id": "x7NnvR5AhDcm",
      "execution_count": null,
      "outputs": [
        {
          "output_type": "execute_result",
          "data": {
            "text/plain": [
              "[1, 2, 3, 4, 5, 6, 7, 8, 9, 10]"
            ]
          },
          "metadata": {},
          "execution_count": 689
        }
      ]
    },
    {
      "cell_type": "code",
      "source": [
        "converted_to_str = []\n",
        "\n",
        "for i in converted_to_int:\n",
        "\n",
        "  string_num = str(i)\n",
        "\n",
        "  converted_to_str.append(string_num)\n",
        "\n",
        "converted_to_str\n",
        "\n"
      ],
      "metadata": {
        "colab": {
          "base_uri": "https://localhost:8080/"
        },
        "id": "CWh-nxx7hpzb",
        "outputId": "56b8ee48-2eb4-4e31-c3b5-6ed8566872a1"
      },
      "id": "CWh-nxx7hpzb",
      "execution_count": null,
      "outputs": [
        {
          "output_type": "execute_result",
          "data": {
            "text/plain": [
              "['1', '2', '3', '4', '5', '6', '7', '8', '9', '10']"
            ]
          },
          "metadata": {},
          "execution_count": 690
        }
      ]
    },
    {
      "cell_type": "markdown",
      "source": [
        "28. Flatten a nested list."
      ],
      "metadata": {
        "id": "_OtiqDUoiXRM"
      },
      "id": "_OtiqDUoiXRM"
    },
    {
      "cell_type": "code",
      "source": [
        "nested_list = [[1, 2, 3], [4, 5], [6, 7, 8, 9]]"
      ],
      "metadata": {
        "id": "Uo6_Q7sGiSuJ"
      },
      "id": "Uo6_Q7sGiSuJ",
      "execution_count": null,
      "outputs": []
    },
    {
      "cell_type": "code",
      "source": [
        "def flatten_list(n):\n",
        "\n",
        "  flattened_list = []\n",
        "\n",
        "  for i in range(len(nested_list)):\n",
        "\n",
        "    x = nested_list[i]\n",
        "\n",
        "    for j in range(len(x)):\n",
        "\n",
        "      flattened_list.append(x[j])\n",
        "\n",
        "  return flattened_list"
      ],
      "metadata": {
        "id": "b12cNpdYiphG"
      },
      "id": "b12cNpdYiphG",
      "execution_count": null,
      "outputs": []
    },
    {
      "cell_type": "code",
      "source": [
        "flatten_list(nested_list)"
      ],
      "metadata": {
        "id": "-iJl_0n8jaes",
        "colab": {
          "base_uri": "https://localhost:8080/"
        },
        "outputId": "9c0d25d7-f04e-4ec7-cff6-6f804c3b5bf3"
      },
      "id": "-iJl_0n8jaes",
      "execution_count": null,
      "outputs": [
        {
          "output_type": "execute_result",
          "data": {
            "text/plain": [
              "[1, 2, 3, 4, 5, 6, 7, 8, 9]"
            ]
          },
          "metadata": {},
          "execution_count": 693
        }
      ]
    },
    {
      "cell_type": "markdown",
      "source": [
        "29. Create a list of the first 10 Fibonacci numbers."
      ],
      "metadata": {
        "id": "FBwl33eBQhAl"
      },
      "id": "FBwl33eBQhAl"
    },
    {
      "cell_type": "code",
      "source": [
        "def fibonacci_series(n):\n",
        "\n",
        "  fibonacci_series = [0 ,1]\n",
        "\n",
        "  for i in range(n-2):\n",
        "\n",
        "    next_fibonacci = fibonacci_series[i] + fibonacci_series[i+1]\n",
        "\n",
        "    fibonacci_series.append(next_fibonacci)\n",
        "\n",
        "  return fibonacci_series\n"
      ],
      "metadata": {
        "id": "MFVYRw5SQcsL"
      },
      "id": "MFVYRw5SQcsL",
      "execution_count": null,
      "outputs": []
    },
    {
      "cell_type": "code",
      "source": [
        "fibonacci_series(10)"
      ],
      "metadata": {
        "colab": {
          "base_uri": "https://localhost:8080/"
        },
        "id": "ll2flDcpbZgZ",
        "outputId": "5e995d3a-bbc9-4829-814d-0e3d5fa34f3d"
      },
      "id": "ll2flDcpbZgZ",
      "execution_count": null,
      "outputs": [
        {
          "output_type": "execute_result",
          "data": {
            "text/plain": [
              "[0, 1, 1, 2, 3, 5, 8, 13, 21, 34]"
            ]
          },
          "metadata": {},
          "execution_count": 695
        }
      ]
    },
    {
      "cell_type": "markdown",
      "source": [
        "30. Check if a list is sorted."
      ],
      "metadata": {
        "id": "BkkWRu4fbold"
      },
      "id": "BkkWRu4fbold"
    },
    {
      "cell_type": "code",
      "source": [
        "def check_if_sorted(n):\n",
        "\n",
        "  sorted_list = sorted(n)\n",
        "\n",
        "  if n == sorted_list:\n",
        "\n",
        "    print(\"The provided list is sorted\")\n",
        "\n",
        "  else:\n",
        "\n",
        "    print(\"Provided list is not sorted\")"
      ],
      "metadata": {
        "id": "5hsQcEsEbbsx"
      },
      "id": "5hsQcEsEbbsx",
      "execution_count": null,
      "outputs": []
    },
    {
      "cell_type": "code",
      "source": [
        "list_30 = [5, 1, 3, 8, 2, 7, 4, 6]\n",
        "\n",
        "check_if_sorted(list_30)"
      ],
      "metadata": {
        "colab": {
          "base_uri": "https://localhost:8080/"
        },
        "id": "so7q-1tAdyNj",
        "outputId": "93473b19-3dd7-4e21-ba34-71f8201b14bd"
      },
      "id": "so7q-1tAdyNj",
      "execution_count": null,
      "outputs": [
        {
          "output_type": "stream",
          "name": "stdout",
          "text": [
            "Provided list is not sorted\n"
          ]
        }
      ]
    },
    {
      "cell_type": "code",
      "source": [
        "list_3a_a = [1, 2, 3, 4, 5, 6, 7, 8, 9]\n",
        "\n",
        "check_if_sorted(list_3a_a)"
      ],
      "metadata": {
        "colab": {
          "base_uri": "https://localhost:8080/"
        },
        "id": "bb5Aq1kSeNC6",
        "outputId": "22c88977-b48d-47f4-b703-6e6471b77926"
      },
      "id": "bb5Aq1kSeNC6",
      "execution_count": null,
      "outputs": [
        {
          "output_type": "stream",
          "name": "stdout",
          "text": [
            "The provided list is sorted\n"
          ]
        }
      ]
    },
    {
      "cell_type": "markdown",
      "source": [
        "31. Rotate a list to the left by `n` positions."
      ],
      "metadata": {
        "id": "rNcZb_SSepbd"
      },
      "id": "rNcZb_SSepbd"
    },
    {
      "cell_type": "code",
      "source": [
        "list_31 = [1, 2, 3, 4, 5, 6, 7, 8]"
      ],
      "metadata": {
        "id": "rT7rPdPeegq-"
      },
      "id": "rT7rPdPeegq-",
      "execution_count": null,
      "outputs": []
    },
    {
      "cell_type": "code",
      "source": [
        "def shift_pos_left(list_to_shift_left, no_positions):\n",
        "\n",
        "  length_of_list = len(list_to_shift_left)\n",
        "\n",
        "  shifted_list = []\n",
        "\n",
        "  for i in range(length_of_list):\n",
        "\n",
        "    current_index = i + no_positions\n",
        "\n",
        "    if current_index > (length_of_list - 1):\n",
        "\n",
        "      current_index = current_index - length_of_list\n",
        "\n",
        "      shifted_list.append(list_to_shift_left[current_index])\n",
        "\n",
        "    else:\n",
        "\n",
        "      shifted_list.append(list_to_shift_left[current_index])\n",
        "\n",
        "  return shifted_list"
      ],
      "metadata": {
        "id": "y-XrBKRpiORc"
      },
      "id": "y-XrBKRpiORc",
      "execution_count": null,
      "outputs": []
    },
    {
      "cell_type": "code",
      "source": [
        "shift_pos_left(list_31, 2)"
      ],
      "metadata": {
        "colab": {
          "base_uri": "https://localhost:8080/"
        },
        "id": "c8rbXk9WlH2r",
        "outputId": "3a38602d-25f6-4388-9f0b-d9e4a7cc0955"
      },
      "id": "c8rbXk9WlH2r",
      "execution_count": null,
      "outputs": [
        {
          "output_type": "execute_result",
          "data": {
            "text/plain": [
              "[3, 4, 5, 6, 7, 8, 1, 2]"
            ]
          },
          "metadata": {},
          "execution_count": 701
        }
      ]
    },
    {
      "cell_type": "code",
      "source": [
        "list_31_a = [2005, 2006, 2007, 2008, 2009, 2010]\n",
        "\n",
        "shift_pos_left(list_31_a, 3)"
      ],
      "metadata": {
        "colab": {
          "base_uri": "https://localhost:8080/"
        },
        "id": "s8uQshsilLEb",
        "outputId": "c6d39aa8-adae-46dc-c4b8-cca0a97eb384"
      },
      "id": "s8uQshsilLEb",
      "execution_count": null,
      "outputs": [
        {
          "output_type": "execute_result",
          "data": {
            "text/plain": [
              "[2008, 2009, 2010, 2005, 2006, 2007]"
            ]
          },
          "metadata": {},
          "execution_count": 702
        }
      ]
    },
    {
      "cell_type": "markdown",
      "source": [
        "32. Rotate a list to the right by `n` positions."
      ],
      "metadata": {
        "id": "nayiXH2rlwG3"
      },
      "id": "nayiXH2rlwG3"
    },
    {
      "cell_type": "code",
      "source": [
        "def shift_pos_right(list_to_shift_right, no_positions):\n",
        "\n",
        "  length_of_list = len(list_to_shift_right)\n",
        "\n",
        "  shifted_list = []\n",
        "\n",
        "  for i in range(length_of_list):\n",
        "\n",
        "    current_index = i + length_of_list - no_positions\n",
        "\n",
        "    if current_index > length_of_list-1:\n",
        "\n",
        "      current_index = current_index - length_of_list\n",
        "\n",
        "      shifted_list.append(list_to_shift_right[current_index])\n",
        "\n",
        "    else:\n",
        "\n",
        "      shifted_list.append(list_to_shift_right[current_index])\n",
        "\n",
        "  return shifted_list"
      ],
      "metadata": {
        "id": "DedqqQvHllsL"
      },
      "id": "DedqqQvHllsL",
      "execution_count": null,
      "outputs": []
    },
    {
      "cell_type": "code",
      "source": [
        "list_32 = [1, 2, 3, 4, 5, 6, 7, 8, 9]\n",
        "\n",
        "shift_pos_right(list_32, 2)"
      ],
      "metadata": {
        "colab": {
          "base_uri": "https://localhost:8080/"
        },
        "id": "nTTjfaAKsjCw",
        "outputId": "21ca03f1-e194-4ed7-df35-fa4d0483c5da"
      },
      "id": "nTTjfaAKsjCw",
      "execution_count": null,
      "outputs": [
        {
          "output_type": "execute_result",
          "data": {
            "text/plain": [
              "[8, 9, 1, 2, 3, 4, 5, 6, 7]"
            ]
          },
          "metadata": {},
          "execution_count": 704
        }
      ]
    },
    {
      "cell_type": "markdown",
      "source": [
        "33. Create a list of prime numbers up to 50."
      ],
      "metadata": {
        "id": "1-v4R8t2ttA8"
      },
      "id": "1-v4R8t2ttA8"
    },
    {
      "cell_type": "code",
      "source": [
        "def gen_primenumbers(limit_of_primenumbers):\n",
        "\n",
        "  prime_numbers = []\n",
        "\n",
        "  for i in range(limit_of_primenumbers):\n",
        "\n",
        "    if i % 2 != 0:\n",
        "\n",
        "      prime_numbers.append(i)\n",
        "\n",
        "  return prime_numbers"
      ],
      "metadata": {
        "id": "PbQHdITisxay"
      },
      "id": "PbQHdITisxay",
      "execution_count": null,
      "outputs": []
    },
    {
      "cell_type": "code",
      "source": [
        "gen_primenumbers(50)"
      ],
      "metadata": {
        "colab": {
          "base_uri": "https://localhost:8080/"
        },
        "id": "3E8LEumdvAju",
        "outputId": "6ce1c392-d451-464c-dbfc-48f8411e8309"
      },
      "id": "3E8LEumdvAju",
      "execution_count": null,
      "outputs": [
        {
          "output_type": "execute_result",
          "data": {
            "text/plain": [
              "[1,\n",
              " 3,\n",
              " 5,\n",
              " 7,\n",
              " 9,\n",
              " 11,\n",
              " 13,\n",
              " 15,\n",
              " 17,\n",
              " 19,\n",
              " 21,\n",
              " 23,\n",
              " 25,\n",
              " 27,\n",
              " 29,\n",
              " 31,\n",
              " 33,\n",
              " 35,\n",
              " 37,\n",
              " 39,\n",
              " 41,\n",
              " 43,\n",
              " 45,\n",
              " 47,\n",
              " 49]"
            ]
          },
          "metadata": {},
          "execution_count": 706
        }
      ]
    },
    {
      "cell_type": "markdown",
      "source": [
        "34. Split a list into chunks of size `n`."
      ],
      "metadata": {
        "id": "Atl8MvEovYzq"
      },
      "id": "Atl8MvEovYzq"
    },
    {
      "cell_type": "code",
      "source": [
        "def split_list(list_to_be_split, size_of_splits):\n",
        "\n",
        "  final_split_list = []\n",
        "\n",
        "  for i in range(int(len(list_to_be_split) / size_of_splits)):\n",
        "\n",
        "    for i in range(0, len(list_to_be_split), size_of_splits):\n",
        "\n",
        "      final_split_list.append(list_to_be_split[i:i+size_of_splits])\n",
        "\n",
        "    break\n",
        "\n",
        "  return final_split_list"
      ],
      "metadata": {
        "id": "Rq_urzUCvDQ7"
      },
      "id": "Rq_urzUCvDQ7",
      "execution_count": null,
      "outputs": []
    },
    {
      "cell_type": "code",
      "source": [
        "l_34 = [1, 2, 3, 4, 5, 6, 7, 8, 9, 10]\n",
        "\n",
        "split_list(l_34, 2)"
      ],
      "metadata": {
        "colab": {
          "base_uri": "https://localhost:8080/"
        },
        "id": "mYs7dzLu3fpp",
        "outputId": "eb73f758-3f26-4db4-8e69-21ee241ad93c"
      },
      "id": "mYs7dzLu3fpp",
      "execution_count": null,
      "outputs": [
        {
          "output_type": "execute_result",
          "data": {
            "text/plain": [
              "[[1, 2], [3, 4], [5, 6], [7, 8], [9, 10]]"
            ]
          },
          "metadata": {},
          "execution_count": 708
        }
      ]
    },
    {
      "cell_type": "markdown",
      "source": [
        "35. Find the second largest number in a list."
      ],
      "metadata": {
        "id": "twUDF_ffWbZZ"
      },
      "id": "twUDF_ffWbZZ"
    },
    {
      "cell_type": "code",
      "source": [
        "l_35 = [1, 2, 3, 4, 5, 6, 7, 8, 9, 10]"
      ],
      "metadata": {
        "id": "YHbQ-7H-HFs0"
      },
      "id": "YHbQ-7H-HFs0",
      "execution_count": null,
      "outputs": []
    },
    {
      "cell_type": "code",
      "source": [
        "def second_largest_no(input_list):\n",
        "\n",
        "  reverse_sorted_list = sorted(input_list, reverse = True)\n",
        "\n",
        "  last_2 = reverse_sorted_list[:2]\n",
        "\n",
        "  print(f\"The second largset number in the provided list is {min(last_2)}\")\n"
      ],
      "metadata": {
        "id": "bwEAHhCiHGTy"
      },
      "id": "bwEAHhCiHGTy",
      "execution_count": null,
      "outputs": []
    },
    {
      "cell_type": "code",
      "source": [
        "second_largest_no(l_35)"
      ],
      "metadata": {
        "colab": {
          "base_uri": "https://localhost:8080/"
        },
        "id": "oN8Kug5UYOXC",
        "outputId": "7c45f0ad-00de-4f33-ccf4-a03dc216af41"
      },
      "id": "oN8Kug5UYOXC",
      "execution_count": null,
      "outputs": [
        {
          "output_type": "stream",
          "name": "stdout",
          "text": [
            "The second largset number in the provided list is 9\n"
          ]
        }
      ]
    },
    {
      "cell_type": "markdown",
      "source": [
        "36. Replace every element in a list with its square."
      ],
      "metadata": {
        "id": "m-l7MCxWYTnN"
      },
      "id": "m-l7MCxWYTnN"
    },
    {
      "cell_type": "code",
      "source": [
        "def replace_with_square(input_list):\n",
        "\n",
        "  squared_list = []\n",
        "\n",
        "\n",
        "  for i in range(len(input_list)):\n",
        "\n",
        "    squared_list.append(input_list[i] * input_list[i])\n",
        "\n",
        "\n",
        "  return squared_list"
      ],
      "metadata": {
        "id": "6eoEggh9YRHl"
      },
      "id": "6eoEggh9YRHl",
      "execution_count": null,
      "outputs": []
    },
    {
      "cell_type": "code",
      "source": [
        "replace_with_square(l_35)"
      ],
      "metadata": {
        "colab": {
          "base_uri": "https://localhost:8080/"
        },
        "id": "zJPkZxYWZzum",
        "outputId": "79e3bddb-5b23-4d9b-f298-ca6399f88a50"
      },
      "id": "zJPkZxYWZzum",
      "execution_count": null,
      "outputs": [
        {
          "output_type": "execute_result",
          "data": {
            "text/plain": [
              "[1, 4, 9, 16, 25, 36, 49, 64, 81, 100]"
            ]
          },
          "metadata": {},
          "execution_count": 713
        }
      ]
    },
    {
      "cell_type": "markdown",
      "source": [
        "37. Convert a list to a dictionary where list elements become keys and their\n",
        "indices become values."
      ],
      "metadata": {
        "id": "3QKiZkmgZ8J9"
      },
      "id": "3QKiZkmgZ8J9"
    },
    {
      "cell_type": "code",
      "source": [
        "def list_to_dict(input_list):\n",
        "\n",
        "  new_dict = {}\n",
        "\n",
        "  for i in range(len(input_list)):\n",
        "\n",
        "    new_dict[i]  = input_list[i]\n",
        "\n",
        "  return new_dict"
      ],
      "metadata": {
        "id": "z2RJDeoLZ6WW"
      },
      "id": "z2RJDeoLZ6WW",
      "execution_count": null,
      "outputs": []
    },
    {
      "cell_type": "code",
      "source": [
        "list_to_dict(l_35)"
      ],
      "metadata": {
        "colab": {
          "base_uri": "https://localhost:8080/"
        },
        "id": "hMvw0uBabMRr",
        "outputId": "ccb6c492-f5e0-442f-dc80-f41052fd1a76"
      },
      "id": "hMvw0uBabMRr",
      "execution_count": null,
      "outputs": [
        {
          "output_type": "execute_result",
          "data": {
            "text/plain": [
              "{0: 1, 1: 2, 2: 3, 3: 4, 4: 5, 5: 6, 6: 7, 7: 8, 8: 9, 9: 10}"
            ]
          },
          "metadata": {},
          "execution_count": 715
        }
      ]
    },
    {
      "cell_type": "markdown",
      "source": [
        "38. Shuffle the elements of a list randomly."
      ],
      "metadata": {
        "id": "y6iUEd9dbevT"
      },
      "id": "y6iUEd9dbevT"
    },
    {
      "cell_type": "code",
      "source": [
        "def shuffle_list(input_list):\n",
        "\n",
        "  import random\n",
        "\n",
        "  random.shuffle(input_list)\n",
        "\n",
        "  return input_list"
      ],
      "metadata": {
        "id": "0g8AFIC4bR9u"
      },
      "id": "0g8AFIC4bR9u",
      "execution_count": null,
      "outputs": []
    },
    {
      "cell_type": "code",
      "source": [
        "shuffle_list(l_35)"
      ],
      "metadata": {
        "colab": {
          "base_uri": "https://localhost:8080/"
        },
        "id": "oOHV06fGcDvU",
        "outputId": "b1f93cdc-705e-45c7-8c8a-9d95ae56d5a1"
      },
      "id": "oOHV06fGcDvU",
      "execution_count": null,
      "outputs": [
        {
          "output_type": "execute_result",
          "data": {
            "text/plain": [
              "[6, 10, 3, 4, 5, 7, 8, 2, 9, 1]"
            ]
          },
          "metadata": {},
          "execution_count": 717
        }
      ]
    },
    {
      "cell_type": "markdown",
      "source": [
        "39. Create a list of the first 10 factorial numbers."
      ],
      "metadata": {
        "id": "u-r0sMqWcUUA"
      },
      "id": "u-r0sMqWcUUA"
    },
    {
      "cell_type": "code",
      "source": [
        "def factorial(n):\n",
        "\n",
        "  temp = 1\n",
        "\n",
        "  for i in range(1, n+1):\n",
        "\n",
        "    temp = temp * i\n",
        "\n",
        "    print(f\"!{i} : {temp}\")"
      ],
      "metadata": {
        "id": "dPMCA0ltcIW4"
      },
      "id": "dPMCA0ltcIW4",
      "execution_count": null,
      "outputs": []
    },
    {
      "cell_type": "code",
      "source": [
        "factorial(10)"
      ],
      "metadata": {
        "colab": {
          "base_uri": "https://localhost:8080/"
        },
        "id": "Mr5-fkMrdyha",
        "outputId": "10237f69-0d80-444a-fbed-73bb8465832b"
      },
      "id": "Mr5-fkMrdyha",
      "execution_count": null,
      "outputs": [
        {
          "output_type": "stream",
          "name": "stdout",
          "text": [
            "!1 : 1\n",
            "!2 : 2\n",
            "!3 : 6\n",
            "!4 : 24\n",
            "!5 : 120\n",
            "!6 : 720\n",
            "!7 : 5040\n",
            "!8 : 40320\n",
            "!9 : 362880\n",
            "!10 : 3628800\n"
          ]
        }
      ]
    },
    {
      "cell_type": "markdown",
      "source": [
        "40. Check if two lists have at least one element in common."
      ],
      "metadata": {
        "id": "ZaRbUDmVd3Lc"
      },
      "id": "ZaRbUDmVd3Lc"
    },
    {
      "cell_type": "code",
      "source": [
        "def comn_elem(list1, list2):\n",
        "\n",
        "  set1 = set(list1)\n",
        "  set2 = set(list2)\n",
        "\n",
        "  common_elements = set1.intersection(set2)\n",
        "\n",
        "  common_ele_list = list(common_elements)\n",
        "\n",
        "  print(common_ele_list)\n",
        "\n",
        "  if len(common_ele_list) >= 1:\n",
        "\n",
        "    print(\"The given lists have atleastc one element in common\")\n",
        "\n",
        "  else:\n",
        "\n",
        "    print(\"The given listss doesn't have one element in common\")\n",
        "\n"
      ],
      "metadata": {
        "id": "GaKCEWudd0iI"
      },
      "id": "GaKCEWudd0iI",
      "execution_count": null,
      "outputs": []
    },
    {
      "cell_type": "code",
      "source": [
        "list1 = [1, 2, 3, 4, 5]\n",
        "list2 = [3, 4, 5, 6, 7]"
      ],
      "metadata": {
        "id": "X4tI6ZLb7q0A"
      },
      "id": "X4tI6ZLb7q0A",
      "execution_count": null,
      "outputs": []
    },
    {
      "cell_type": "code",
      "source": [
        "comn_elem(list1, list2)"
      ],
      "metadata": {
        "colab": {
          "base_uri": "https://localhost:8080/"
        },
        "id": "HTv9sF-tyhKA",
        "outputId": "4c9aa572-8c23-4f4b-fe50-72af4e9ee962"
      },
      "id": "HTv9sF-tyhKA",
      "execution_count": null,
      "outputs": [
        {
          "output_type": "stream",
          "name": "stdout",
          "text": [
            "[3, 4, 5]\n",
            "The given lists have atleastc one element in common\n"
          ]
        }
      ]
    },
    {
      "cell_type": "markdown",
      "source": [
        "41. Remove all elements from a list."
      ],
      "metadata": {
        "id": "8nvCEdH-0V3C"
      },
      "id": "8nvCEdH-0V3C"
    },
    {
      "cell_type": "code",
      "source": [
        "list1.clear()"
      ],
      "metadata": {
        "id": "0eMLqYxYypxu"
      },
      "id": "0eMLqYxYypxu",
      "execution_count": null,
      "outputs": []
    },
    {
      "cell_type": "code",
      "source": [
        "list1"
      ],
      "metadata": {
        "colab": {
          "base_uri": "https://localhost:8080/"
        },
        "id": "Fxq0-FEN0ty2",
        "outputId": "a4efaeec-adfe-4ad2-e51a-93106cc6d64e"
      },
      "id": "Fxq0-FEN0ty2",
      "execution_count": null,
      "outputs": [
        {
          "output_type": "execute_result",
          "data": {
            "text/plain": [
              "[]"
            ]
          },
          "metadata": {},
          "execution_count": 724
        }
      ]
    },
    {
      "cell_type": "markdown",
      "source": [
        "42. Replace negative numbers in a list with 0."
      ],
      "metadata": {
        "id": "i1YF8YrL1CCE"
      },
      "id": "i1YF8YrL1CCE"
    },
    {
      "cell_type": "code",
      "source": [
        "list3 = [-3, -5, 8, 6, -2]"
      ],
      "metadata": {
        "id": "rMUGxt_f1GdA"
      },
      "id": "rMUGxt_f1GdA",
      "execution_count": null,
      "outputs": []
    },
    {
      "cell_type": "code",
      "source": [
        "def replace_neg_to_0(input_list):\n",
        "\n",
        "  for i in range(len(input_list)):\n",
        "\n",
        "    if input_list[i] < 0:\n",
        "\n",
        "      input_list[i] = 0\n",
        "\n",
        "  return input_list"
      ],
      "metadata": {
        "id": "5T_5Sl7G1H06"
      },
      "id": "5T_5Sl7G1H06",
      "execution_count": null,
      "outputs": []
    },
    {
      "cell_type": "code",
      "source": [
        "replace_neg_to_0(list3)"
      ],
      "metadata": {
        "colab": {
          "base_uri": "https://localhost:8080/"
        },
        "id": "GvrDRLyZ2DKs",
        "outputId": "1e712441-4c95-4da2-8dc6-06c3d6ca77e9"
      },
      "id": "GvrDRLyZ2DKs",
      "execution_count": null,
      "outputs": [
        {
          "output_type": "execute_result",
          "data": {
            "text/plain": [
              "[0, 0, 8, 6, 0]"
            ]
          },
          "metadata": {},
          "execution_count": 727
        }
      ]
    },
    {
      "cell_type": "markdown",
      "source": [
        "43. Convert a string into a list of words."
      ],
      "metadata": {
        "id": "87bddsvV2T9_"
      },
      "id": "87bddsvV2T9_"
    },
    {
      "cell_type": "code",
      "source": [
        "original_String = \"Hello, World! Hello, Universe!\""
      ],
      "metadata": {
        "id": "MOTvndTW2GyP"
      },
      "id": "MOTvndTW2GyP",
      "execution_count": null,
      "outputs": []
    },
    {
      "cell_type": "code",
      "source": [
        "original_string_list = original_String.split()"
      ],
      "metadata": {
        "id": "YoDUVE2Y2mwq"
      },
      "id": "YoDUVE2Y2mwq",
      "execution_count": null,
      "outputs": []
    },
    {
      "cell_type": "code",
      "source": [
        "original_string_list"
      ],
      "metadata": {
        "colab": {
          "base_uri": "https://localhost:8080/"
        },
        "id": "vqC6unND2wKm",
        "outputId": "2a776fc1-0db6-491c-8f42-d08c7ce80c87"
      },
      "id": "vqC6unND2wKm",
      "execution_count": null,
      "outputs": [
        {
          "output_type": "execute_result",
          "data": {
            "text/plain": [
              "['Hello,', 'World!', 'Hello,', 'Universe!']"
            ]
          },
          "metadata": {},
          "execution_count": 730
        }
      ]
    },
    {
      "cell_type": "markdown",
      "source": [
        "44. Convert a list of words into a string."
      ],
      "metadata": {
        "id": "KL8wvjdm26bZ"
      },
      "id": "KL8wvjdm26bZ"
    },
    {
      "cell_type": "code",
      "source": [
        "\" \".join(original_string_list)"
      ],
      "metadata": {
        "colab": {
          "base_uri": "https://localhost:8080/",
          "height": 35
        },
        "id": "CW4Ei8vN25mq",
        "outputId": "4689cbeb-5df5-426c-e969-d53b779b24d9"
      },
      "id": "CW4Ei8vN25mq",
      "execution_count": null,
      "outputs": [
        {
          "output_type": "execute_result",
          "data": {
            "text/plain": [
              "'Hello, World! Hello, Universe!'"
            ],
            "application/vnd.google.colaboratory.intrinsic+json": {
              "type": "string"
            }
          },
          "metadata": {},
          "execution_count": 731
        }
      ]
    },
    {
      "cell_type": "markdown",
      "source": [
        "45. Create a list of the first `n` powers of 2."
      ],
      "metadata": {
        "id": "DWFMY0CD3FJU"
      },
      "id": "DWFMY0CD3FJU"
    },
    {
      "cell_type": "code",
      "source": [
        "def powers_n(n):\n",
        "\n",
        "  powers_of_n = []\n",
        "\n",
        "  for i in range(n):\n",
        "\n",
        "    power = 2**i\n",
        "\n",
        "    powers_of_n.append(power)\n",
        "\n",
        "  return powers_of_n"
      ],
      "metadata": {
        "id": "6VaOyrdC3Cs2"
      },
      "id": "6VaOyrdC3Cs2",
      "execution_count": null,
      "outputs": []
    },
    {
      "cell_type": "code",
      "source": [
        "powers_n(10)"
      ],
      "metadata": {
        "colab": {
          "base_uri": "https://localhost:8080/"
        },
        "id": "vnWrt2jx4WMw",
        "outputId": "a148a2bd-2477-4f00-d1a4-658f2f7f2f42"
      },
      "id": "vnWrt2jx4WMw",
      "execution_count": null,
      "outputs": [
        {
          "output_type": "execute_result",
          "data": {
            "text/plain": [
              "[1, 2, 4, 8, 16, 32, 64, 128, 256, 512]"
            ]
          },
          "metadata": {},
          "execution_count": 733
        }
      ]
    },
    {
      "cell_type": "markdown",
      "source": [
        "46. Find the longest string in a list of strings."
      ],
      "metadata": {
        "id": "nQmGnyGr4yOj"
      },
      "id": "nQmGnyGr4yOj"
    },
    {
      "cell_type": "code",
      "source": [
        "string_46 = \"Hello, World! Hello, Universe!\"\n",
        "\n",
        "split_string = string_46.split()\n",
        "\n",
        "#def long_string(input_string):\n",
        "\n",
        "  #string_split"
      ],
      "metadata": {
        "id": "07cfB4fC4YGm"
      },
      "id": "07cfB4fC4YGm",
      "execution_count": null,
      "outputs": []
    },
    {
      "cell_type": "code",
      "source": [
        "def long_word(input_string):\n",
        "\n",
        "  length_of_strings =[]\n",
        "\n",
        "  split_string = input_string.split()\n",
        "\n",
        "  for i in range(len(split_string)):\n",
        "\n",
        "    length_of_strings.append(len(split_string[i]))\n",
        "\n",
        "  for i in range(len(split_string)):\n",
        "\n",
        "    if len(split_string[i]) == max(length_of_strings):\n",
        "\n",
        "      print(f\"The longest word is {split_string[i]}\")"
      ],
      "metadata": {
        "id": "M2SGBfxy5uB9"
      },
      "id": "M2SGBfxy5uB9",
      "execution_count": null,
      "outputs": []
    },
    {
      "cell_type": "code",
      "source": [
        "long_word(string_46)"
      ],
      "metadata": {
        "colab": {
          "base_uri": "https://localhost:8080/"
        },
        "id": "pbHzlAJa6C-o",
        "outputId": "edb18da8-b8f7-499a-af82-b6ddc12b57dc"
      },
      "id": "pbHzlAJa6C-o",
      "execution_count": null,
      "outputs": [
        {
          "output_type": "stream",
          "name": "stdout",
          "text": [
            "The longest word is Universe!\n"
          ]
        }
      ]
    },
    {
      "cell_type": "markdown",
      "source": [
        "47. Find the shortest string in a list of strings."
      ],
      "metadata": {
        "id": "6jJ75LiN9Pp2"
      },
      "id": "6jJ75LiN9Pp2"
    },
    {
      "cell_type": "code",
      "source": [
        "def short_word(input_string):\n",
        "\n",
        "  length_of_strings =[]\n",
        "\n",
        "  split_string = input_string.split()\n",
        "\n",
        "  for i in range(len(split_string)):\n",
        "\n",
        "    length_of_strings.append(len(split_string[i]))\n",
        "\n",
        "  for i in range(len(split_string)):\n",
        "\n",
        "    if len(split_string[i]) == min(length_of_strings):\n",
        "\n",
        "      print(f\"The shortest word is {split_string[i]}\")"
      ],
      "metadata": {
        "id": "xkMBDhjL80IB"
      },
      "id": "xkMBDhjL80IB",
      "execution_count": null,
      "outputs": []
    },
    {
      "cell_type": "code",
      "source": [
        "short_word(string_46)"
      ],
      "metadata": {
        "colab": {
          "base_uri": "https://localhost:8080/"
        },
        "id": "ZJRaTsuP9Zuf",
        "outputId": "7313a5de-8375-4d7d-93a8-a98f5a27f95d"
      },
      "id": "ZJRaTsuP9Zuf",
      "execution_count": null,
      "outputs": [
        {
          "output_type": "stream",
          "name": "stdout",
          "text": [
            "The shortest word is Hello,\n",
            "The shortest word is World!\n",
            "The shortest word is Hello,\n"
          ]
        }
      ]
    },
    {
      "cell_type": "markdown",
      "source": [
        "48. Create a list of the first `n` triangular numbers."
      ],
      "metadata": {
        "id": "R1x_y-1-9isa"
      },
      "id": "R1x_y-1-9isa"
    },
    {
      "cell_type": "code",
      "source": [
        "def triangular_numbers(n):\n",
        "\n",
        "  triangular_numbers_list = []\n",
        "\n",
        "  for i in range(n):\n",
        "\n",
        "    tri_number = int((i*(i+1))/2)\n",
        "\n",
        "    triangular_numbers_list.append(tri_number)\n",
        "\n",
        "\n",
        "  return triangular_numbers_list"
      ],
      "metadata": {
        "id": "m6hVFLzV9euB"
      },
      "id": "m6hVFLzV9euB",
      "execution_count": null,
      "outputs": []
    },
    {
      "cell_type": "code",
      "source": [
        "triangular_numbers(10)"
      ],
      "metadata": {
        "colab": {
          "base_uri": "https://localhost:8080/"
        },
        "id": "BT-sdOQbCBPc",
        "outputId": "7b4e9a52-8114-4de8-91d9-83ee28e5ff68"
      },
      "id": "BT-sdOQbCBPc",
      "execution_count": null,
      "outputs": [
        {
          "output_type": "execute_result",
          "data": {
            "text/plain": [
              "[0, 1, 3, 6, 10, 15, 21, 28, 36, 45]"
            ]
          },
          "metadata": {},
          "execution_count": 740
        }
      ]
    },
    {
      "cell_type": "markdown",
      "source": [
        "49. Check if a list contains another list as a subsequence."
      ],
      "metadata": {
        "id": "shYrLphbCNZm"
      },
      "id": "shYrLphbCNZm"
    },
    {
      "cell_type": "code",
      "source": [
        "def subseq(main_list, subseq_list):\n",
        "\n",
        "  main_set = set(main_list)\n",
        "\n",
        "  subseq_set = set(subseq_list)\n",
        "\n",
        "  common_ele = main_set.intersection(subseq_set)\n",
        "\n",
        "  index_main = []\n",
        "\n",
        "  index_sub = []\n",
        "\n",
        "  if common_ele:\n",
        "\n",
        "    for i in range(len(main_list)):\n",
        "\n",
        "      for j in range(len(subseq_list)):\n",
        "\n",
        "        if main_list[i] == subseq_list[j]:\n",
        "\n",
        "          index_main.append(i)\n",
        "\n",
        "          index_sub.append(j)\n",
        "\n",
        "    sorted_index_main = sorted(index_main)\n",
        "\n",
        "    sorted_index_sub = sorted(index_sub)\n",
        "\n",
        "    if index_main == sorted_index_main and index_sub == sorted_index_sub:\n",
        "\n",
        "      print('Given list is a subsequence list if the main list')\n",
        "\n",
        "    else:\n",
        "\n",
        "      print('Given list is not a susequent list of main list')\n",
        "\n",
        "  else:\n",
        "\n",
        "    print(\"The given lists do not have any common elements\")\n",
        "\n"
      ],
      "metadata": {
        "id": "-NC6ig1VCDaJ"
      },
      "id": "-NC6ig1VCDaJ",
      "execution_count": null,
      "outputs": []
    },
    {
      "cell_type": "code",
      "source": [
        "list1 = [1, 2, 3, 4, 5, 6, 7, 8]\n",
        "\n",
        "list2 = [2, 6, 4]\n",
        "\n",
        "subseq(list1, list2)"
      ],
      "metadata": {
        "colab": {
          "base_uri": "https://localhost:8080/"
        },
        "id": "cRMEDxaqCVQd",
        "outputId": "9669924f-300f-48c8-fe75-6b1260ed7282"
      },
      "id": "cRMEDxaqCVQd",
      "execution_count": null,
      "outputs": [
        {
          "output_type": "stream",
          "name": "stdout",
          "text": [
            "Given list is not a susequent list of main list\n"
          ]
        }
      ]
    },
    {
      "cell_type": "markdown",
      "source": [
        "50. Swap two elements in a list by their indices."
      ],
      "metadata": {
        "id": "bUp4NtWWCjF7"
      },
      "id": "bUp4NtWWCjF7"
    },
    {
      "cell_type": "code",
      "source": [
        "def swap_ele(input_list, ele1, ele2):\n",
        "\n",
        "  ele1_idx = 0\n",
        "\n",
        "  ele2_idx = 0\n",
        "\n",
        "  for i in range(len(input_list)):\n",
        "\n",
        "    if input_list[i] == ele1:\n",
        "\n",
        "      ele1_idx += i\n",
        "\n",
        "    if input_list[i] == ele2:\n",
        "\n",
        "      ele2_idx += i\n",
        "\n",
        "  input_list[ele1_idx] = ele2\n",
        "\n",
        "  input_list[ele2_idx] = ele1\n",
        "\n",
        "  return input_list"
      ],
      "metadata": {
        "id": "-BFpa7LiCbby"
      },
      "id": "-BFpa7LiCbby",
      "execution_count": null,
      "outputs": []
    },
    {
      "cell_type": "code",
      "source": [
        "list1 = [1, 2, 3, 4, 5, 6, 7, 8]"
      ],
      "metadata": {
        "id": "dLwI_6plCvsI"
      },
      "id": "dLwI_6plCvsI",
      "execution_count": null,
      "outputs": []
    },
    {
      "cell_type": "code",
      "source": [
        "swap_ele(list1, 3, 5)"
      ],
      "metadata": {
        "colab": {
          "base_uri": "https://localhost:8080/"
        },
        "id": "L-8Rts24CyBM",
        "outputId": "c9a56dc5-0d2a-4b52-ce5d-dd8ccc7e6950"
      },
      "id": "L-8Rts24CyBM",
      "execution_count": null,
      "outputs": [
        {
          "output_type": "execute_result",
          "data": {
            "text/plain": [
              "[1, 2, 5, 4, 3, 6, 7, 8]"
            ]
          },
          "metadata": {},
          "execution_count": 745
        }
      ]
    },
    {
      "cell_type": "markdown",
      "source": [
        "**Tuple Based Practice Problem :**\n",
        "\n"
      ],
      "metadata": {
        "id": "9zUz8_2xC4Wj"
      },
      "id": "9zUz8_2xC4Wj"
    },
    {
      "cell_type": "markdown",
      "source": [
        "1. Create a tuple with integers from 1 to 5."
      ],
      "metadata": {
        "id": "NNDHn09sDFC9"
      },
      "id": "NNDHn09sDFC9"
    },
    {
      "cell_type": "code",
      "source": [
        "t1 = (1, 2, 3, 4, 5)"
      ],
      "metadata": {
        "id": "Ty6Mh-jRCzyo"
      },
      "id": "Ty6Mh-jRCzyo",
      "execution_count": null,
      "outputs": []
    },
    {
      "cell_type": "markdown",
      "source": [
        "2. Access the third element of a tuple."
      ],
      "metadata": {
        "id": "fwjuZq9VFD9x"
      },
      "id": "fwjuZq9VFD9x"
    },
    {
      "cell_type": "code",
      "source": [
        "t1[2]"
      ],
      "metadata": {
        "colab": {
          "base_uri": "https://localhost:8080/"
        },
        "id": "RFpyOCVgEiGI",
        "outputId": "04ed57fe-9e1c-4478-e5b4-e73af29a3e34"
      },
      "id": "RFpyOCVgEiGI",
      "execution_count": null,
      "outputs": [
        {
          "output_type": "execute_result",
          "data": {
            "text/plain": [
              "3"
            ]
          },
          "metadata": {},
          "execution_count": 747
        }
      ]
    },
    {
      "cell_type": "markdown",
      "source": [
        "3. Find the length of a tuple without using the `len()` function."
      ],
      "metadata": {
        "id": "kPkYk_gzFPvA"
      },
      "id": "kPkYk_gzFPvA"
    },
    {
      "cell_type": "code",
      "source": [
        "def length_of_tuple(input_tuple):\n",
        "\n",
        "  length = 0\n",
        "\n",
        "  for i in input_tuple:\n",
        "\n",
        "    length += 1\n",
        "\n",
        "  return length"
      ],
      "metadata": {
        "id": "iuHFYG0MFKkP"
      },
      "id": "iuHFYG0MFKkP",
      "execution_count": null,
      "outputs": []
    },
    {
      "cell_type": "code",
      "source": [
        "length_of_tuple(t1)"
      ],
      "metadata": {
        "colab": {
          "base_uri": "https://localhost:8080/"
        },
        "id": "HT0LqdlZF6a2",
        "outputId": "97eb8331-b62f-4210-a6b3-01020208e833"
      },
      "id": "HT0LqdlZF6a2",
      "execution_count": null,
      "outputs": [
        {
          "output_type": "execute_result",
          "data": {
            "text/plain": [
              "5"
            ]
          },
          "metadata": {},
          "execution_count": 749
        }
      ]
    },
    {
      "cell_type": "markdown",
      "source": [
        "4. Count the occurrences of an element in a tuple."
      ],
      "metadata": {
        "id": "WfgSoeQQGDc4"
      },
      "id": "WfgSoeQQGDc4"
    },
    {
      "cell_type": "code",
      "source": [
        "t2 = (1, 2, 2, 3, 2, 4, 2, 5, 2, 6, 2)"
      ],
      "metadata": {
        "id": "AFXC46SBF-2N"
      },
      "id": "AFXC46SBF-2N",
      "execution_count": null,
      "outputs": []
    },
    {
      "cell_type": "code",
      "source": [
        "t2.count(2)"
      ],
      "metadata": {
        "colab": {
          "base_uri": "https://localhost:8080/"
        },
        "id": "G3KiJ13LGLS3",
        "outputId": "8a7bdd75-50ef-4d92-fabb-427c43602902"
      },
      "id": "G3KiJ13LGLS3",
      "execution_count": null,
      "outputs": [
        {
          "output_type": "execute_result",
          "data": {
            "text/plain": [
              "6"
            ]
          },
          "metadata": {},
          "execution_count": 751
        }
      ]
    },
    {
      "cell_type": "markdown",
      "source": [
        "5. Find the index of the first occurrence of an element in a tuple."
      ],
      "metadata": {
        "id": "7YE4Ib3cGYkA"
      },
      "id": "7YE4Ib3cGYkA"
    },
    {
      "cell_type": "code",
      "source": [
        "t2"
      ],
      "metadata": {
        "colab": {
          "base_uri": "https://localhost:8080/"
        },
        "id": "Kz3OrvBGGfBf",
        "outputId": "2b7281de-b648-4b9d-ef49-a147c8409df1"
      },
      "id": "Kz3OrvBGGfBf",
      "execution_count": null,
      "outputs": [
        {
          "output_type": "execute_result",
          "data": {
            "text/plain": [
              "(1, 2, 2, 3, 2, 4, 2, 5, 2, 6, 2)"
            ]
          },
          "metadata": {},
          "execution_count": 752
        }
      ]
    },
    {
      "cell_type": "code",
      "source": [
        "t2.index(3)"
      ],
      "metadata": {
        "colab": {
          "base_uri": "https://localhost:8080/"
        },
        "id": "CvBjtQLMGNNr",
        "outputId": "9005ccf1-967b-47bc-a915-e6b393563375"
      },
      "id": "CvBjtQLMGNNr",
      "execution_count": null,
      "outputs": [
        {
          "output_type": "execute_result",
          "data": {
            "text/plain": [
              "3"
            ]
          },
          "metadata": {},
          "execution_count": 753
        }
      ]
    },
    {
      "cell_type": "markdown",
      "source": [
        "6. Check if an element exists in a tuple."
      ],
      "metadata": {
        "id": "ePh5_hkGGlwP"
      },
      "id": "ePh5_hkGGlwP"
    },
    {
      "cell_type": "code",
      "source": [
        "t2"
      ],
      "metadata": {
        "colab": {
          "base_uri": "https://localhost:8080/"
        },
        "id": "oNlOzcsxHl8f",
        "outputId": "4c0803f9-0d6f-4ffd-bb06-05afe16363d1"
      },
      "id": "oNlOzcsxHl8f",
      "execution_count": null,
      "outputs": [
        {
          "output_type": "execute_result",
          "data": {
            "text/plain": [
              "(1, 2, 2, 3, 2, 4, 2, 5, 2, 6, 2)"
            ]
          },
          "metadata": {},
          "execution_count": 754
        }
      ]
    },
    {
      "cell_type": "code",
      "source": [
        "def find_element():\n",
        "\n",
        "  if 9 in t2:\n",
        "\n",
        "    print(\"The element exist in thwe tuple\")\n",
        "\n",
        "  else:\n",
        "\n",
        "    print(\"The element doesn't exist in the list\")"
      ],
      "metadata": {
        "id": "0FMdKq5FGgq7"
      },
      "id": "0FMdKq5FGgq7",
      "execution_count": null,
      "outputs": []
    },
    {
      "cell_type": "markdown",
      "source": [
        "7. Convert a tuple to a list."
      ],
      "metadata": {
        "id": "13evyONSKn68"
      },
      "id": "13evyONSKn68"
    },
    {
      "cell_type": "code",
      "source": [
        "t2"
      ],
      "metadata": {
        "colab": {
          "base_uri": "https://localhost:8080/"
        },
        "id": "HZgR5_owKnr8",
        "outputId": "b9095132-4970-47bb-80aa-eadb3e442c69"
      },
      "id": "HZgR5_owKnr8",
      "execution_count": null,
      "outputs": [
        {
          "output_type": "execute_result",
          "data": {
            "text/plain": [
              "(1, 2, 2, 3, 2, 4, 2, 5, 2, 6, 2)"
            ]
          },
          "metadata": {},
          "execution_count": 756
        }
      ]
    },
    {
      "cell_type": "code",
      "source": [
        "t2_list = list(t2)"
      ],
      "metadata": {
        "id": "PO2wDQehHB89"
      },
      "id": "PO2wDQehHB89",
      "execution_count": null,
      "outputs": []
    },
    {
      "cell_type": "code",
      "source": [
        "t2_list"
      ],
      "metadata": {
        "colab": {
          "base_uri": "https://localhost:8080/"
        },
        "id": "AJXvz6rmKvlE",
        "outputId": "22647d98-691b-4745-b14d-cee25cf305a7"
      },
      "id": "AJXvz6rmKvlE",
      "execution_count": null,
      "outputs": [
        {
          "output_type": "execute_result",
          "data": {
            "text/plain": [
              "[1, 2, 2, 3, 2, 4, 2, 5, 2, 6, 2]"
            ]
          },
          "metadata": {},
          "execution_count": 758
        }
      ]
    },
    {
      "cell_type": "markdown",
      "source": [
        "8. Convert a list to a tuple."
      ],
      "metadata": {
        "id": "5aimz_8hKx38"
      },
      "id": "5aimz_8hKx38"
    },
    {
      "cell_type": "code",
      "source": [
        "tuple(t2_list)"
      ],
      "metadata": {
        "colab": {
          "base_uri": "https://localhost:8080/"
        },
        "id": "yJV666_nKxkk",
        "outputId": "a1a78729-bb5b-464b-ec3d-ba86a8cf18ad"
      },
      "id": "yJV666_nKxkk",
      "execution_count": null,
      "outputs": [
        {
          "output_type": "execute_result",
          "data": {
            "text/plain": [
              "(1, 2, 2, 3, 2, 4, 2, 5, 2, 6, 2)"
            ]
          },
          "metadata": {},
          "execution_count": 759
        }
      ]
    },
    {
      "cell_type": "markdown",
      "source": [
        "9. Unpack the elements of a tuple into variables."
      ],
      "metadata": {
        "id": "0MfX78dxK3Ys"
      },
      "id": "0MfX78dxK3Ys"
    },
    {
      "cell_type": "code",
      "source": [
        "t2"
      ],
      "metadata": {
        "colab": {
          "base_uri": "https://localhost:8080/"
        },
        "id": "tMmeqrD6Kwu5",
        "outputId": "bc4a8419-523b-4fc3-c944-8f359dee3550"
      },
      "id": "tMmeqrD6Kwu5",
      "execution_count": null,
      "outputs": [
        {
          "output_type": "execute_result",
          "data": {
            "text/plain": [
              "(1, 2, 2, 3, 2, 4, 2, 5, 2, 6, 2)"
            ]
          },
          "metadata": {},
          "execution_count": 760
        }
      ]
    },
    {
      "cell_type": "code",
      "source": [
        "t3 = (1, 2, 3)\n",
        "\n",
        "variable_tup1, variable_tup2, variable_tup3 = t3\n",
        "\n",
        "print(variable_tup1)\n",
        "\n",
        "print(variable_tup2)\n",
        "\n",
        "print(variable_tup3)\n"
      ],
      "metadata": {
        "colab": {
          "base_uri": "https://localhost:8080/"
        },
        "id": "q5-P067xLxlg",
        "outputId": "eda7a87d-45f8-4f17-8d62-3025374c9004"
      },
      "id": "q5-P067xLxlg",
      "execution_count": null,
      "outputs": [
        {
          "output_type": "stream",
          "name": "stdout",
          "text": [
            "1\n",
            "2\n",
            "3\n"
          ]
        }
      ]
    },
    {
      "cell_type": "markdown",
      "source": [
        "10. Create a tuple of even numbers from 1 to 10."
      ],
      "metadata": {
        "id": "HWhYiBfgPR8w"
      },
      "id": "HWhYiBfgPR8w"
    },
    {
      "cell_type": "code",
      "source": [
        "even_num_list = []\n",
        "\n",
        "for i in range(11):\n",
        "\n",
        "  if i%2 == 0:\n",
        "\n",
        "    even_num_list.append(i)\n",
        "\n",
        "\n",
        "even_num_tuple = tuple(even_num_list)"
      ],
      "metadata": {
        "id": "e230HPQePRA7"
      },
      "id": "e230HPQePRA7",
      "execution_count": null,
      "outputs": []
    },
    {
      "cell_type": "code",
      "source": [
        "even_num_tuple"
      ],
      "metadata": {
        "colab": {
          "base_uri": "https://localhost:8080/"
        },
        "id": "bRBrVMW2RuQN",
        "outputId": "ea808061-a273-4870-9432-0f95f1dc7bfa"
      },
      "id": "bRBrVMW2RuQN",
      "execution_count": null,
      "outputs": [
        {
          "output_type": "execute_result",
          "data": {
            "text/plain": [
              "(0, 2, 4, 6, 8, 10)"
            ]
          },
          "metadata": {},
          "execution_count": 763
        }
      ]
    },
    {
      "cell_type": "markdown",
      "source": [
        "11. Create a tuple of odd numbers from 1 to 10."
      ],
      "metadata": {
        "id": "MQXpxL9ITm5d"
      },
      "id": "MQXpxL9ITm5d"
    },
    {
      "cell_type": "code",
      "source": [
        "odd_num_list = []\n",
        "\n",
        "for i in range(11):\n",
        "\n",
        "  if i%2 != 0:\n",
        "\n",
        "    odd_num_list.append(i)\n",
        "\n",
        "\n",
        "odd_num_tuple = tuple(odd_num_list)\n",
        "\n",
        "odd_num_tuple"
      ],
      "metadata": {
        "colab": {
          "base_uri": "https://localhost:8080/"
        },
        "id": "naYzz_caTk-_",
        "outputId": "1d7dcfec-3bae-4c6f-dd1f-dd258efae6f5"
      },
      "id": "naYzz_caTk-_",
      "execution_count": null,
      "outputs": [
        {
          "output_type": "execute_result",
          "data": {
            "text/plain": [
              "(1, 3, 5, 7, 9)"
            ]
          },
          "metadata": {},
          "execution_count": 764
        }
      ]
    },
    {
      "cell_type": "markdown",
      "source": [
        "12. Concatenate two tuples."
      ],
      "metadata": {
        "id": "KBhZYsHyT9Ws"
      },
      "id": "KBhZYsHyT9Ws"
    },
    {
      "cell_type": "code",
      "source": [
        "even_num_tuple"
      ],
      "metadata": {
        "colab": {
          "base_uri": "https://localhost:8080/"
        },
        "id": "VWrQ1sAxT5Qg",
        "outputId": "496d3bee-6abc-48ae-8924-a5de80282b4a"
      },
      "id": "VWrQ1sAxT5Qg",
      "execution_count": null,
      "outputs": [
        {
          "output_type": "execute_result",
          "data": {
            "text/plain": [
              "(0, 2, 4, 6, 8, 10)"
            ]
          },
          "metadata": {},
          "execution_count": 765
        }
      ]
    },
    {
      "cell_type": "code",
      "source": [
        "odd_num_tuple"
      ],
      "metadata": {
        "colab": {
          "base_uri": "https://localhost:8080/"
        },
        "id": "rZZmBjwfUQ1b",
        "outputId": "b8c787fe-bb75-4eb0-b3fa-4b6c85c30443"
      },
      "id": "rZZmBjwfUQ1b",
      "execution_count": null,
      "outputs": [
        {
          "output_type": "execute_result",
          "data": {
            "text/plain": [
              "(1, 3, 5, 7, 9)"
            ]
          },
          "metadata": {},
          "execution_count": 766
        }
      ]
    },
    {
      "cell_type": "code",
      "source": [
        "new_tupl = even_num_tuple + odd_num_tuple"
      ],
      "metadata": {
        "id": "yYZNOljTUSM2"
      },
      "id": "yYZNOljTUSM2",
      "execution_count": null,
      "outputs": []
    },
    {
      "cell_type": "markdown",
      "source": [
        "13. Repeat a tuple three times."
      ],
      "metadata": {
        "id": "OInZa0J8UYBs"
      },
      "id": "OInZa0J8UYBs"
    },
    {
      "cell_type": "code",
      "source": [
        "t4 = (1, 2, 3)\n",
        "\n",
        "\n",
        "t4 * 3"
      ],
      "metadata": {
        "colab": {
          "base_uri": "https://localhost:8080/"
        },
        "id": "tfK6QjDoUXG6",
        "outputId": "f5246331-0bc3-4593-9642-a9eb396b20d8"
      },
      "id": "tfK6QjDoUXG6",
      "execution_count": null,
      "outputs": [
        {
          "output_type": "execute_result",
          "data": {
            "text/plain": [
              "(1, 2, 3, 1, 2, 3, 1, 2, 3)"
            ]
          },
          "metadata": {},
          "execution_count": 768
        }
      ]
    },
    {
      "cell_type": "markdown",
      "source": [
        "14. Check if a tuple is empty."
      ],
      "metadata": {
        "id": "ldMzVDWSUlDk"
      },
      "id": "ldMzVDWSUlDk"
    },
    {
      "cell_type": "code",
      "source": [
        "t4"
      ],
      "metadata": {
        "colab": {
          "base_uri": "https://localhost:8080/"
        },
        "id": "ny5oGGppUi5d",
        "outputId": "10ffb658-718d-48ac-afcf-5cfae7af94ff"
      },
      "id": "ny5oGGppUi5d",
      "execution_count": null,
      "outputs": [
        {
          "output_type": "execute_result",
          "data": {
            "text/plain": [
              "(1, 2, 3)"
            ]
          },
          "metadata": {},
          "execution_count": 769
        }
      ]
    },
    {
      "cell_type": "code",
      "source": [
        "def tup_empty(input_tuple):\n",
        "\n",
        "  if len(input_tuple) == 0:\n",
        "\n",
        "    print(\"The input tuple is empty\")\n",
        "\n",
        "  else:\n",
        "\n",
        "    print(\"The input tuple is not empty\")"
      ],
      "metadata": {
        "id": "CmsJBrG6U1lL"
      },
      "id": "CmsJBrG6U1lL",
      "execution_count": null,
      "outputs": []
    },
    {
      "cell_type": "code",
      "source": [
        "tup_empty(t4)"
      ],
      "metadata": {
        "colab": {
          "base_uri": "https://localhost:8080/"
        },
        "id": "Cv4tf-7xVYdp",
        "outputId": "47042636-e7aa-4bae-9dae-532792955688"
      },
      "id": "Cv4tf-7xVYdp",
      "execution_count": null,
      "outputs": [
        {
          "output_type": "stream",
          "name": "stdout",
          "text": [
            "The input tuple is not empty\n"
          ]
        }
      ]
    },
    {
      "cell_type": "code",
      "source": [
        "t5 = ()"
      ],
      "metadata": {
        "id": "0i9MxfirVam-"
      },
      "id": "0i9MxfirVam-",
      "execution_count": null,
      "outputs": []
    },
    {
      "cell_type": "code",
      "source": [
        "tup_empty(t5)"
      ],
      "metadata": {
        "colab": {
          "base_uri": "https://localhost:8080/"
        },
        "id": "8lLiVT1xVkWM",
        "outputId": "c6509873-6ce1-42d6-ca65-dd35bc24b5dd"
      },
      "id": "8lLiVT1xVkWM",
      "execution_count": null,
      "outputs": [
        {
          "output_type": "stream",
          "name": "stdout",
          "text": [
            "The input tuple is empty\n"
          ]
        }
      ]
    },
    {
      "cell_type": "markdown",
      "source": [
        "15. Create a nested tuple."
      ],
      "metadata": {
        "id": "FxceuqpCVsn7"
      },
      "id": "FxceuqpCVsn7"
    },
    {
      "cell_type": "code",
      "source": [
        "t6  = ((1, 2, 3), (4, 5, 6))"
      ],
      "metadata": {
        "id": "tKY242vtVmnR"
      },
      "id": "tKY242vtVmnR",
      "execution_count": null,
      "outputs": []
    },
    {
      "cell_type": "code",
      "source": [
        "t6"
      ],
      "metadata": {
        "colab": {
          "base_uri": "https://localhost:8080/"
        },
        "id": "2-wYmpq1WS7u",
        "outputId": "66d3a787-f624-4799-8a43-bbeb94be3229"
      },
      "id": "2-wYmpq1WS7u",
      "execution_count": null,
      "outputs": [
        {
          "output_type": "execute_result",
          "data": {
            "text/plain": [
              "((1, 2, 3), (4, 5, 6))"
            ]
          },
          "metadata": {},
          "execution_count": 775
        }
      ]
    },
    {
      "cell_type": "markdown",
      "source": [
        "16. Access the first element of a nested tuple."
      ],
      "metadata": {
        "id": "_5CKwWu7WXEd"
      },
      "id": "_5CKwWu7WXEd"
    },
    {
      "cell_type": "code",
      "source": [
        "t6[0]"
      ],
      "metadata": {
        "colab": {
          "base_uri": "https://localhost:8080/"
        },
        "id": "tc-GW1B0WTht",
        "outputId": "7a57a2ee-d285-4e57-cc55-df5c14b5b7cf"
      },
      "id": "tc-GW1B0WTht",
      "execution_count": null,
      "outputs": [
        {
          "output_type": "execute_result",
          "data": {
            "text/plain": [
              "(1, 2, 3)"
            ]
          },
          "metadata": {},
          "execution_count": 776
        }
      ]
    },
    {
      "cell_type": "markdown",
      "source": [
        "17. Create a tuple with a single element."
      ],
      "metadata": {
        "id": "AYk2STIhWdBm"
      },
      "id": "AYk2STIhWdBm"
    },
    {
      "cell_type": "code",
      "source": [
        "t7 = (2)"
      ],
      "metadata": {
        "id": "Rq8qKPYmWZyf"
      },
      "id": "Rq8qKPYmWZyf",
      "execution_count": null,
      "outputs": []
    },
    {
      "cell_type": "code",
      "source": [
        "t7"
      ],
      "metadata": {
        "colab": {
          "base_uri": "https://localhost:8080/"
        },
        "id": "6JkUnK-RWtF4",
        "outputId": "3906c374-4619-46de-d09b-1c30fed36803"
      },
      "id": "6JkUnK-RWtF4",
      "execution_count": null,
      "outputs": [
        {
          "output_type": "execute_result",
          "data": {
            "text/plain": [
              "2"
            ]
          },
          "metadata": {},
          "execution_count": 778
        }
      ]
    },
    {
      "cell_type": "markdown",
      "source": [
        "18. Compare two tuples."
      ],
      "metadata": {
        "id": "YnD75cCHWxE6"
      },
      "id": "YnD75cCHWxE6"
    },
    {
      "cell_type": "code",
      "source": [
        "def comp_tuples(input_tuple1, input_tuple2):\n",
        "\n",
        "  if input_tuple1 == input_tuple2:\n",
        "\n",
        "    print('Both tuples are equal')\n",
        "\n",
        "  else:\n",
        "\n",
        "    print('Both tuples are not equal')"
      ],
      "metadata": {
        "id": "OAIJa8N7Wt2K"
      },
      "id": "OAIJa8N7Wt2K",
      "execution_count": null,
      "outputs": []
    },
    {
      "cell_type": "code",
      "source": [
        "t8 = (1, 2, 3, 4)\n",
        "\n",
        "t9 = (1, 2, 3, 4)\n",
        "\n",
        "t10 = (2, 3, 4, 5)\n",
        "\n",
        "\n",
        "comp_tuples(t8, t9)"
      ],
      "metadata": {
        "colab": {
          "base_uri": "https://localhost:8080/"
        },
        "id": "-o7jApe3YNt9",
        "outputId": "9112012f-8006-4544-c4ba-3a9b39336d3f"
      },
      "id": "-o7jApe3YNt9",
      "execution_count": null,
      "outputs": [
        {
          "output_type": "stream",
          "name": "stdout",
          "text": [
            "Both tuples are equal\n"
          ]
        }
      ]
    },
    {
      "cell_type": "code",
      "source": [
        "comp_tuples(t9, t10)"
      ],
      "metadata": {
        "colab": {
          "base_uri": "https://localhost:8080/"
        },
        "id": "1AmN6yQtYmNP",
        "outputId": "fb21f216-dc9e-4a96-e728-8384433fb6ec"
      },
      "id": "1AmN6yQtYmNP",
      "execution_count": null,
      "outputs": [
        {
          "output_type": "stream",
          "name": "stdout",
          "text": [
            "Both tuples are not equal\n"
          ]
        }
      ]
    },
    {
      "cell_type": "markdown",
      "source": [
        "19. Delete a tuple."
      ],
      "metadata": {
        "id": "k0T8f-joYw14"
      },
      "id": "k0T8f-joYw14"
    },
    {
      "cell_type": "code",
      "source": [
        "t8"
      ],
      "metadata": {
        "colab": {
          "base_uri": "https://localhost:8080/"
        },
        "id": "WAY0BLMFYt3V",
        "outputId": "c183b96b-c758-45b5-84a9-5d22c1545928"
      },
      "id": "WAY0BLMFYt3V",
      "execution_count": null,
      "outputs": [
        {
          "output_type": "execute_result",
          "data": {
            "text/plain": [
              "(1, 2, 3, 4)"
            ]
          },
          "metadata": {},
          "execution_count": 782
        }
      ]
    },
    {
      "cell_type": "code",
      "source": [
        "del t8"
      ],
      "metadata": {
        "id": "r2E-87WGbdGV"
      },
      "id": "r2E-87WGbdGV",
      "execution_count": null,
      "outputs": []
    },
    {
      "cell_type": "markdown",
      "source": [
        "20. Slice a tuple."
      ],
      "metadata": {
        "id": "fEGHzyTbbmpG"
      },
      "id": "fEGHzyTbbmpG"
    },
    {
      "cell_type": "code",
      "source": [
        "t11 = (1, 2, 3, 4, 5, 6, 7, 8, 9, 10)\n",
        "\n",
        "t11[4:8]"
      ],
      "metadata": {
        "colab": {
          "base_uri": "https://localhost:8080/"
        },
        "id": "unHZmAWebl03",
        "outputId": "bf755e46-6453-4fb4-ab3f-45b01dd94119"
      },
      "id": "unHZmAWebl03",
      "execution_count": null,
      "outputs": [
        {
          "output_type": "execute_result",
          "data": {
            "text/plain": [
              "(5, 6, 7, 8)"
            ]
          },
          "metadata": {},
          "execution_count": 784
        }
      ]
    },
    {
      "cell_type": "markdown",
      "source": [
        "21. Find the maximum value in a tuple."
      ],
      "metadata": {
        "id": "YzRQaWRJb3e1"
      },
      "id": "YzRQaWRJb3e1"
    },
    {
      "cell_type": "code",
      "source": [
        "max(t11)"
      ],
      "metadata": {
        "colab": {
          "base_uri": "https://localhost:8080/"
        },
        "id": "ITmz3OvVb2sp",
        "outputId": "16129f35-3fab-4fd7-a2dd-b09f0773f56e"
      },
      "id": "ITmz3OvVb2sp",
      "execution_count": null,
      "outputs": [
        {
          "output_type": "execute_result",
          "data": {
            "text/plain": [
              "10"
            ]
          },
          "metadata": {},
          "execution_count": 785
        }
      ]
    },
    {
      "cell_type": "markdown",
      "source": [
        "22. Find the minimum value in a tuple."
      ],
      "metadata": {
        "id": "aB7tldQMcAyh"
      },
      "id": "aB7tldQMcAyh"
    },
    {
      "cell_type": "code",
      "source": [
        "min(t11)"
      ],
      "metadata": {
        "colab": {
          "base_uri": "https://localhost:8080/"
        },
        "id": "IeFgXR3Db9Ky",
        "outputId": "7fc4da48-36b5-42aa-e906-bf70b516be35"
      },
      "id": "IeFgXR3Db9Ky",
      "execution_count": null,
      "outputs": [
        {
          "output_type": "execute_result",
          "data": {
            "text/plain": [
              "1"
            ]
          },
          "metadata": {},
          "execution_count": 786
        }
      ]
    },
    {
      "cell_type": "markdown",
      "source": [
        "23. Convert a string to a tuple of characters."
      ],
      "metadata": {
        "id": "0Jzh2vB2cFlu"
      },
      "id": "0Jzh2vB2cFlu"
    },
    {
      "cell_type": "code",
      "source": [
        "s1 = \"AathmaRaama\""
      ],
      "metadata": {
        "id": "Bgzs4BsvcEmG"
      },
      "id": "Bgzs4BsvcEmG",
      "execution_count": null,
      "outputs": []
    },
    {
      "cell_type": "code",
      "source": [
        "s1_list = []\n",
        "\n",
        "for i in range(len(s1)):\n",
        "\n",
        "  s1_list.append(s1[i])"
      ],
      "metadata": {
        "id": "IMKiJqL1cgCT"
      },
      "id": "IMKiJqL1cgCT",
      "execution_count": null,
      "outputs": []
    },
    {
      "cell_type": "code",
      "source": [
        "s1_list"
      ],
      "metadata": {
        "colab": {
          "base_uri": "https://localhost:8080/"
        },
        "id": "0oVCoq70c1Fv",
        "outputId": "63690b85-058d-44ce-f92d-dbb2bb6ee1db"
      },
      "id": "0oVCoq70c1Fv",
      "execution_count": null,
      "outputs": [
        {
          "output_type": "execute_result",
          "data": {
            "text/plain": [
              "['A', 'a', 't', 'h', 'm', 'a', 'R', 'a', 'a', 'm', 'a']"
            ]
          },
          "metadata": {},
          "execution_count": 789
        }
      ]
    },
    {
      "cell_type": "code",
      "source": [
        "s1_tuple = tuple(s1_list)"
      ],
      "metadata": {
        "id": "y0SqVw8BfEsM"
      },
      "id": "y0SqVw8BfEsM",
      "execution_count": null,
      "outputs": []
    },
    {
      "cell_type": "code",
      "source": [
        "s1_tuple"
      ],
      "metadata": {
        "colab": {
          "base_uri": "https://localhost:8080/"
        },
        "id": "yAolhAH6fN_x",
        "outputId": "9caf8399-25df-4ab6-82e0-324472f906af"
      },
      "id": "yAolhAH6fN_x",
      "execution_count": null,
      "outputs": [
        {
          "output_type": "execute_result",
          "data": {
            "text/plain": [
              "('A', 'a', 't', 'h', 'm', 'a', 'R', 'a', 'a', 'm', 'a')"
            ]
          },
          "metadata": {},
          "execution_count": 791
        }
      ]
    },
    {
      "cell_type": "markdown",
      "source": [
        "25. Create a tuple from multiple data types."
      ],
      "metadata": {
        "id": "gVxNPXghfQG-"
      },
      "id": "gVxNPXghfQG-"
    },
    {
      "cell_type": "code",
      "source": [
        "t12 = (1, \"string\", True, 1.234)"
      ],
      "metadata": {
        "id": "HEGsSV7cfPHP"
      },
      "id": "HEGsSV7cfPHP",
      "execution_count": null,
      "outputs": []
    },
    {
      "cell_type": "code",
      "source": [
        "t12"
      ],
      "metadata": {
        "colab": {
          "base_uri": "https://localhost:8080/"
        },
        "id": "7yL2qq4sfkFw",
        "outputId": "8c89383c-b14d-4345-b261-bade90aa748d"
      },
      "id": "7yL2qq4sfkFw",
      "execution_count": null,
      "outputs": [
        {
          "output_type": "execute_result",
          "data": {
            "text/plain": [
              "(1, 'string', True, 1.234)"
            ]
          },
          "metadata": {},
          "execution_count": 793
        }
      ]
    },
    {
      "cell_type": "markdown",
      "source": [
        "26. Check if two tuples are identical."
      ],
      "metadata": {
        "id": "wc9uawfqfmem"
      },
      "id": "wc9uawfqfmem"
    },
    {
      "cell_type": "code",
      "source": [
        "t13 = (9,8,7,6)\n",
        "\n",
        "t14 = (9,8,7,6)\n",
        "\n",
        "t15 = (1,2,3,4)\n",
        "\n",
        "def check_identical(t1, t2):\n",
        "\n",
        "  if t1 == t2:\n",
        "\n",
        "    print(\"The provided tuples are identical\")\n",
        "\n",
        "  else:\n",
        "\n",
        "    print(\"The provided tuples are not identical\")"
      ],
      "metadata": {
        "id": "-37pBzvQflIj"
      },
      "id": "-37pBzvQflIj",
      "execution_count": null,
      "outputs": []
    },
    {
      "cell_type": "code",
      "source": [
        "check_identical(t13, t14)"
      ],
      "metadata": {
        "colab": {
          "base_uri": "https://localhost:8080/"
        },
        "id": "vSWGxpq1iH-q",
        "outputId": "1765fc7f-d7db-4ba6-d7ca-02e5eac8d9ef"
      },
      "id": "vSWGxpq1iH-q",
      "execution_count": null,
      "outputs": [
        {
          "output_type": "stream",
          "name": "stdout",
          "text": [
            "The provided tuples are identical\n"
          ]
        }
      ]
    },
    {
      "cell_type": "code",
      "source": [
        "check_identical(t13, t15)"
      ],
      "metadata": {
        "colab": {
          "base_uri": "https://localhost:8080/"
        },
        "id": "a6jJhC8wiT6g",
        "outputId": "4f5d62cc-fb9d-4408-c75e-65ef16c6a923"
      },
      "id": "a6jJhC8wiT6g",
      "execution_count": null,
      "outputs": [
        {
          "output_type": "stream",
          "name": "stdout",
          "text": [
            "The provided tuples are not identical\n"
          ]
        }
      ]
    },
    {
      "cell_type": "markdown",
      "source": [
        "27. Sort the elements of a tuple."
      ],
      "metadata": {
        "id": "yO0L38PHieSJ"
      },
      "id": "yO0L38PHieSJ"
    },
    {
      "cell_type": "code",
      "source": [
        "t16 = (3, 5, 6, 23, 34, 56, 78, 98, 35, 46, 56)\n",
        "\n",
        "sorted_tuple = sorted(t16)"
      ],
      "metadata": {
        "id": "5LHhVX0yiYG3"
      },
      "id": "5LHhVX0yiYG3",
      "execution_count": null,
      "outputs": []
    },
    {
      "cell_type": "code",
      "source": [
        "sorted_tuple"
      ],
      "metadata": {
        "colab": {
          "base_uri": "https://localhost:8080/"
        },
        "id": "PG0PCKyMjAUz",
        "outputId": "5527ca47-d4e5-461b-8f34-6a03444fb1dd"
      },
      "id": "PG0PCKyMjAUz",
      "execution_count": null,
      "outputs": [
        {
          "output_type": "execute_result",
          "data": {
            "text/plain": [
              "[3, 5, 6, 23, 34, 35, 46, 56, 56, 78, 98]"
            ]
          },
          "metadata": {},
          "execution_count": 798
        }
      ]
    },
    {
      "cell_type": "markdown",
      "source": [
        "28. Convert a tuple of integers to a tuple of strings."
      ],
      "metadata": {
        "id": "N0NKEbidjEz5"
      },
      "id": "N0NKEbidjEz5"
    },
    {
      "cell_type": "code",
      "source": [
        "def int_to_string(input_tuple):\n",
        "\n",
        "  string_list = []\n",
        "\n",
        "  for i in range(len(input_tuple)):\n",
        "\n",
        "    string_list.append(str(input_tuple[i]))\n",
        "\n",
        "  string_tup = tuple(string_list)\n",
        "\n",
        "  return string_tup\n"
      ],
      "metadata": {
        "id": "Z-Y9_KhajB-v"
      },
      "id": "Z-Y9_KhajB-v",
      "execution_count": null,
      "outputs": []
    },
    {
      "cell_type": "code",
      "source": [
        "t16_string = int_to_string(t16)"
      ],
      "metadata": {
        "id": "UcecS8CsmMgG"
      },
      "id": "UcecS8CsmMgG",
      "execution_count": null,
      "outputs": []
    },
    {
      "cell_type": "code",
      "source": [
        "t16_string\n"
      ],
      "metadata": {
        "colab": {
          "base_uri": "https://localhost:8080/"
        },
        "id": "bmuEt5sMsiah",
        "outputId": "5775ec41-f4a8-4918-9795-07d9761f99a8"
      },
      "id": "bmuEt5sMsiah",
      "execution_count": null,
      "outputs": [
        {
          "output_type": "execute_result",
          "data": {
            "text/plain": [
              "('3', '5', '6', '23', '34', '56', '78', '98', '35', '46', '56')"
            ]
          },
          "metadata": {},
          "execution_count": 801
        }
      ]
    },
    {
      "cell_type": "markdown",
      "source": [
        "29. Convert a tuple of strings to a tuple of integers."
      ],
      "metadata": {
        "id": "O_YJ-RI5nijd"
      },
      "id": "O_YJ-RI5nijd"
    },
    {
      "cell_type": "code",
      "source": [
        "def string_to_int(input_tuple):\n",
        "\n",
        "  int_list = []\n",
        "\n",
        "  for i in range(len(input_tuple)):\n",
        "\n",
        "    int_list.append(int(input_tuple[i]))\n",
        "\n",
        "  int_tuple = tuple(int_list)\n",
        "\n",
        "  return int_tuple"
      ],
      "metadata": {
        "id": "853psiYLmOym"
      },
      "id": "853psiYLmOym",
      "execution_count": null,
      "outputs": []
    },
    {
      "cell_type": "code",
      "source": [
        "t16_int = string_to_int(t16_string)"
      ],
      "metadata": {
        "id": "SGC0UCYcqdVE"
      },
      "id": "SGC0UCYcqdVE",
      "execution_count": null,
      "outputs": []
    },
    {
      "cell_type": "code",
      "source": [
        "t16_int"
      ],
      "metadata": {
        "colab": {
          "base_uri": "https://localhost:8080/"
        },
        "id": "w48CDQ1ytRZh",
        "outputId": "1710171e-5c55-4045-c82b-045ac5507360"
      },
      "id": "w48CDQ1ytRZh",
      "execution_count": null,
      "outputs": [
        {
          "output_type": "execute_result",
          "data": {
            "text/plain": [
              "(3, 5, 6, 23, 34, 56, 78, 98, 35, 46, 56)"
            ]
          },
          "metadata": {},
          "execution_count": 804
        }
      ]
    },
    {
      "cell_type": "markdown",
      "source": [
        "30. Merge two tuples."
      ],
      "metadata": {
        "id": "cxBxqsHdqsLS"
      },
      "id": "cxBxqsHdqsLS"
    },
    {
      "cell_type": "code",
      "source": [
        "def merge_tuples(tuple_1, tuple_2):\n",
        "\n",
        "  merged = tuple_1 + tuple_2\n",
        "\n",
        "  return merged\n"
      ],
      "metadata": {
        "id": "iC6D8VPOqoBN"
      },
      "id": "iC6D8VPOqoBN",
      "execution_count": null,
      "outputs": []
    },
    {
      "cell_type": "code",
      "source": [
        "t16_merged = merge_tuples(t16_string, t16_int)"
      ],
      "metadata": {
        "id": "cU2PYYcrtywK"
      },
      "id": "cU2PYYcrtywK",
      "execution_count": null,
      "outputs": []
    },
    {
      "cell_type": "code",
      "source": [
        "t16_merged"
      ],
      "metadata": {
        "colab": {
          "base_uri": "https://localhost:8080/"
        },
        "id": "eoe-dsfduAMV",
        "outputId": "6a5c4afc-a958-45cb-adb3-9c79c1b8c392"
      },
      "id": "eoe-dsfduAMV",
      "execution_count": null,
      "outputs": [
        {
          "output_type": "execute_result",
          "data": {
            "text/plain": [
              "('3',\n",
              " '5',\n",
              " '6',\n",
              " '23',\n",
              " '34',\n",
              " '56',\n",
              " '78',\n",
              " '98',\n",
              " '35',\n",
              " '46',\n",
              " '56',\n",
              " 3,\n",
              " 5,\n",
              " 6,\n",
              " 23,\n",
              " 34,\n",
              " 56,\n",
              " 78,\n",
              " 98,\n",
              " 35,\n",
              " 46,\n",
              " 56)"
            ]
          },
          "metadata": {},
          "execution_count": 807
        }
      ]
    },
    {
      "cell_type": "markdown",
      "source": [
        "31. Flatten a nested tuple."
      ],
      "metadata": {
        "id": "l0drDkgcukQn"
      },
      "id": "l0drDkgcukQn"
    },
    {
      "cell_type": "code",
      "source": [
        "nested_tuple = ((1, 2, 3), (4, 5, 6), (7, 8, 9))"
      ],
      "metadata": {
        "id": "n6zb5-AhuH4D"
      },
      "id": "n6zb5-AhuH4D",
      "execution_count": null,
      "outputs": []
    },
    {
      "cell_type": "code",
      "source": [
        "def flatten_tuple(input_tuple):\n",
        "\n",
        "  flatten_list = []\n",
        "\n",
        "  for i in range(len(input_tuple)):\n",
        "\n",
        "    for j in range(len(input_tuple[i])):\n",
        "\n",
        "      flatten_list.append(input_tuple[i][j])\n",
        "\n",
        "  flatten_tuple = tuple(flatten_list)\n",
        "\n",
        "  return flatten_tuple"
      ],
      "metadata": {
        "id": "j9VoMAU7vSIU"
      },
      "id": "j9VoMAU7vSIU",
      "execution_count": null,
      "outputs": []
    },
    {
      "cell_type": "code",
      "source": [
        "flatten_tuple(nested_tuple)"
      ],
      "metadata": {
        "colab": {
          "base_uri": "https://localhost:8080/"
        },
        "id": "hALYGO330W8_",
        "outputId": "95e465fc-6a87-4442-d376-ad7a2af422d8"
      },
      "id": "hALYGO330W8_",
      "execution_count": null,
      "outputs": [
        {
          "output_type": "execute_result",
          "data": {
            "text/plain": [
              "(1, 2, 3, 4, 5, 6, 7, 8, 9)"
            ]
          },
          "metadata": {},
          "execution_count": 810
        }
      ]
    },
    {
      "cell_type": "markdown",
      "source": [
        "32. Create a tuple of the first 5 prime numbers."
      ],
      "metadata": {
        "id": "7eiJ4PIX0lZQ"
      },
      "id": "7eiJ4PIX0lZQ"
    },
    {
      "cell_type": "code",
      "source": [
        "def prime_no_tuple(no_of_primenos):\n",
        "\n",
        "  prime_number_list = []\n",
        "\n",
        "  for i in range(0, 100):\n",
        "\n",
        "    if len(prime_number_list) <= no_of_primenos - 1:\n",
        "\n",
        "      if i%2 != 0:\n",
        "\n",
        "        prime_number_list.append(i)\n",
        "\n",
        "  prime_number_tuple = tuple(prime_number_list)\n",
        "\n",
        "  return prime_number_tuple"
      ],
      "metadata": {
        "id": "h5NAb4G80cZf"
      },
      "id": "h5NAb4G80cZf",
      "execution_count": null,
      "outputs": []
    },
    {
      "cell_type": "code",
      "source": [
        "prime_no_tuple(5)"
      ],
      "metadata": {
        "colab": {
          "base_uri": "https://localhost:8080/"
        },
        "id": "WVRYbND4sNsw",
        "outputId": "076db7db-4bc1-4331-e503-a31f67003428"
      },
      "id": "WVRYbND4sNsw",
      "execution_count": null,
      "outputs": [
        {
          "output_type": "execute_result",
          "data": {
            "text/plain": [
              "(1, 3, 5, 7, 9)"
            ]
          },
          "metadata": {},
          "execution_count": 812
        }
      ]
    },
    {
      "cell_type": "code",
      "source": [
        "prime_no_tuple(10)"
      ],
      "metadata": {
        "colab": {
          "base_uri": "https://localhost:8080/"
        },
        "id": "OKumK3-CsSzx",
        "outputId": "909f1744-2230-4953-b2f0-4d2117cbe12b"
      },
      "id": "OKumK3-CsSzx",
      "execution_count": null,
      "outputs": [
        {
          "output_type": "execute_result",
          "data": {
            "text/plain": [
              "(1, 3, 5, 7, 9, 11, 13, 15, 17, 19)"
            ]
          },
          "metadata": {},
          "execution_count": 813
        }
      ]
    },
    {
      "cell_type": "markdown",
      "source": [
        "33. Check if a tuple is a palindrome."
      ],
      "metadata": {
        "id": "BBD_3xpBsyER"
      },
      "id": "BBD_3xpBsyER"
    },
    {
      "cell_type": "code",
      "source": [
        "def tuple_palindrome(input_tuple):\n",
        "\n",
        "  input_list = list(input_tuple)\n",
        "\n",
        "  reversed_input_list = input_list[::-1]\n",
        "\n",
        "  reversed_input_tuple = tuple(reversed_input_list)\n",
        "\n",
        "  if input_tuple == reversed_input_tuple:\n",
        "\n",
        "    print(\"The given tuple is a palindrome\")\n",
        "\n",
        "  else:\n",
        "\n",
        "    print(\"The given tuple is not a palindrome\")\n"
      ],
      "metadata": {
        "id": "BqGjRAFyswVC"
      },
      "id": "BqGjRAFyswVC",
      "execution_count": null,
      "outputs": []
    },
    {
      "cell_type": "code",
      "source": [
        "tuple1 = (1, 2, 3, 4, 5, 6)\n",
        "\n",
        "tuple_palindrome(tuple1)"
      ],
      "metadata": {
        "colab": {
          "base_uri": "https://localhost:8080/"
        },
        "id": "K43j1S2ttUbr",
        "outputId": "7eb3f09c-3ca4-4b29-f0a0-778ddc6209da"
      },
      "id": "K43j1S2ttUbr",
      "execution_count": null,
      "outputs": [
        {
          "output_type": "stream",
          "name": "stdout",
          "text": [
            "The given tuple is not a palindrome\n"
          ]
        }
      ]
    },
    {
      "cell_type": "code",
      "source": [
        "tuple2 = (1, 1, 1, 6, 1, 1, 1)\n",
        "\n",
        "tuple_palindrome(tuple2)"
      ],
      "metadata": {
        "colab": {
          "base_uri": "https://localhost:8080/"
        },
        "id": "vpbTdX84u6k8",
        "outputId": "0aadd84f-73b5-44ee-a5bb-9610a242df1e"
      },
      "id": "vpbTdX84u6k8",
      "execution_count": null,
      "outputs": [
        {
          "output_type": "stream",
          "name": "stdout",
          "text": [
            "The given tuple is a palindrome\n"
          ]
        }
      ]
    },
    {
      "cell_type": "markdown",
      "source": [
        "34. Create a tuple of squares of numbers from 1 to 5."
      ],
      "metadata": {
        "id": "E7meQ2ZivJRg"
      },
      "id": "E7meQ2ZivJRg"
    },
    {
      "cell_type": "code",
      "source": [
        "squares = []\n",
        "\n",
        "for i in range(1, 6):\n",
        "\n",
        "  squares.append(i*i)\n",
        "\n",
        "squares_tuple = tuple(squares)\n",
        "\n",
        "print(squares_tuple)"
      ],
      "metadata": {
        "colab": {
          "base_uri": "https://localhost:8080/"
        },
        "id": "OZXaNh22vF5L",
        "outputId": "8b487d2e-25d4-409f-e595-fc228ce4a6f3"
      },
      "id": "OZXaNh22vF5L",
      "execution_count": null,
      "outputs": [
        {
          "output_type": "stream",
          "name": "stdout",
          "text": [
            "(1, 4, 9, 16, 25)\n"
          ]
        }
      ]
    },
    {
      "cell_type": "markdown",
      "source": [
        "35. Filter out all even numbers from a tuple."
      ],
      "metadata": {
        "id": "P5dxeKtav7ub"
      },
      "id": "P5dxeKtav7ub"
    },
    {
      "cell_type": "code",
      "source": [
        "def filter_even_no(input_tuple):\n",
        "\n",
        "  input_list = list(input_tuple)\n",
        "\n",
        "  for i in input_list:\n",
        "\n",
        "    if i%2==0:\n",
        "\n",
        "      input_list.remove(i)\n",
        "\n",
        "  return tuple(input_list)"
      ],
      "metadata": {
        "id": "xRg3g_Luv3pp"
      },
      "id": "xRg3g_Luv3pp",
      "execution_count": null,
      "outputs": []
    },
    {
      "cell_type": "code",
      "source": [
        "tuple3 = (1, 2, 3, 4, 5, 6, 7, 8, 9, 10)\n",
        "\n",
        "filter_even_no(tuple3)"
      ],
      "metadata": {
        "colab": {
          "base_uri": "https://localhost:8080/"
        },
        "id": "ahKdIAdlxOxM",
        "outputId": "77fd29cd-d5fd-4128-f4fd-b6946566dc5f"
      },
      "id": "ahKdIAdlxOxM",
      "execution_count": null,
      "outputs": [
        {
          "output_type": "execute_result",
          "data": {
            "text/plain": [
              "(1, 3, 5, 7, 9)"
            ]
          },
          "metadata": {},
          "execution_count": 819
        }
      ]
    },
    {
      "cell_type": "markdown",
      "source": [
        "36. Multiply all elements in a tuple by 2."
      ],
      "metadata": {
        "id": "sd4Sf665xtCT"
      },
      "id": "sd4Sf665xtCT"
    },
    {
      "cell_type": "code",
      "source": [
        "tuple3"
      ],
      "metadata": {
        "colab": {
          "base_uri": "https://localhost:8080/"
        },
        "id": "YvkELDVyxnlY",
        "outputId": "f8205274-0307-4f53-e21f-774efc845dd7"
      },
      "id": "YvkELDVyxnlY",
      "execution_count": null,
      "outputs": [
        {
          "output_type": "execute_result",
          "data": {
            "text/plain": [
              "(1, 2, 3, 4, 5, 6, 7, 8, 9, 10)"
            ]
          },
          "metadata": {},
          "execution_count": 820
        }
      ]
    },
    {
      "cell_type": "code",
      "source": [
        "tuple4 = tuple(i*2 for i in tuple3)"
      ],
      "metadata": {
        "id": "EXxp1d9Nx0I3"
      },
      "id": "EXxp1d9Nx0I3",
      "execution_count": null,
      "outputs": []
    },
    {
      "cell_type": "code",
      "source": [
        "print(tuple4)"
      ],
      "metadata": {
        "colab": {
          "base_uri": "https://localhost:8080/"
        },
        "id": "sWvFZy3Mx__W",
        "outputId": "3ec931b7-caa7-472c-ff48-28d1d1d822d1"
      },
      "id": "sWvFZy3Mx__W",
      "execution_count": null,
      "outputs": [
        {
          "output_type": "stream",
          "name": "stdout",
          "text": [
            "(2, 4, 6, 8, 10, 12, 14, 16, 18, 20)\n"
          ]
        }
      ]
    },
    {
      "cell_type": "markdown",
      "source": [
        "37. Create a tuple of random numbers."
      ],
      "metadata": {
        "id": "E53dNp3KyJhX"
      },
      "id": "E53dNp3KyJhX"
    },
    {
      "cell_type": "code",
      "source": [
        "def rand_tuple(size_of_tuple):\n",
        "\n",
        "  import random\n",
        "\n",
        "  random_tuple = tuple(random.randint(1, 100) for i in range(size_of_tuple))\n",
        "\n",
        "  return random_tuple"
      ],
      "metadata": {
        "id": "P8CBTEJ0yIHd"
      },
      "id": "P8CBTEJ0yIHd",
      "execution_count": null,
      "outputs": []
    },
    {
      "cell_type": "code",
      "source": [
        "rand_tuple(5)"
      ],
      "metadata": {
        "colab": {
          "base_uri": "https://localhost:8080/"
        },
        "id": "QS-XG7Ajy6jN",
        "outputId": "897924ab-5068-4f9e-b5bd-8f03e6fce2ca"
      },
      "id": "QS-XG7Ajy6jN",
      "execution_count": null,
      "outputs": [
        {
          "output_type": "execute_result",
          "data": {
            "text/plain": [
              "(86, 85, 99, 39, 61)"
            ]
          },
          "metadata": {},
          "execution_count": 824
        }
      ]
    },
    {
      "cell_type": "markdown",
      "source": [
        "38. Check if a tuple is sorted."
      ],
      "metadata": {
        "id": "K-kmYHU7zGmt"
      },
      "id": "K-kmYHU7zGmt"
    },
    {
      "cell_type": "code",
      "source": [
        "def check_sorted_tuple(input_tuple):\n",
        "\n",
        "  input_list = list(input_tuple)\n",
        "\n",
        "  sorted_input_list = sorted(input_list)\n",
        "\n",
        "  if input_list == sorted_input_list:\n",
        "\n",
        "    print('The given tuple is sorted')\n",
        "\n",
        "  else:\n",
        "\n",
        "    print('The given tuple is not sorted')"
      ],
      "metadata": {
        "id": "3DfnWZjwy8Tu"
      },
      "id": "3DfnWZjwy8Tu",
      "execution_count": null,
      "outputs": []
    },
    {
      "cell_type": "code",
      "source": [
        "tuple5 = (1, 2, 3, 4, 5, 6)\n",
        "\n",
        "tuple6 = (7, 8, 9, 8, 12)\n",
        "\n",
        "check_sorted_tuple(tuple5)\n",
        "\n",
        "check_sorted_tuple(tuple6)"
      ],
      "metadata": {
        "colab": {
          "base_uri": "https://localhost:8080/"
        },
        "id": "7564ZFHE0RhR",
        "outputId": "342dcc0d-6984-4435-83d1-dc4e09699129"
      },
      "id": "7564ZFHE0RhR",
      "execution_count": null,
      "outputs": [
        {
          "output_type": "stream",
          "name": "stdout",
          "text": [
            "The given tuple is sorted\n",
            "The given tuple is not sorted\n"
          ]
        }
      ]
    },
    {
      "cell_type": "markdown",
      "source": [
        "39. Rotate a tuple to the left by `n` positions."
      ],
      "metadata": {
        "id": "ZRLq97kH0nfZ"
      },
      "id": "ZRLq97kH0nfZ"
    },
    {
      "cell_type": "code",
      "source": [
        "def shift_tuple_pos_left(input_tuple, no_of_pos):\n",
        "\n",
        "  input_list = list(input_tuple)\n",
        "\n",
        "  left_shifted = []\n",
        "\n",
        "  for i in range(len(input_list)):\n",
        "\n",
        "    index = i + no_of_pos\n",
        "\n",
        "    if index > len(input_list)-1:\n",
        "\n",
        "      index = index - len(input_list)\n",
        "\n",
        "      left_shifted.append(input_list[index])\n",
        "\n",
        "    else:\n",
        "\n",
        "      left_shifted.append(input_list[index])\n",
        "\n",
        "\n",
        "  return tuple(left_shifted)"
      ],
      "metadata": {
        "id": "a9_2jpI70mP7"
      },
      "id": "a9_2jpI70mP7",
      "execution_count": null,
      "outputs": []
    },
    {
      "cell_type": "code",
      "source": [
        "tuple6"
      ],
      "metadata": {
        "colab": {
          "base_uri": "https://localhost:8080/"
        },
        "id": "a_GA8_-V3AK_",
        "outputId": "c4ee52b5-320b-404d-f1d1-abe6390f9dd4"
      },
      "id": "a_GA8_-V3AK_",
      "execution_count": null,
      "outputs": [
        {
          "output_type": "execute_result",
          "data": {
            "text/plain": [
              "(7, 8, 9, 8, 12)"
            ]
          },
          "metadata": {},
          "execution_count": 828
        }
      ]
    },
    {
      "cell_type": "code",
      "source": [
        "shift_tuple_pos_left(tuple6, 2)"
      ],
      "metadata": {
        "colab": {
          "base_uri": "https://localhost:8080/"
        },
        "id": "uO8uDG8W3B2j",
        "outputId": "2317999a-adc4-437a-a215-4e6e587bebc8"
      },
      "id": "uO8uDG8W3B2j",
      "execution_count": null,
      "outputs": [
        {
          "output_type": "execute_result",
          "data": {
            "text/plain": [
              "(9, 8, 12, 7, 8)"
            ]
          },
          "metadata": {},
          "execution_count": 829
        }
      ]
    },
    {
      "cell_type": "markdown",
      "source": [
        "40. Rotate a tuple to the right by `n` positions."
      ],
      "metadata": {
        "id": "lToWoSRA7La_"
      },
      "id": "lToWoSRA7La_"
    },
    {
      "cell_type": "code",
      "source": [
        "def shift_tuple_pos_right(input_tuple, no_of_pos):\n",
        "\n",
        "  input_list = list(input_tuple)\n",
        "\n",
        "  right_shifted = []\n",
        "\n",
        "  for i in range(len(input_list)):\n",
        "\n",
        "    index = i + len(input_list) - no_of_pos\n",
        "\n",
        "    if index > len(input_list)-1:\n",
        "\n",
        "      index = index - len(input_list)\n",
        "\n",
        "      right_shifted.append(input_list[index])\n",
        "\n",
        "    else:\n",
        "\n",
        "      right_shifted.append(input_list[index])\n",
        "\n",
        "\n",
        "  return tuple(right_shifted)\n",
        "\n"
      ],
      "metadata": {
        "id": "Bi_mmSE03GBw"
      },
      "id": "Bi_mmSE03GBw",
      "execution_count": null,
      "outputs": []
    },
    {
      "cell_type": "code",
      "source": [
        "tuple7 = (9,8,7,6,5,4)\n",
        "\n",
        "shift_tuple_pos_right(tuple7, 2)"
      ],
      "metadata": {
        "colab": {
          "base_uri": "https://localhost:8080/"
        },
        "id": "jhi_vrn_9eAx",
        "outputId": "6bb0b154-934f-4dc8-ea5f-b949965636c1"
      },
      "id": "jhi_vrn_9eAx",
      "execution_count": null,
      "outputs": [
        {
          "output_type": "execute_result",
          "data": {
            "text/plain": [
              "(5, 4, 9, 8, 7, 6)"
            ]
          },
          "metadata": {},
          "execution_count": 832
        }
      ]
    },
    {
      "cell_type": "markdown",
      "source": [
        "41. Create a tuple of the first 5 Fibonacci numbers."
      ],
      "metadata": {
        "id": "W6J15ztf6pmG"
      },
      "id": "W6J15ztf6pmG"
    },
    {
      "cell_type": "code",
      "source": [
        "def fib_tuple(no_of_fib):\n",
        "\n",
        "  init_fib = [0,1]\n",
        "\n",
        "  for i in range(0, 100):\n",
        "\n",
        "    if len(init_fib)+1<= no_of_fib:\n",
        "\n",
        "      init_fib.append(init_fib[i]+init_fib[i+1])\n",
        "\n",
        "  return tuple(init_fib)"
      ],
      "metadata": {
        "id": "IqY7TqLh9j4t"
      },
      "id": "IqY7TqLh9j4t",
      "execution_count": null,
      "outputs": []
    },
    {
      "cell_type": "code",
      "source": [
        "fib_tuple(5)"
      ],
      "metadata": {
        "colab": {
          "base_uri": "https://localhost:8080/"
        },
        "id": "jmIsnRoQ9eVU",
        "outputId": "ad7035b3-2f61-4ae5-ba2b-5b9cfd168b9a"
      },
      "id": "jmIsnRoQ9eVU",
      "execution_count": null,
      "outputs": [
        {
          "output_type": "execute_result",
          "data": {
            "text/plain": [
              "(0, 1, 1, 2, 3)"
            ]
          },
          "metadata": {},
          "execution_count": 842
        }
      ]
    },
    {
      "cell_type": "markdown",
      "source": [
        "42. Create a tuple from user input."
      ],
      "metadata": {
        "id": "_dQCRX6Q-FIL"
      },
      "id": "_dQCRX6Q-FIL"
    },
    {
      "cell_type": "code",
      "source": [
        "user_input = input(\"Enter the elements of the tuple: \")\n",
        "\n",
        "split_user_input = user_input.split(\",\")\n",
        "\n",
        "split_user_input"
      ],
      "metadata": {
        "colab": {
          "base_uri": "https://localhost:8080/"
        },
        "id": "9cC08lAI9hTM",
        "outputId": "c9413dc4-61c3-4817-9cbf-f0c039fe7987"
      },
      "id": "9cC08lAI9hTM",
      "execution_count": null,
      "outputs": [
        {
          "name": "stdout",
          "output_type": "stream",
          "text": [
            "Enter the elements of the tuple: 1,2,3,4,5,6,7,8,9\n"
          ]
        },
        {
          "output_type": "execute_result",
          "data": {
            "text/plain": [
              "['1', '2', '3', '4', '5', '6', '7', '8', '9']"
            ]
          },
          "metadata": {},
          "execution_count": 850
        }
      ]
    },
    {
      "cell_type": "markdown",
      "source": [
        "43. Swap two elements in a tuple."
      ],
      "metadata": {
        "id": "B_dbsaEUADYv"
      },
      "id": "B_dbsaEUADYv"
    },
    {
      "cell_type": "code",
      "source": [
        "def swap(input_tuple, ele1, ele2):\n",
        "\n",
        "  input_list = list(input_tuple)\n",
        "\n",
        "  idx_ele1 = 0\n",
        "  idx_ele2 = 0\n",
        "\n",
        "  for i in range(len(input_list)):\n",
        "\n",
        "    if input_list[i] == ele1:\n",
        "\n",
        "      idx_ele1 += i\n",
        "\n",
        "    elif input_list[i] == ele2:\n",
        "\n",
        "      idx_ele2 += i\n",
        "\n",
        "  input_list[idx_ele1] = ele2\n",
        "\n",
        "  input_list[idx_ele2] = ele1\n",
        "\n",
        "  return tuple(input_list)"
      ],
      "metadata": {
        "id": "tqJYvZtY-fqD"
      },
      "id": "tqJYvZtY-fqD",
      "execution_count": null,
      "outputs": []
    },
    {
      "cell_type": "code",
      "source": [
        "tup1 = (1, 2, 3, 4, 5, 6, 7, 8)"
      ],
      "metadata": {
        "id": "58eRlE9E-g4z"
      },
      "id": "58eRlE9E-g4z",
      "execution_count": null,
      "outputs": []
    },
    {
      "cell_type": "code",
      "source": [
        "swap(tup1, 3, 6)"
      ],
      "metadata": {
        "colab": {
          "base_uri": "https://localhost:8080/"
        },
        "id": "X5qQ5pcYEi4x",
        "outputId": "06ac87a0-2522-4c2b-98ba-e6a3c9d33e81"
      },
      "id": "X5qQ5pcYEi4x",
      "execution_count": null,
      "outputs": [
        {
          "output_type": "execute_result",
          "data": {
            "text/plain": [
              "(1, 2, 6, 4, 5, 3, 7, 8)"
            ]
          },
          "metadata": {},
          "execution_count": 7
        }
      ]
    },
    {
      "cell_type": "markdown",
      "source": [
        "44. Reverse the elements of a tuple."
      ],
      "metadata": {
        "id": "phi_NfhxD7Qc"
      },
      "id": "phi_NfhxD7Qc"
    },
    {
      "cell_type": "code",
      "source": [
        "def reverse_tuple(input_tuple):\n",
        "\n",
        "  input_list = list(input_tuple)\n",
        "\n",
        "  reversed_input_list = input_list[::-1]\n",
        "\n",
        "  return tuple(reversed_input_list)"
      ],
      "metadata": {
        "id": "biXAYsH_EtsN"
      },
      "id": "biXAYsH_EtsN",
      "execution_count": null,
      "outputs": []
    },
    {
      "cell_type": "code",
      "source": [
        "reverse_tuple(tup1)"
      ],
      "metadata": {
        "colab": {
          "base_uri": "https://localhost:8080/"
        },
        "id": "LuMVInCdGG8b",
        "outputId": "3a519c01-e1aa-488f-a629-34e79e65e1fc"
      },
      "id": "LuMVInCdGG8b",
      "execution_count": null,
      "outputs": [
        {
          "output_type": "execute_result",
          "data": {
            "text/plain": [
              "(8, 7, 6, 5, 4, 3, 2, 1)"
            ]
          },
          "metadata": {},
          "execution_count": 9
        }
      ]
    },
    {
      "cell_type": "markdown",
      "source": [
        "45. Create a tuple of the first `n` powers of 2."
      ],
      "metadata": {
        "id": "UepiOgQEGNvz"
      },
      "id": "UepiOgQEGNvz"
    },
    {
      "cell_type": "code",
      "source": [
        "def powers_of_2(n):\n",
        "\n",
        "  powersof_2 = tuple( 2**i for i in range(1, n+1))\n",
        "\n",
        "  return powersof_2\n",
        "\n"
      ],
      "metadata": {
        "id": "ZTf18ev4GLIF"
      },
      "id": "ZTf18ev4GLIF",
      "execution_count": null,
      "outputs": []
    },
    {
      "cell_type": "code",
      "source": [
        "powers_of_2(10)"
      ],
      "metadata": {
        "colab": {
          "base_uri": "https://localhost:8080/"
        },
        "id": "iJk-f2sdH1x5",
        "outputId": "8e4e107e-9c66-44c3-a75a-217aba574591"
      },
      "id": "iJk-f2sdH1x5",
      "execution_count": null,
      "outputs": [
        {
          "output_type": "execute_result",
          "data": {
            "text/plain": [
              "(2, 4, 8, 16, 32, 64, 128, 256, 512, 1024)"
            ]
          },
          "metadata": {},
          "execution_count": 13
        }
      ]
    },
    {
      "cell_type": "markdown",
      "source": [
        "46. Find the longest string in a tuple of strings."
      ],
      "metadata": {
        "id": "3lk2LzHNH-Og"
      },
      "id": "3lk2LzHNH-Og"
    },
    {
      "cell_type": "code",
      "source": [
        "def long_string(input_tuple):\n",
        "\n",
        "  input_list = list(input_tuple)\n",
        "\n",
        "  string_len = []\n",
        "\n",
        "  for i in range(len(input_list)):\n",
        "\n",
        "    string_len.append(len(input_list[i]))\n",
        "\n",
        "  max_length = max(string_len)\n",
        "\n",
        "  for i in range(len(input_list)):\n",
        "\n",
        "    if len(input_list[i]) == max_length:\n",
        "\n",
        "      print(f\"The longest word in the given sentence is: {input_list[i]}\")"
      ],
      "metadata": {
        "id": "uT-Gp-s1H4T1"
      },
      "id": "uT-Gp-s1H4T1",
      "execution_count": null,
      "outputs": []
    },
    {
      "cell_type": "code",
      "source": [
        "tuple23 = (\"a\", \"Teju\", \"Power rangers\", \"Dexter's Laboratory\")"
      ],
      "metadata": {
        "id": "J1QmS4uapYeH"
      },
      "id": "J1QmS4uapYeH",
      "execution_count": null,
      "outputs": []
    },
    {
      "cell_type": "code",
      "source": [
        "long_string(tuple23)"
      ],
      "metadata": {
        "colab": {
          "base_uri": "https://localhost:8080/"
        },
        "id": "IZpPSq25powG",
        "outputId": "19001977-1cec-449c-f087-435e7e86440c"
      },
      "id": "IZpPSq25powG",
      "execution_count": null,
      "outputs": [
        {
          "output_type": "stream",
          "name": "stdout",
          "text": [
            "The longest word in the given sentence is: Dexter's Laboratory\n"
          ]
        }
      ]
    },
    {
      "cell_type": "markdown",
      "source": [
        "47. Find the shortest string in a tuple of strings."
      ],
      "metadata": {
        "id": "Qs1C5-zc_ukW"
      },
      "id": "Qs1C5-zc_ukW"
    },
    {
      "cell_type": "code",
      "source": [
        "def short_string(input_tuple):\n",
        "\n",
        "  input_list = list(input_tuple)\n",
        "\n",
        "  string_len = []\n",
        "\n",
        "  for i in range(len(input_list)):\n",
        "\n",
        "    string_len.append(len(input_list[i]))\n",
        "\n",
        "  min_length = min(string_len)\n",
        "\n",
        "  for i in range(len(input_list)):\n",
        "\n",
        "    if len(input_list[i]) == min_length:\n",
        "\n",
        "      print(f\"The shortest word in the given sentence is: {input_list[i]}\")"
      ],
      "metadata": {
        "id": "leuPUeHop5QO"
      },
      "id": "leuPUeHop5QO",
      "execution_count": null,
      "outputs": []
    },
    {
      "cell_type": "code",
      "source": [
        "tuple23 = (\"a\", \"Teju\", \"Power rangers\", \"Dexter's Laboratory\")"
      ],
      "metadata": {
        "id": "I6lvKudZ__qe"
      },
      "id": "I6lvKudZ__qe",
      "execution_count": null,
      "outputs": []
    },
    {
      "cell_type": "code",
      "source": [
        "short_string(tuple23)"
      ],
      "metadata": {
        "colab": {
          "base_uri": "https://localhost:8080/"
        },
        "id": "gyJFkjWFADCx",
        "outputId": "7865e078-1518-471b-d9b7-1b3285abb1f1"
      },
      "id": "gyJFkjWFADCx",
      "execution_count": null,
      "outputs": [
        {
          "output_type": "stream",
          "name": "stdout",
          "text": [
            "The shortest word in the given sentence is: a\n"
          ]
        }
      ]
    },
    {
      "cell_type": "markdown",
      "source": [
        "48. Create a tuple of the first `n` triangular numbers."
      ],
      "metadata": {
        "id": "4EeQyWGyAHmO"
      },
      "id": "4EeQyWGyAHmO"
    },
    {
      "cell_type": "code",
      "source": [
        "def triangular_numbers_tuple(n):\n",
        "\n",
        "  n_list = [(i*(i+1))/2 for i in range(n)]\n",
        "\n",
        "  return n_list\n"
      ],
      "metadata": {
        "id": "Qk5OzBLIAGar"
      },
      "id": "Qk5OzBLIAGar",
      "execution_count": null,
      "outputs": []
    },
    {
      "cell_type": "code",
      "source": [
        "triangular_numbers_tuple(10)"
      ],
      "metadata": {
        "colab": {
          "base_uri": "https://localhost:8080/"
        },
        "id": "ufCY287YB9qQ",
        "outputId": "021d049a-9857-4467-d509-37ea2a511186"
      },
      "id": "ufCY287YB9qQ",
      "execution_count": null,
      "outputs": [
        {
          "output_type": "execute_result",
          "data": {
            "text/plain": [
              "[0.0, 1.0, 3.0, 6.0, 10.0, 15.0, 21.0, 28.0, 36.0, 45.0]"
            ]
          },
          "metadata": {},
          "execution_count": 24
        }
      ]
    },
    {
      "cell_type": "markdown",
      "source": [
        "49. Check if a tuple contains another tuple as a subsequence."
      ],
      "metadata": {
        "id": "cEaJztJICnLX"
      },
      "id": "cEaJztJICnLX"
    },
    {
      "cell_type": "code",
      "source": [
        "def sub_seq_tup(main_tuple, sub_tuple):\n",
        "    main_list = list(main_tuple)\n",
        "    sub_list = list(sub_tuple)\n",
        "\n",
        "    main_set = set(main_tuple)\n",
        "    sub_set = set(sub_tuple)\n",
        "\n",
        "    main_list_idx = []\n",
        "    sub_list_idx = []\n",
        "\n",
        "    common_ele = main_set.intersection(sub_set)\n",
        "\n",
        "    if common_ele:\n",
        "\n",
        "\n",
        "      for i in range(len(main_list)):\n",
        "          for j in range(len(sub_list)):\n",
        "              if main_list[i] == sub_list[j]:\n",
        "                  main_list_idx.append(i)\n",
        "                  sub_list_idx.append(j)\n",
        "\n",
        "    sorted_main_idx = sorted(main_list_idx)\n",
        "    sorted_sub_idx = sorted(sub_list_idx)\n",
        "\n",
        "    if main_list_idx == sorted_main_idx and sub_list_idx == sorted_sub_idx:\n",
        "        print('The provided sub set is a subsequence of the main set')\n",
        "    else:\n",
        "        print('The provided sub set is not a subsequence of the main set')"
      ],
      "metadata": {
        "id": "2cAi1u8pCFAt"
      },
      "id": "2cAi1u8pCFAt",
      "execution_count": null,
      "outputs": []
    },
    {
      "cell_type": "code",
      "source": [
        "tup12 = (1, 2, 3, 4, 5, 6)\n",
        "\n",
        "tup13 = (2, 6, 4)\n",
        "\n",
        "sub_seq_tup(tup12, tup13)"
      ],
      "metadata": {
        "colab": {
          "base_uri": "https://localhost:8080/"
        },
        "id": "F2YW7lsVEQO6",
        "outputId": "dd03749f-3d3f-48ea-84e6-a703d228b7f6"
      },
      "id": "F2YW7lsVEQO6",
      "execution_count": null,
      "outputs": [
        {
          "output_type": "stream",
          "name": "stdout",
          "text": [
            "The provided sub set is not a subsequence of the main set\n"
          ]
        }
      ]
    },
    {
      "cell_type": "markdown",
      "source": [
        "50. Create a tuple of alternating 1s and 0s of length `n`."
      ],
      "metadata": {
        "id": "SXfsd15IMW_8"
      },
      "id": "SXfsd15IMW_8"
    },
    {
      "cell_type": "code",
      "source": [
        "def zeros_and_ones(n):\n",
        "\n",
        "  one_zero_list = []\n",
        "\n",
        "  for i in range(n):\n",
        "\n",
        "    if i%2 == 0:\n",
        "\n",
        "      one_zero_list.append(1)\n",
        "\n",
        "    else:\n",
        "\n",
        "      one_zero_list.append(0)\n",
        "\n",
        "  return tuple(one_zero_list)"
      ],
      "metadata": {
        "id": "cM7X1l7gEc3v"
      },
      "id": "cM7X1l7gEc3v",
      "execution_count": null,
      "outputs": []
    },
    {
      "cell_type": "code",
      "source": [
        "zeros_and_ones(10)"
      ],
      "metadata": {
        "colab": {
          "base_uri": "https://localhost:8080/"
        },
        "id": "LQTDfeRooyjz",
        "outputId": "e55a51cd-7849-4a22-b655-3e64e1a14231"
      },
      "id": "LQTDfeRooyjz",
      "execution_count": null,
      "outputs": [
        {
          "output_type": "execute_result",
          "data": {
            "text/plain": [
              "(1, 0, 1, 0, 1, 0, 1, 0, 1, 0)"
            ]
          },
          "metadata": {},
          "execution_count": 42
        }
      ]
    },
    {
      "cell_type": "markdown",
      "source": [
        "**Set Based Practice Problem :**"
      ],
      "metadata": {
        "id": "hMwcBha5pLcT"
      },
      "id": "hMwcBha5pLcT"
    },
    {
      "cell_type": "markdown",
      "source": [
        "1. Create a set with integers from 1 to 5."
      ],
      "metadata": {
        "id": "n7PNyAnZpRjj"
      },
      "id": "n7PNyAnZpRjj"
    },
    {
      "cell_type": "code",
      "source": [
        "def set_integers(n):\n",
        "\n",
        "  set_n = []\n",
        "\n",
        "  for i in range(1, n+1):\n",
        "\n",
        "    set_n.append(i)\n",
        "\n",
        "  return set(set_n)"
      ],
      "metadata": {
        "id": "jGmk5DUFo0gA"
      },
      "id": "jGmk5DUFo0gA",
      "execution_count": null,
      "outputs": []
    },
    {
      "cell_type": "code",
      "source": [
        "set_integers(5)"
      ],
      "metadata": {
        "colab": {
          "base_uri": "https://localhost:8080/"
        },
        "id": "NbijB51VrbTQ",
        "outputId": "12117718-6880-4dfc-baab-24eeb41512b7"
      },
      "id": "NbijB51VrbTQ",
      "execution_count": null,
      "outputs": [
        {
          "output_type": "execute_result",
          "data": {
            "text/plain": [
              "{1, 2, 3, 4, 5}"
            ]
          },
          "metadata": {},
          "execution_count": 48
        }
      ]
    },
    {
      "cell_type": "markdown",
      "source": [
        "2. Add an element to a set."
      ],
      "metadata": {
        "id": "6gjha9JJs-vL"
      },
      "id": "6gjha9JJs-vL"
    },
    {
      "cell_type": "code",
      "source": [
        "set1 = {1, 2, 3, 4, 5}"
      ],
      "metadata": {
        "id": "lhvvvFusseCW"
      },
      "id": "lhvvvFusseCW",
      "execution_count": null,
      "outputs": []
    },
    {
      "cell_type": "code",
      "source": [
        "set1.add(6)"
      ],
      "metadata": {
        "id": "D0SkYMBNtFhL"
      },
      "id": "D0SkYMBNtFhL",
      "execution_count": null,
      "outputs": []
    },
    {
      "cell_type": "code",
      "source": [
        "set1"
      ],
      "metadata": {
        "colab": {
          "base_uri": "https://localhost:8080/"
        },
        "id": "tkLeX9MdtfcW",
        "outputId": "b10ceb94-46f4-4752-8d4a-84f90a9266d5"
      },
      "id": "tkLeX9MdtfcW",
      "execution_count": null,
      "outputs": [
        {
          "output_type": "execute_result",
          "data": {
            "text/plain": [
              "{1, 2, 3, 4, 5, 6}"
            ]
          },
          "metadata": {},
          "execution_count": 51
        }
      ]
    },
    {
      "cell_type": "markdown",
      "source": [
        "3. Remove an element from a set."
      ],
      "metadata": {
        "id": "_ri9B20WthmA"
      },
      "id": "_ri9B20WthmA"
    },
    {
      "cell_type": "code",
      "source": [
        "set1.remove(6)"
      ],
      "metadata": {
        "id": "DIcBtz0OtgZR"
      },
      "id": "DIcBtz0OtgZR",
      "execution_count": null,
      "outputs": []
    },
    {
      "cell_type": "code",
      "source": [
        "set1"
      ],
      "metadata": {
        "colab": {
          "base_uri": "https://localhost:8080/"
        },
        "id": "1c_spncAtoUs",
        "outputId": "591f4e96-5f30-4683-d2ee-b20e929b4b9f"
      },
      "id": "1c_spncAtoUs",
      "execution_count": null,
      "outputs": [
        {
          "output_type": "execute_result",
          "data": {
            "text/plain": [
              "{1, 2, 3, 4, 5}"
            ]
          },
          "metadata": {},
          "execution_count": 53
        }
      ]
    },
    {
      "cell_type": "markdown",
      "source": [
        "4. Check if an element exists in a set."
      ],
      "metadata": {
        "id": "QrsDp47wtr1X"
      },
      "id": "QrsDp47wtr1X"
    },
    {
      "cell_type": "code",
      "source": [
        "set2 = {1, 2, 3, 4, 5, 6}"
      ],
      "metadata": {
        "id": "A-IGGteAtpDa"
      },
      "id": "A-IGGteAtpDa",
      "execution_count": 1,
      "outputs": []
    },
    {
      "cell_type": "code",
      "source": [
        "element = 6\n",
        "\n",
        "if element in set2:\n",
        "\n",
        "  print('The given element exist in the set')\n",
        "\n",
        "else:\n",
        "\n",
        "  print('The given element does not exist in the set')"
      ],
      "metadata": {
        "colab": {
          "base_uri": "https://localhost:8080/"
        },
        "id": "s6IX4DUVbfI6",
        "outputId": "15401aa8-a23d-4e6c-a3ec-66eaa262de95"
      },
      "id": "s6IX4DUVbfI6",
      "execution_count": 5,
      "outputs": [
        {
          "output_type": "stream",
          "name": "stdout",
          "text": [
            "The given element exist in the set\n"
          ]
        }
      ]
    },
    {
      "cell_type": "markdown",
      "source": [
        "5. Find the length of a set without using the `len()` function."
      ],
      "metadata": {
        "id": "V6WqMm3_fIwe"
      },
      "id": "V6WqMm3_fIwe"
    },
    {
      "cell_type": "code",
      "source": [
        "set3 = {1, 2, 3, 4, 5, 6, 7, 8, 9, 10}\n",
        "\n",
        "length_of_set = 0\n",
        "\n",
        "for i in set3:\n",
        "\n",
        "  length_of_set += 1\n",
        "\n",
        "length_of_set\n",
        "\n",
        "\n",
        "\n"
      ],
      "metadata": {
        "colab": {
          "base_uri": "https://localhost:8080/"
        },
        "id": "ceA-unyme88s",
        "outputId": "7d574f59-8e80-43bb-b313-71413acf4761"
      },
      "id": "ceA-unyme88s",
      "execution_count": 8,
      "outputs": [
        {
          "output_type": "execute_result",
          "data": {
            "text/plain": [
              "10"
            ]
          },
          "metadata": {},
          "execution_count": 8
        }
      ]
    },
    {
      "cell_type": "markdown",
      "source": [
        "6. Clear all elements from a set."
      ],
      "metadata": {
        "id": "wJiolYrFf-7B"
      },
      "id": "wJiolYrFf-7B"
    },
    {
      "cell_type": "code",
      "source": [
        "set3.clear()"
      ],
      "metadata": {
        "id": "R1OVFl9yf9hR"
      },
      "id": "R1OVFl9yf9hR",
      "execution_count": 9,
      "outputs": []
    },
    {
      "cell_type": "code",
      "source": [
        "set3"
      ],
      "metadata": {
        "colab": {
          "base_uri": "https://localhost:8080/"
        },
        "id": "FD7kjDJUgGLN",
        "outputId": "67690699-235d-4292-82d5-2111ac482d27"
      },
      "id": "FD7kjDJUgGLN",
      "execution_count": 10,
      "outputs": [
        {
          "output_type": "execute_result",
          "data": {
            "text/plain": [
              "set()"
            ]
          },
          "metadata": {},
          "execution_count": 10
        }
      ]
    },
    {
      "cell_type": "markdown",
      "source": [
        "7. Create a set of even numbers from 1 to 10."
      ],
      "metadata": {
        "id": "raTEGy4JgMwN"
      },
      "id": "raTEGy4JgMwN"
    },
    {
      "cell_type": "code",
      "source": [
        "def even_numbers(n):\n",
        "\n",
        "  even_set = set({})\n",
        "\n",
        "  for i in range(n+1):\n",
        "\n",
        "    if i % 2 == 0:\n",
        "\n",
        "      even_set.add(i)\n",
        "\n",
        "  return even_set"
      ],
      "metadata": {
        "id": "P9SRfFLOgLct"
      },
      "id": "P9SRfFLOgLct",
      "execution_count": 14,
      "outputs": []
    },
    {
      "cell_type": "code",
      "source": [
        "type(even_numbers(10))"
      ],
      "metadata": {
        "colab": {
          "base_uri": "https://localhost:8080/"
        },
        "id": "CHQ6h850gvhK",
        "outputId": "7f9d03f6-0ff2-481c-d018-3444a8532d19"
      },
      "id": "CHQ6h850gvhK",
      "execution_count": 16,
      "outputs": [
        {
          "output_type": "execute_result",
          "data": {
            "text/plain": [
              "set"
            ]
          },
          "metadata": {},
          "execution_count": 16
        }
      ]
    },
    {
      "cell_type": "code",
      "source": [
        "even_numbers(10)"
      ],
      "metadata": {
        "colab": {
          "base_uri": "https://localhost:8080/"
        },
        "id": "1bOOVx_wgxve",
        "outputId": "1647a58b-e720-4e90-b6c4-7b72988385c5"
      },
      "id": "1bOOVx_wgxve",
      "execution_count": 17,
      "outputs": [
        {
          "output_type": "execute_result",
          "data": {
            "text/plain": [
              "{0, 2, 4, 6, 8, 10}"
            ]
          },
          "metadata": {},
          "execution_count": 17
        }
      ]
    },
    {
      "cell_type": "markdown",
      "source": [
        "8. Create a set of odd numbers from 1 to 10."
      ],
      "metadata": {
        "id": "UU9kBtHghAJb"
      },
      "id": "UU9kBtHghAJb"
    },
    {
      "cell_type": "code",
      "source": [
        "def odd_numbers(n):\n",
        "\n",
        "  odd_set = set({})\n",
        "\n",
        "  for i in range(n+1):\n",
        "\n",
        "    if i % 2 != 0:\n",
        "\n",
        "      odd_set.add(i)\n",
        "\n",
        "  return odd_set"
      ],
      "metadata": {
        "id": "3s99YrdVg-s9"
      },
      "id": "3s99YrdVg-s9",
      "execution_count": 19,
      "outputs": []
    },
    {
      "cell_type": "code",
      "source": [
        "odd_numbers(10)"
      ],
      "metadata": {
        "colab": {
          "base_uri": "https://localhost:8080/"
        },
        "id": "IFJnwnE0hG_0",
        "outputId": "4564f9e9-39df-4168-afc0-78c11a0f628f"
      },
      "id": "IFJnwnE0hG_0",
      "execution_count": 20,
      "outputs": [
        {
          "output_type": "execute_result",
          "data": {
            "text/plain": [
              "{1, 3, 5, 7, 9}"
            ]
          },
          "metadata": {},
          "execution_count": 20
        }
      ]
    },
    {
      "cell_type": "markdown",
      "source": [
        "9. Find the union of two sets."
      ],
      "metadata": {
        "id": "CpsaiSJlhNwT"
      },
      "id": "CpsaiSJlhNwT"
    },
    {
      "cell_type": "code",
      "source": [
        "set90  = {1,2,3,4}\n",
        "\n",
        "set91 = {5,6,7,8}"
      ],
      "metadata": {
        "id": "9gGwoMOQhLX6"
      },
      "id": "9gGwoMOQhLX6",
      "execution_count": 21,
      "outputs": []
    },
    {
      "cell_type": "code",
      "source": [
        "set90.union(set91)"
      ],
      "metadata": {
        "colab": {
          "base_uri": "https://localhost:8080/"
        },
        "id": "aC1mZHmShXmS",
        "outputId": "a95ceced-e82f-4ba3-db89-254297776b9a"
      },
      "id": "aC1mZHmShXmS",
      "execution_count": 22,
      "outputs": [
        {
          "output_type": "execute_result",
          "data": {
            "text/plain": [
              "{1, 2, 3, 4, 5, 6, 7, 8}"
            ]
          },
          "metadata": {},
          "execution_count": 22
        }
      ]
    },
    {
      "cell_type": "markdown",
      "source": [
        "10. Find the intersection of two sets."
      ],
      "metadata": {
        "id": "xHFvIPaphdTd"
      },
      "id": "xHFvIPaphdTd"
    },
    {
      "cell_type": "code",
      "source": [
        "set10 = {1, 2, 3, 4, 5}\n",
        "\n",
        "set11 = {2, 3, 4}\n",
        "\n",
        "set10.intersection(set11)"
      ],
      "metadata": {
        "colab": {
          "base_uri": "https://localhost:8080/"
        },
        "id": "xh1Q5biehcE8",
        "outputId": "5b340b4e-1b7d-4255-cbf3-5174fdf00174"
      },
      "id": "xh1Q5biehcE8",
      "execution_count": 23,
      "outputs": [
        {
          "output_type": "execute_result",
          "data": {
            "text/plain": [
              "{2, 3, 4}"
            ]
          },
          "metadata": {},
          "execution_count": 23
        }
      ]
    },
    {
      "cell_type": "markdown",
      "source": [
        "11. Find the difference between two sets."
      ],
      "metadata": {
        "id": "ETJXcoRohrzd"
      },
      "id": "ETJXcoRohrzd"
    },
    {
      "cell_type": "code",
      "source": [
        "set10.difference(set11)"
      ],
      "metadata": {
        "colab": {
          "base_uri": "https://localhost:8080/"
        },
        "id": "gIVYNaXThqpy",
        "outputId": "96406f31-f49b-4586-b5fe-507783eed7f4"
      },
      "id": "gIVYNaXThqpy",
      "execution_count": 24,
      "outputs": [
        {
          "output_type": "execute_result",
          "data": {
            "text/plain": [
              "{1, 5}"
            ]
          },
          "metadata": {},
          "execution_count": 24
        }
      ]
    },
    {
      "cell_type": "markdown",
      "source": [
        "12. Check if a set is a subset of another set."
      ],
      "metadata": {
        "id": "j1QoVG9Khz9W"
      },
      "id": "j1QoVG9Khz9W"
    },
    {
      "cell_type": "code",
      "source": [
        "set11.issubset(set10)"
      ],
      "metadata": {
        "colab": {
          "base_uri": "https://localhost:8080/"
        },
        "id": "zujl-kLxhyGZ",
        "outputId": "b23f38a3-8b3d-42b7-e61f-ed8ad0b4f7bd"
      },
      "id": "zujl-kLxhyGZ",
      "execution_count": 25,
      "outputs": [
        {
          "output_type": "execute_result",
          "data": {
            "text/plain": [
              "True"
            ]
          },
          "metadata": {},
          "execution_count": 25
        }
      ]
    },
    {
      "cell_type": "markdown",
      "source": [
        "13. Check if a set is a superset of another set."
      ],
      "metadata": {
        "id": "HwZPTx-Bh5zK"
      },
      "id": "HwZPTx-Bh5zK"
    },
    {
      "cell_type": "code",
      "source": [
        "set10.issuperset(set11)"
      ],
      "metadata": {
        "colab": {
          "base_uri": "https://localhost:8080/"
        },
        "id": "3Q3STfQAh5Ik",
        "outputId": "2f49743c-fcfb-4545-a67d-5a046597e333"
      },
      "id": "3Q3STfQAh5Ik",
      "execution_count": 26,
      "outputs": [
        {
          "output_type": "execute_result",
          "data": {
            "text/plain": [
              "True"
            ]
          },
          "metadata": {},
          "execution_count": 26
        }
      ]
    },
    {
      "cell_type": "markdown",
      "source": [
        "14. Create a set from a list."
      ],
      "metadata": {
        "id": "OsGGt0ZJiEM6"
      },
      "id": "OsGGt0ZJiEM6"
    },
    {
      "cell_type": "code",
      "source": [
        "list_set = [1,2,3,4,5,6,7,8,9]"
      ],
      "metadata": {
        "id": "oAeuXpUriDb5"
      },
      "id": "oAeuXpUriDb5",
      "execution_count": 27,
      "outputs": []
    },
    {
      "cell_type": "code",
      "source": [
        "set_list = set(list_set)"
      ],
      "metadata": {
        "id": "R_7rtdEniKR8"
      },
      "id": "R_7rtdEniKR8",
      "execution_count": 28,
      "outputs": []
    },
    {
      "cell_type": "code",
      "source": [
        "set_list"
      ],
      "metadata": {
        "colab": {
          "base_uri": "https://localhost:8080/"
        },
        "id": "FyVqBxUZidZe",
        "outputId": "4b7f7d4a-77ed-4abd-e292-32b641338ee6"
      },
      "id": "FyVqBxUZidZe",
      "execution_count": 30,
      "outputs": [
        {
          "output_type": "execute_result",
          "data": {
            "text/plain": [
              "{1, 2, 3, 4, 5, 6, 7, 8, 9}"
            ]
          },
          "metadata": {},
          "execution_count": 30
        }
      ]
    },
    {
      "cell_type": "markdown",
      "source": [
        "15. Convert a set to a list."
      ],
      "metadata": {
        "id": "d1f6HDdaiiOx"
      },
      "id": "d1f6HDdaiiOx"
    },
    {
      "cell_type": "code",
      "source": [
        "list_15 = list(set_list)"
      ],
      "metadata": {
        "id": "6PJIdU87ifLJ"
      },
      "id": "6PJIdU87ifLJ",
      "execution_count": 31,
      "outputs": []
    },
    {
      "cell_type": "code",
      "source": [
        "list_15"
      ],
      "metadata": {
        "colab": {
          "base_uri": "https://localhost:8080/"
        },
        "id": "bq6OrcJdipzK",
        "outputId": "5b34413b-f29a-4ca4-dc22-1edf67d1d452"
      },
      "id": "bq6OrcJdipzK",
      "execution_count": 32,
      "outputs": [
        {
          "output_type": "execute_result",
          "data": {
            "text/plain": [
              "[1, 2, 3, 4, 5, 6, 7, 8, 9]"
            ]
          },
          "metadata": {},
          "execution_count": 32
        }
      ]
    },
    {
      "cell_type": "markdown",
      "source": [
        "16. Remove a random element from a set."
      ],
      "metadata": {
        "id": "9Xcr5PyUirve"
      },
      "id": "9Xcr5PyUirve"
    },
    {
      "cell_type": "code",
      "source": [
        "import random\n",
        "\n",
        "set_list.remove(random.choice(list(set_list)))\n",
        "\n",
        "set_list\n",
        "\n"
      ],
      "metadata": {
        "colab": {
          "base_uri": "https://localhost:8080/"
        },
        "id": "IWLg_l5firAs",
        "outputId": "8f22b0d4-f98c-4d56-f15d-0753a53fabfc"
      },
      "id": "IWLg_l5firAs",
      "execution_count": 34,
      "outputs": [
        {
          "output_type": "execute_result",
          "data": {
            "text/plain": [
              "{1, 2, 3, 4, 6, 7, 8, 9}"
            ]
          },
          "metadata": {},
          "execution_count": 34
        }
      ]
    },
    {
      "cell_type": "markdown",
      "source": [
        "17. Pop an element from a set."
      ],
      "metadata": {
        "id": "_Filcl_ikBtX"
      },
      "id": "_Filcl_ikBtX"
    },
    {
      "cell_type": "code",
      "source": [
        "set_list"
      ],
      "metadata": {
        "colab": {
          "base_uri": "https://localhost:8080/"
        },
        "id": "hZJW6O32j788",
        "outputId": "eef42f3c-92db-4c14-8030-9c4bc4e67c35"
      },
      "id": "hZJW6O32j788",
      "execution_count": 35,
      "outputs": [
        {
          "output_type": "execute_result",
          "data": {
            "text/plain": [
              "{1, 2, 3, 4, 6, 7, 8, 9}"
            ]
          },
          "metadata": {},
          "execution_count": 35
        }
      ]
    },
    {
      "cell_type": "code",
      "source": [
        "set_list.pop()"
      ],
      "metadata": {
        "colab": {
          "base_uri": "https://localhost:8080/"
        },
        "id": "6RqOc16hkF5F",
        "outputId": "50e3203d-1ab7-4901-a0a6-aa867ccd1d27"
      },
      "id": "6RqOc16hkF5F",
      "execution_count": 37,
      "outputs": [
        {
          "output_type": "execute_result",
          "data": {
            "text/plain": [
              "1"
            ]
          },
          "metadata": {},
          "execution_count": 37
        }
      ]
    },
    {
      "cell_type": "markdown",
      "source": [
        "18. Check if two sets have no elements in common."
      ],
      "metadata": {
        "id": "GeJJlxY-kZvV"
      },
      "id": "GeJJlxY-kZvV"
    },
    {
      "cell_type": "code",
      "source": [
        "set18 = {1,2,3,4,5,6}\n",
        "\n",
        "set18a = {7,8,9,7,8,9}\n",
        "\n",
        "common_elements = set18.intersection(set18a)\n",
        "\n",
        "if common_elements:\n",
        "\n",
        "  print('There are common elements in the provided sets')\n",
        "\n",
        "else:\n",
        "\n",
        "  print('There are no common elements in the list')"
      ],
      "metadata": {
        "colab": {
          "base_uri": "https://localhost:8080/"
        },
        "id": "sTNJ5i_ckJIw",
        "outputId": "ac0234cc-38a0-4fdc-f574-a265179673a9"
      },
      "id": "sTNJ5i_ckJIw",
      "execution_count": 39,
      "outputs": [
        {
          "output_type": "stream",
          "name": "stdout",
          "text": [
            "There are common elements in the provided sets\n"
          ]
        }
      ]
    },
    {
      "cell_type": "markdown",
      "source": [
        "19. Find the symmetric difference between two sets."
      ],
      "metadata": {
        "id": "FWYCAMrClO1M"
      },
      "id": "FWYCAMrClO1M"
    },
    {
      "cell_type": "code",
      "source": [
        "set19 = {1, 2, 3, 4}\n",
        "set19a = {3, 4, 5, 6}"
      ],
      "metadata": {
        "id": "zBKwSTDxlFKK"
      },
      "id": "zBKwSTDxlFKK",
      "execution_count": 41,
      "outputs": []
    },
    {
      "cell_type": "code",
      "source": [
        "set19.symmetric_difference(set19a)"
      ],
      "metadata": {
        "colab": {
          "base_uri": "https://localhost:8080/"
        },
        "id": "jGG7o3TNm066",
        "outputId": "54001464-1d9c-4d9e-d1e7-bf4488c6d78c"
      },
      "id": "jGG7o3TNm066",
      "execution_count": 42,
      "outputs": [
        {
          "output_type": "execute_result",
          "data": {
            "text/plain": [
              "{1, 2, 5, 6}"
            ]
          },
          "metadata": {},
          "execution_count": 42
        }
      ]
    },
    {
      "cell_type": "markdown",
      "source": [
        "20. Update a set with elements from another set."
      ],
      "metadata": {
        "id": "9KdlxNyhnhvP"
      },
      "id": "9KdlxNyhnhvP"
    },
    {
      "cell_type": "code",
      "source": [
        "set19"
      ],
      "metadata": {
        "colab": {
          "base_uri": "https://localhost:8080/"
        },
        "id": "p4SqHWPjm97v",
        "outputId": "585f7169-da74-447c-cee9-b3302ce71ad6"
      },
      "id": "p4SqHWPjm97v",
      "execution_count": 45,
      "outputs": [
        {
          "output_type": "execute_result",
          "data": {
            "text/plain": [
              "{1, 2, 3, 4}"
            ]
          },
          "metadata": {},
          "execution_count": 45
        }
      ]
    },
    {
      "cell_type": "code",
      "source": [
        "set19a"
      ],
      "metadata": {
        "colab": {
          "base_uri": "https://localhost:8080/"
        },
        "id": "-V269LZKohU_",
        "outputId": "d4f7ceac-a996-4843-cc4f-d049e42506e0"
      },
      "id": "-V269LZKohU_",
      "execution_count": 46,
      "outputs": [
        {
          "output_type": "execute_result",
          "data": {
            "text/plain": [
              "{3, 4, 5, 6}"
            ]
          },
          "metadata": {},
          "execution_count": 46
        }
      ]
    },
    {
      "cell_type": "code",
      "source": [
        "set19.update(set19a)"
      ],
      "metadata": {
        "id": "RRu6m1Hwomai"
      },
      "id": "RRu6m1Hwomai",
      "execution_count": 47,
      "outputs": []
    },
    {
      "cell_type": "code",
      "source": [
        "set19"
      ],
      "metadata": {
        "colab": {
          "base_uri": "https://localhost:8080/"
        },
        "id": "FVD1UJzmoq9K",
        "outputId": "7f969e9d-c88c-4272-b3bd-f47a0a2d9672"
      },
      "id": "FVD1UJzmoq9K",
      "execution_count": 48,
      "outputs": [
        {
          "output_type": "execute_result",
          "data": {
            "text/plain": [
              "{1, 2, 3, 4, 5, 6}"
            ]
          },
          "metadata": {},
          "execution_count": 48
        }
      ]
    },
    {
      "cell_type": "markdown",
      "source": [
        "21. Create a set of the first 5 prime numbers."
      ],
      "metadata": {
        "id": "PwobFmccouzc"
      },
      "id": "PwobFmccouzc"
    },
    {
      "cell_type": "code",
      "source": [
        "def prime_set(n):\n",
        "\n",
        "  prime_no_set = set({})\n",
        "\n",
        "  for i in range(n+1):\n",
        "\n",
        "    if i == 1 or i == 3:\n",
        "\n",
        "      prime_no_set.add(i)\n",
        "\n",
        "    elif i % 2 != 0 and i % 3 != 0:\n",
        "\n",
        "      prime_no_set.add(i)\n",
        "\n",
        "\n",
        "  return prime_no_set"
      ],
      "metadata": {
        "id": "pJWefEIFos7f"
      },
      "id": "pJWefEIFos7f",
      "execution_count": 3,
      "outputs": []
    },
    {
      "cell_type": "code",
      "source": [
        "prime_set(15)"
      ],
      "metadata": {
        "colab": {
          "base_uri": "https://localhost:8080/"
        },
        "id": "kPIzfE0Hrq2-",
        "outputId": "dbdec72c-0b51-4f96-82d0-28afe664d5e2"
      },
      "id": "kPIzfE0Hrq2-",
      "execution_count": 4,
      "outputs": [
        {
          "output_type": "execute_result",
          "data": {
            "text/plain": [
              "{1, 3, 5, 7, 11, 13}"
            ]
          },
          "metadata": {},
          "execution_count": 4
        }
      ]
    },
    {
      "cell_type": "markdown",
      "source": [
        "22. Check if two sets are identical."
      ],
      "metadata": {
        "id": "IbnGOlheuLYR"
      },
      "id": "IbnGOlheuLYR"
    },
    {
      "cell_type": "code",
      "source": [
        "def check_identical(set1, set2):\n",
        "\n",
        "  if set1 == set2:\n",
        "\n",
        "    print(\"The given sets are identical\")\n",
        "\n",
        "  else:\n",
        "\n",
        "    print(\"The given sets are not identical\")\n",
        "\n"
      ],
      "metadata": {
        "id": "kI16SqKHrtyF"
      },
      "id": "kI16SqKHrtyF",
      "execution_count": 5,
      "outputs": []
    },
    {
      "cell_type": "code",
      "source": [
        "set22 = {1,2,3,4,5,6}\n",
        "set22a = {1,2,3,4,5,6}\n",
        "set22b = {7,8,9,7,8,9}"
      ],
      "metadata": {
        "id": "FnlQV0LSuqAQ"
      },
      "id": "FnlQV0LSuqAQ",
      "execution_count": 9,
      "outputs": []
    },
    {
      "cell_type": "code",
      "source": [
        "check_identical(set22, set22a)"
      ],
      "metadata": {
        "colab": {
          "base_uri": "https://localhost:8080/"
        },
        "id": "fON1OcISuxnD",
        "outputId": "2bd2d448-158d-4151-9758-95d419911431"
      },
      "id": "fON1OcISuxnD",
      "execution_count": 10,
      "outputs": [
        {
          "output_type": "stream",
          "name": "stdout",
          "text": [
            "The given sets are identical\n"
          ]
        }
      ]
    },
    {
      "cell_type": "code",
      "source": [
        "check_identical(set22, set22b)"
      ],
      "metadata": {
        "colab": {
          "base_uri": "https://localhost:8080/"
        },
        "id": "8VsZff2Ju0-r",
        "outputId": "9c49c62e-5275-4ca8-a52a-4f549f75eff6"
      },
      "id": "8VsZff2Ju0-r",
      "execution_count": 11,
      "outputs": [
        {
          "output_type": "stream",
          "name": "stdout",
          "text": [
            "The given sets are not identical\n"
          ]
        }
      ]
    },
    {
      "cell_type": "markdown",
      "source": [
        "23. Create a frozen set."
      ],
      "metadata": {
        "id": "BmdZ70ZyvBpT"
      },
      "id": "BmdZ70ZyvBpT"
    },
    {
      "cell_type": "code",
      "source": [
        "froze_set = frozenset([1,33,45,68,78])"
      ],
      "metadata": {
        "id": "vtXnl_Mhu-I3"
      },
      "id": "vtXnl_Mhu-I3",
      "execution_count": 12,
      "outputs": []
    },
    {
      "cell_type": "code",
      "source": [
        "froze_set"
      ],
      "metadata": {
        "colab": {
          "base_uri": "https://localhost:8080/"
        },
        "id": "u-9uwaFtvZ9j",
        "outputId": "cd8f79b4-9874-44d8-b367-eab823f027c7"
      },
      "id": "u-9uwaFtvZ9j",
      "execution_count": 13,
      "outputs": [
        {
          "output_type": "execute_result",
          "data": {
            "text/plain": [
              "frozenset({1, 33, 45, 68, 78})"
            ]
          },
          "metadata": {},
          "execution_count": 13
        }
      ]
    },
    {
      "cell_type": "markdown",
      "source": [
        "24. Check if a set is disjoint with another set."
      ],
      "metadata": {
        "id": "nXhCj65NvcaB"
      },
      "id": "nXhCj65NvcaB"
    },
    {
      "cell_type": "code",
      "source": [
        "set22"
      ],
      "metadata": {
        "colab": {
          "base_uri": "https://localhost:8080/"
        },
        "id": "plevcr8mvbS2",
        "outputId": "624e845f-b097-40cd-d660-f0267b08cb35"
      },
      "id": "plevcr8mvbS2",
      "execution_count": 21,
      "outputs": [
        {
          "output_type": "execute_result",
          "data": {
            "text/plain": [
              "{1, 2, 3, 4, 5, 6}"
            ]
          },
          "metadata": {},
          "execution_count": 21
        }
      ]
    },
    {
      "cell_type": "code",
      "source": [
        "set22a"
      ],
      "metadata": {
        "colab": {
          "base_uri": "https://localhost:8080/"
        },
        "id": "10Gfgjg9zBP-",
        "outputId": "909c416b-1c57-44ba-cc10-3a9281135b4d"
      },
      "id": "10Gfgjg9zBP-",
      "execution_count": 22,
      "outputs": [
        {
          "output_type": "execute_result",
          "data": {
            "text/plain": [
              "{1, 2, 3, 4, 5, 6}"
            ]
          },
          "metadata": {},
          "execution_count": 22
        }
      ]
    },
    {
      "cell_type": "code",
      "source": [
        "set22.isdisjoint(set22a)"
      ],
      "metadata": {
        "colab": {
          "base_uri": "https://localhost:8080/"
        },
        "id": "YZ4bNj8tzTJB",
        "outputId": "0cd38181-fa88-4937-a1ce-6f0fda4b5384"
      },
      "id": "YZ4bNj8tzTJB",
      "execution_count": 23,
      "outputs": [
        {
          "output_type": "execute_result",
          "data": {
            "text/plain": [
              "False"
            ]
          },
          "metadata": {},
          "execution_count": 23
        }
      ]
    },
    {
      "cell_type": "markdown",
      "source": [
        "25. Create a set of squares of numbers from 1 to 5."
      ],
      "metadata": {
        "id": "rCoaOULW0Ajt"
      },
      "id": "rCoaOULW0Ajt"
    },
    {
      "cell_type": "code",
      "source": [
        "def set_squares(n):\n",
        "\n",
        "  set_of_sqaures = set([])\n",
        "\n",
        "  for i in range(1, n+1):\n",
        "\n",
        "    set_of_sqaures.add(i*i)\n",
        "\n",
        "  return set_of_sqaures\n",
        "\n"
      ],
      "metadata": {
        "id": "Pbi0j3jFz_L2"
      },
      "id": "Pbi0j3jFz_L2",
      "execution_count": 24,
      "outputs": []
    },
    {
      "cell_type": "code",
      "source": [
        "set_squares(5)"
      ],
      "metadata": {
        "colab": {
          "base_uri": "https://localhost:8080/"
        },
        "id": "vZjBGlUg2jqz",
        "outputId": "67903edd-7fc3-497b-bd61-cab64b89a9ff"
      },
      "id": "vZjBGlUg2jqz",
      "execution_count": 25,
      "outputs": [
        {
          "output_type": "execute_result",
          "data": {
            "text/plain": [
              "{1, 4, 9, 16, 25}"
            ]
          },
          "metadata": {},
          "execution_count": 25
        }
      ]
    },
    {
      "cell_type": "markdown",
      "source": [
        "26. Filter out all even numbers from a set."
      ],
      "metadata": {
        "id": "X7tyiQXv3IC-"
      },
      "id": "X7tyiQXv3IC-"
    },
    {
      "cell_type": "code",
      "source": [
        "def filter_even(input_set):\n",
        "\n",
        "  odd_set = set([])\n",
        "\n",
        "  for i in input_set:\n",
        "\n",
        "    if i % 2 != 0:\n",
        "\n",
        "      odd_set.add(i)\n",
        "\n",
        "  return odd_set"
      ],
      "metadata": {
        "id": "2wd8V-Mh2mJA"
      },
      "id": "2wd8V-Mh2mJA",
      "execution_count": 28,
      "outputs": []
    },
    {
      "cell_type": "code",
      "source": [
        "set26 = {1,2,3,4,6,7,8,9,10}\n",
        "\n",
        "filter_even(set26)"
      ],
      "metadata": {
        "colab": {
          "base_uri": "https://localhost:8080/"
        },
        "id": "23yrZ1Jt4kQz",
        "outputId": "7cdcb09b-34e3-41ff-f6e7-46adbe624edd"
      },
      "id": "23yrZ1Jt4kQz",
      "execution_count": 29,
      "outputs": [
        {
          "output_type": "execute_result",
          "data": {
            "text/plain": [
              "{1, 3, 7, 9}"
            ]
          },
          "metadata": {},
          "execution_count": 29
        }
      ]
    },
    {
      "cell_type": "markdown",
      "source": [
        "27. Multiply all elements in a set by 2."
      ],
      "metadata": {
        "id": "KLYYpp1O5LRM"
      },
      "id": "KLYYpp1O5LRM"
    },
    {
      "cell_type": "code",
      "source": [
        "set27 = {1,2,3,4,5,6,7,8,9}"
      ],
      "metadata": {
        "id": "HGsUhw6P4_su"
      },
      "id": "HGsUhw6P4_su",
      "execution_count": 1,
      "outputs": []
    },
    {
      "cell_type": "code",
      "source": [
        "def set_multiple(input_set, multiplier):\n",
        "\n",
        "  multiplied_set = set([])\n",
        "\n",
        "  for i in list(input_set):\n",
        "\n",
        "    multiplied_set.add(i*2)\n",
        "\n",
        "  return multiplied_set"
      ],
      "metadata": {
        "id": "AFG781nyt9_b"
      },
      "id": "AFG781nyt9_b",
      "execution_count": 7,
      "outputs": []
    },
    {
      "cell_type": "code",
      "source": [
        "set_multiple(set27, 2)"
      ],
      "metadata": {
        "colab": {
          "base_uri": "https://localhost:8080/"
        },
        "id": "3OH_eNMxt_m0",
        "outputId": "0e52ad93-a037-4a6d-9c69-3526e6246f5c"
      },
      "id": "3OH_eNMxt_m0",
      "execution_count": 8,
      "outputs": [
        {
          "output_type": "execute_result",
          "data": {
            "text/plain": [
              "{2, 4, 6, 8, 10, 12, 14, 16, 18}"
            ]
          },
          "metadata": {},
          "execution_count": 8
        }
      ]
    },
    {
      "cell_type": "markdown",
      "source": [
        "28. Create a set of random numbers."
      ],
      "metadata": {
        "id": "WkJnWVNZu6zi"
      },
      "id": "WkJnWVNZu6zi"
    },
    {
      "cell_type": "code",
      "source": [
        "def create_rand_set(no_of_elements):\n",
        "\n",
        "  import random\n",
        "\n",
        "  random_int = set([])\n",
        "\n",
        "  for i in range(no_of_elements+1):\n",
        "\n",
        "    random_int.add(random.randint(1,100))\n",
        "\n",
        "  return random_int"
      ],
      "metadata": {
        "id": "9UrtmVUnutbq"
      },
      "id": "9UrtmVUnutbq",
      "execution_count": 13,
      "outputs": []
    },
    {
      "cell_type": "code",
      "source": [
        "create_rand_set(10)"
      ],
      "metadata": {
        "colab": {
          "base_uri": "https://localhost:8080/"
        },
        "id": "q-IwZysRvs0N",
        "outputId": "7113f3fb-0ae4-48f4-95d2-af5bacbcbb15"
      },
      "id": "q-IwZysRvs0N",
      "execution_count": 14,
      "outputs": [
        {
          "output_type": "execute_result",
          "data": {
            "text/plain": [
              "{42, 47, 50, 57, 59, 61, 66, 73, 76, 94}"
            ]
          },
          "metadata": {},
          "execution_count": 14
        }
      ]
    },
    {
      "cell_type": "markdown",
      "source": [
        "29. Check if a set is empty."
      ],
      "metadata": {
        "id": "rVwTyE0zv4Tx"
      },
      "id": "rVwTyE0zv4Tx"
    },
    {
      "cell_type": "code",
      "source": [
        "set_29 = {}"
      ],
      "metadata": {
        "id": "3-OadnAEvu8n"
      },
      "id": "3-OadnAEvu8n",
      "execution_count": 17,
      "outputs": []
    },
    {
      "cell_type": "code",
      "source": [
        "if set_29:\n",
        "\n",
        "  print('The set is not empty')\n",
        "\n",
        "else:\n",
        "\n",
        "  print('The set is empty')"
      ],
      "metadata": {
        "colab": {
          "base_uri": "https://localhost:8080/"
        },
        "id": "r9ETot6Rv_sv",
        "outputId": "46a31a7d-efb6-4ab3-b1c3-a5c6d0f5d3bf"
      },
      "id": "r9ETot6Rv_sv",
      "execution_count": 18,
      "outputs": [
        {
          "output_type": "stream",
          "name": "stdout",
          "text": [
            "The set is empty\n"
          ]
        }
      ]
    },
    {
      "cell_type": "markdown",
      "source": [
        "30. Create a nested set (hint: use frozenset)."
      ],
      "metadata": {
        "id": "OAeW1AsKwUHf"
      },
      "id": "OAeW1AsKwUHf"
    },
    {
      "cell_type": "code",
      "source": [
        "s30 = {frozenset([1,2]),frozenset([3,4]),frozenset([5,6]),frozenset([6,7])}"
      ],
      "metadata": {
        "id": "mKcPoK0KwPQn"
      },
      "id": "mKcPoK0KwPQn",
      "execution_count": 21,
      "outputs": []
    },
    {
      "cell_type": "code",
      "source": [
        "s30"
      ],
      "metadata": {
        "colab": {
          "base_uri": "https://localhost:8080/"
        },
        "id": "It37k8E-wiSw",
        "outputId": "1373723c-0e12-4391-96c3-bb4f0fb0e54c"
      },
      "id": "It37k8E-wiSw",
      "execution_count": 22,
      "outputs": [
        {
          "output_type": "execute_result",
          "data": {
            "text/plain": [
              "{frozenset({3, 4}), frozenset({6, 7}), frozenset({5, 6}), frozenset({1, 2})}"
            ]
          },
          "metadata": {},
          "execution_count": 22
        }
      ]
    },
    {
      "cell_type": "markdown",
      "source": [
        "31. Remove an element from a set using the discard method."
      ],
      "metadata": {
        "id": "iFOwXvfsxRbI"
      },
      "id": "iFOwXvfsxRbI"
    },
    {
      "cell_type": "code",
      "source": [
        "s30"
      ],
      "metadata": {
        "colab": {
          "base_uri": "https://localhost:8080/"
        },
        "id": "4ngZYeO7xHhS",
        "outputId": "0c3b005f-9ad4-4465-9414-fe16518f2ac5"
      },
      "id": "4ngZYeO7xHhS",
      "execution_count": 23,
      "outputs": [
        {
          "output_type": "execute_result",
          "data": {
            "text/plain": [
              "{frozenset({3, 4}), frozenset({6, 7}), frozenset({5, 6}), frozenset({1, 2})}"
            ]
          },
          "metadata": {},
          "execution_count": 23
        }
      ]
    },
    {
      "cell_type": "code",
      "source": [
        "s30.discard(frozenset({3, 4}))"
      ],
      "metadata": {
        "id": "EfFuLPCbxUxw"
      },
      "id": "EfFuLPCbxUxw",
      "execution_count": 24,
      "outputs": []
    },
    {
      "cell_type": "code",
      "source": [
        "s30"
      ],
      "metadata": {
        "colab": {
          "base_uri": "https://localhost:8080/"
        },
        "id": "1A0GLPCLxaQq",
        "outputId": "bbd0608f-d9d3-4323-8b7b-a06705d2ff59"
      },
      "id": "1A0GLPCLxaQq",
      "execution_count": 25,
      "outputs": [
        {
          "output_type": "execute_result",
          "data": {
            "text/plain": [
              "{frozenset({6, 7}), frozenset({5, 6}), frozenset({1, 2})}"
            ]
          },
          "metadata": {},
          "execution_count": 25
        }
      ]
    },
    {
      "cell_type": "markdown",
      "source": [
        "32. Compare two sets."
      ],
      "metadata": {
        "id": "OFSaLIG7xkqg"
      },
      "id": "OFSaLIG7xkqg"
    },
    {
      "cell_type": "code",
      "source": [
        "set32a = {9,8,7,6,5,4}\n",
        "\n",
        "set32b = {6,5,4,3,2,1}"
      ],
      "metadata": {
        "id": "NCn9CDlOxbUI"
      },
      "id": "NCn9CDlOxbUI",
      "execution_count": 26,
      "outputs": []
    },
    {
      "cell_type": "code",
      "source": [
        "intersection_set32 = set32a.intersection(set32b)\n",
        "\n",
        "union_set32 = set32a.union(set32b)\n",
        "\n",
        "disjoint_set32 = set32a.isdisjoint(set32b)\n",
        "\n",
        "subset_set32 = set32a.issubset(set32b)\n",
        "\n",
        "superset_set32 = set32a.issuperset(set32b)\n",
        "\n",
        "difference_set32a_set32b = set32a.difference(set32b)\n",
        "\n",
        "difference_set32b_set32a = set32b.difference(set32a)\n",
        "\n",
        "print(f\"The intersection of set32: {intersection_set32}\")\n",
        "\n",
        "print(f\"The union of set32: {union_set32}\")\n",
        "\n",
        "print(f\"Is set32a and set32b disjoint set: {disjoint_set32}\")\n",
        "\n",
        "print(f\"Is set32a is superset of 32b: {superset_set32}\")\n",
        "\n",
        "print(f\"Elements which exist in set32a but not in set32b: {difference_set32a_set32b}\")\n",
        "\n",
        "print(f\"Elements which exsit in set32b but not in set32a: {difference_set32b_set32a}\")"
      ],
      "metadata": {
        "colab": {
          "base_uri": "https://localhost:8080/"
        },
        "id": "_biF3SXlxt8A",
        "outputId": "ed1fa9e2-9583-4ab3-a000-56254bcc12d6"
      },
      "id": "_biF3SXlxt8A",
      "execution_count": 28,
      "outputs": [
        {
          "output_type": "stream",
          "name": "stdout",
          "text": [
            "The intersection of set32: {4, 5, 6, 7, 8, 9}\n",
            "The union of set32: {4, 5, 6, 7, 8, 9}\n",
            "Is set32a and set32b disjoint set: False\n",
            "Is set32a is superset of 32b: True\n",
            "Elements which exist in set32a but not in set32b: set()\n",
            "Elements which exsit in set32b but not in set32a: set()\n"
          ]
        }
      ]
    },
    {
      "cell_type": "markdown",
      "source": [
        "33. Create a set from a string."
      ],
      "metadata": {
        "id": "lYvn94Wb26F-"
      },
      "id": "lYvn94Wb26F-"
    },
    {
      "cell_type": "code",
      "source": [
        "def string_to_set(input_string):\n",
        "\n",
        "  remove_spaces = input_string.replace(\" \", \"\")\n",
        "\n",
        "  #input_string_split = remove_spaces.split()\n",
        "\n",
        "  string_set = set([])\n",
        "\n",
        "  for i in range(len(remove_spaces)):\n",
        "\n",
        "    string_set.add(remove_spaces[i])\n",
        "\n",
        "  return string_set\n",
        "\n"
      ],
      "metadata": {
        "id": "gfyLfv4Sx73k"
      },
      "id": "gfyLfv4Sx73k",
      "execution_count": 40,
      "outputs": []
    },
    {
      "cell_type": "code",
      "source": [
        "s33 = \"I live in Vancouver Canada\""
      ],
      "metadata": {
        "id": "HCEP8cvp4y-v"
      },
      "id": "HCEP8cvp4y-v",
      "execution_count": 41,
      "outputs": []
    },
    {
      "cell_type": "code",
      "source": [
        "string_to_set(s33)"
      ],
      "metadata": {
        "colab": {
          "base_uri": "https://localhost:8080/"
        },
        "id": "rb4GzBGy50yL",
        "outputId": "e86edb5d-8c0e-44f3-c3cc-d2a573f0430c"
      },
      "id": "rb4GzBGy50yL",
      "execution_count": 42,
      "outputs": [
        {
          "output_type": "execute_result",
          "data": {
            "text/plain": [
              "{'C', 'I', 'V', 'a', 'c', 'd', 'e', 'i', 'l', 'n', 'o', 'r', 'u', 'v'}"
            ]
          },
          "metadata": {},
          "execution_count": 42
        }
      ]
    },
    {
      "cell_type": "markdown",
      "source": [
        "34. Convert a set of strings to a set of integers."
      ],
      "metadata": {
        "id": "DCvP9pAk61EI"
      },
      "id": "DCvP9pAk61EI"
    },
    {
      "cell_type": "code",
      "source": [
        "s34 = set([\"1\", \"2\", \"3\", \"4\", \"5\", \"6\", \"7\", \"8\"])"
      ],
      "metadata": {
        "id": "vc7nkgVD55JU"
      },
      "id": "vc7nkgVD55JU",
      "execution_count": 43,
      "outputs": []
    },
    {
      "cell_type": "code",
      "source": [
        "s35 = set([])\n",
        "\n",
        "for i in s34:\n",
        "\n",
        "  s35.add(int(i))\n",
        "\n",
        "s35"
      ],
      "metadata": {
        "colab": {
          "base_uri": "https://localhost:8080/"
        },
        "id": "Mzdss4D27EVs",
        "outputId": "bf6a2b17-cc87-4581-f990-0ecbc0afb5d6"
      },
      "id": "Mzdss4D27EVs",
      "execution_count": 47,
      "outputs": [
        {
          "output_type": "execute_result",
          "data": {
            "text/plain": [
              "{1, 2, 3, 4, 5, 6, 7, 8}"
            ]
          },
          "metadata": {},
          "execution_count": 47
        }
      ]
    },
    {
      "cell_type": "markdown",
      "source": [
        "35. Convert a set of integers to a set of strings."
      ],
      "metadata": {
        "id": "LNzMFBmS7ouR"
      },
      "id": "LNzMFBmS7ouR"
    },
    {
      "cell_type": "code",
      "source": [
        "s36 = set([])\n",
        "\n",
        "for i in s35:\n",
        "\n",
        "  s36.add(str(i))\n",
        "\n",
        "s36"
      ],
      "metadata": {
        "colab": {
          "base_uri": "https://localhost:8080/"
        },
        "id": "05FKsQsI7nx6",
        "outputId": "df903e5b-f935-48bb-ed44-9b3856a11778"
      },
      "id": "05FKsQsI7nx6",
      "execution_count": 48,
      "outputs": [
        {
          "output_type": "execute_result",
          "data": {
            "text/plain": [
              "{'1', '2', '3', '4', '5', '6', '7', '8'}"
            ]
          },
          "metadata": {},
          "execution_count": 48
        }
      ]
    },
    {
      "cell_type": "markdown",
      "source": [
        "36. Create a set from a tuple."
      ],
      "metadata": {
        "id": "JhVl8jno77yT"
      },
      "id": "JhVl8jno77yT"
    },
    {
      "cell_type": "code",
      "source": [
        "s36a = (1,2,3,4,5,6)"
      ],
      "metadata": {
        "id": "SN9JqVvJ740x"
      },
      "id": "SN9JqVvJ740x",
      "execution_count": 50,
      "outputs": []
    },
    {
      "cell_type": "code",
      "source": [
        "\n",
        "s36b = set(s36a)\n",
        "\n",
        "s36b"
      ],
      "metadata": {
        "colab": {
          "base_uri": "https://localhost:8080/"
        },
        "id": "S1lgOM3S8LZW",
        "outputId": "95a3d2ab-248a-4478-f5d9-5b8d1d1d178a"
      },
      "id": "S1lgOM3S8LZW",
      "execution_count": 52,
      "outputs": [
        {
          "output_type": "execute_result",
          "data": {
            "text/plain": [
              "{1, 2, 3, 4, 5, 6}"
            ]
          },
          "metadata": {},
          "execution_count": 52
        }
      ]
    },
    {
      "cell_type": "markdown",
      "source": [
        "37. Convert a set to a tuple."
      ],
      "metadata": {
        "id": "MGNlJwLy8T-t"
      },
      "id": "MGNlJwLy8T-t"
    },
    {
      "cell_type": "code",
      "source": [
        "s36b"
      ],
      "metadata": {
        "colab": {
          "base_uri": "https://localhost:8080/"
        },
        "id": "HVDTouHm8QEN",
        "outputId": "929d5ba6-8c00-43df-bbc3-d9ea0233c41f"
      },
      "id": "HVDTouHm8QEN",
      "execution_count": 53,
      "outputs": [
        {
          "output_type": "execute_result",
          "data": {
            "text/plain": [
              "{1, 2, 3, 4, 5, 6}"
            ]
          },
          "metadata": {},
          "execution_count": 53
        }
      ]
    },
    {
      "cell_type": "code",
      "source": [
        "s37 = tuple(s36b)\n",
        "\n",
        "s37"
      ],
      "metadata": {
        "colab": {
          "base_uri": "https://localhost:8080/"
        },
        "id": "s_U8dDYb8XJC",
        "outputId": "f9d42442-914e-4666-e1ee-82fa4952ab0a"
      },
      "id": "s_U8dDYb8XJC",
      "execution_count": 54,
      "outputs": [
        {
          "output_type": "execute_result",
          "data": {
            "text/plain": [
              "(1, 2, 3, 4, 5, 6)"
            ]
          },
          "metadata": {},
          "execution_count": 54
        }
      ]
    },
    {
      "cell_type": "markdown",
      "source": [
        "38. Find the maximum value in a set."
      ],
      "metadata": {
        "id": "gEOc9nSk8c2t"
      },
      "id": "gEOc9nSk8c2t"
    },
    {
      "cell_type": "code",
      "source": [
        "max(s37)"
      ],
      "metadata": {
        "colab": {
          "base_uri": "https://localhost:8080/"
        },
        "id": "GjJXJpj-8b5R",
        "outputId": "4b31b345-3979-4221-f934-ad11813733dd"
      },
      "id": "GjJXJpj-8b5R",
      "execution_count": 55,
      "outputs": [
        {
          "output_type": "execute_result",
          "data": {
            "text/plain": [
              "6"
            ]
          },
          "metadata": {},
          "execution_count": 55
        }
      ]
    },
    {
      "cell_type": "markdown",
      "source": [
        "39. Find the minimum value in a set."
      ],
      "metadata": {
        "id": "M1AV8EHX8ksy"
      },
      "id": "M1AV8EHX8ksy"
    },
    {
      "cell_type": "code",
      "source": [
        "min(s37)"
      ],
      "metadata": {
        "colab": {
          "base_uri": "https://localhost:8080/"
        },
        "id": "2Z0X-Tm28j9E",
        "outputId": "4253b381-8e50-44b1-f3ef-ef5b0a3c5008"
      },
      "id": "2Z0X-Tm28j9E",
      "execution_count": 56,
      "outputs": [
        {
          "output_type": "execute_result",
          "data": {
            "text/plain": [
              "1"
            ]
          },
          "metadata": {},
          "execution_count": 56
        }
      ]
    },
    {
      "cell_type": "markdown",
      "source": [
        "40. Create a set from user input."
      ],
      "metadata": {
        "id": "XZxzu2eg8o-e"
      },
      "id": "XZxzu2eg8o-e"
    },
    {
      "cell_type": "code",
      "source": [
        "print(\"Enter the elements of the set (Type done when you are done)\")\n",
        "\n",
        "user_set = set([])\n",
        "\n",
        "while True:\n",
        "\n",
        "  user_input = input('> ')\n",
        "\n",
        "  if user_input.lower() == 'done':\n",
        "\n",
        "    break\n",
        "\n",
        "  user_set.add(user_input)\n",
        "\n",
        "user_set\n",
        "\n",
        ""
      ],
      "metadata": {
        "colab": {
          "base_uri": "https://localhost:8080/"
        },
        "id": "BWW6Mnyl8oKA",
        "outputId": "88eafd1c-a881-4640-b1cd-868a807cb087"
      },
      "id": "BWW6Mnyl8oKA",
      "execution_count": 58,
      "outputs": [
        {
          "name": "stdout",
          "output_type": "stream",
          "text": [
            "Enter teh elements of the set (Type done when you are done)\n",
            "> 1\n",
            "> 2\n",
            "> 3\n",
            "> 4\n",
            "> 5\n",
            "> done\n"
          ]
        },
        {
          "output_type": "execute_result",
          "data": {
            "text/plain": [
              "{'1', '2', '3', '4', '5'}"
            ]
          },
          "metadata": {},
          "execution_count": 58
        }
      ]
    },
    {
      "cell_type": "markdown",
      "source": [
        "41. Check if the intersection of two sets is empty."
      ],
      "metadata": {
        "id": "XqsRms_ADqkV"
      },
      "id": "XqsRms_ADqkV"
    },
    {
      "cell_type": "code",
      "source": [
        "set41a = {1,2,3,4,5,6}\n",
        "set41b = {4,5,6,7,8,9}\n",
        "set41c = {7,8,8,7,8,9}"
      ],
      "metadata": {
        "id": "_R0Xq006DRZD"
      },
      "id": "_R0Xq006DRZD",
      "execution_count": 62,
      "outputs": []
    },
    {
      "cell_type": "code",
      "source": [
        "if set41a.intersection(set41b):\n",
        "\n",
        "  print('The provided sets have common elements')\n",
        "\n",
        "else:\n",
        "\n",
        "  print('The provided elemets do not have common elements')"
      ],
      "metadata": {
        "colab": {
          "base_uri": "https://localhost:8080/"
        },
        "id": "mY5aPShQECp7",
        "outputId": "d74197a5-ec86-4ba7-8bd0-1c4eca06e17b"
      },
      "id": "mY5aPShQECp7",
      "execution_count": 63,
      "outputs": [
        {
          "output_type": "stream",
          "name": "stdout",
          "text": [
            "The provided sets have common elements\n"
          ]
        }
      ]
    },
    {
      "cell_type": "code",
      "source": [
        "if set41a.intersection(set41c):\n",
        "\n",
        "  print('The provided sets have common elements')\n",
        "\n",
        "else:\n",
        "\n",
        "  print('The provided elemets do not have common elements')"
      ],
      "metadata": {
        "colab": {
          "base_uri": "https://localhost:8080/"
        },
        "id": "pp-1n-ntEg9C",
        "outputId": "409a2a56-8b24-4b14-b130-98db975829a7"
      },
      "id": "pp-1n-ntEg9C",
      "execution_count": 64,
      "outputs": [
        {
          "output_type": "stream",
          "name": "stdout",
          "text": [
            "The provided elemets do not have common elements\n"
          ]
        }
      ]
    },
    {
      "cell_type": "markdown",
      "source": [
        "42. Create a set of the first 5 Fibonacci numbers."
      ],
      "metadata": {
        "id": "31mRvQ8CEsrR"
      },
      "id": "31mRvQ8CEsrR"
    },
    {
      "cell_type": "code",
      "source": [
        "fib_ele = [0, 1]\n",
        "\n",
        "for i in range(10):\n",
        "\n",
        "  if len(fib_ele) != 6:\n",
        "\n",
        "    fib_ele.append(fib_ele[i] + fib_ele[i+1])\n",
        "\n",
        "set(fib_ele)"
      ],
      "metadata": {
        "colab": {
          "base_uri": "https://localhost:8080/"
        },
        "id": "esigqggkEp5o",
        "outputId": "7acbbd38-4ce0-4ab3-c002-8ea985f53eb6"
      },
      "id": "esigqggkEp5o",
      "execution_count": 68,
      "outputs": [
        {
          "output_type": "execute_result",
          "data": {
            "text/plain": [
              "{0, 1, 2, 3, 5}"
            ]
          },
          "metadata": {},
          "execution_count": 68
        }
      ]
    },
    {
      "cell_type": "markdown",
      "source": [
        "43. Remove duplicates from a list using sets."
      ],
      "metadata": {
        "id": "cKKvOjFOHCyP"
      },
      "id": "cKKvOjFOHCyP"
    },
    {
      "cell_type": "code",
      "source": [
        "l43 = [1,2,3,4,5,5,6,6,7,7,8,8]\n",
        "\n",
        "s43 = set(l43)"
      ],
      "metadata": {
        "id": "wCTaOqSrGTpH"
      },
      "id": "wCTaOqSrGTpH",
      "execution_count": 69,
      "outputs": []
    },
    {
      "cell_type": "code",
      "source": [
        "s43"
      ],
      "metadata": {
        "colab": {
          "base_uri": "https://localhost:8080/"
        },
        "id": "-hFSdh3kHPgE",
        "outputId": "babdd22a-d164-421b-e1b3-d371461d73cc"
      },
      "id": "-hFSdh3kHPgE",
      "execution_count": 70,
      "outputs": [
        {
          "output_type": "execute_result",
          "data": {
            "text/plain": [
              "{1, 2, 3, 4, 5, 6, 7, 8}"
            ]
          },
          "metadata": {},
          "execution_count": 70
        }
      ]
    },
    {
      "cell_type": "markdown",
      "source": [
        "44. Check if two sets have the same elements, regardless of their count."
      ],
      "metadata": {
        "id": "rYclJz3_HRNc"
      },
      "id": "rYclJz3_HRNc"
    },
    {
      "cell_type": "code",
      "source": [
        "def check_identical_sets(set1, set2):\n",
        "\n",
        "  sorted_list1 = sorted(list(set1))\n",
        "  sorted_list2 = sorted(list(set2))\n",
        "\n",
        "  if sorted_list1 == sorted_list2:\n",
        "\n",
        "    print(\"Both the sets have same elements\")\n",
        "\n",
        "  else:\n",
        "\n",
        "    print(\"Both the sets do not have same elements\")"
      ],
      "metadata": {
        "id": "-W5gdlbcHQPq"
      },
      "id": "-W5gdlbcHQPq",
      "execution_count": 71,
      "outputs": []
    },
    {
      "cell_type": "code",
      "source": [
        "s44a = {1,2,3,4,5,6,7,8,9}\n",
        "s44b = {1,2,3,4,5,6,7,8,9}\n",
        "s44c = {1,2,3}"
      ],
      "metadata": {
        "id": "cgzAdYHWIiKP"
      },
      "id": "cgzAdYHWIiKP",
      "execution_count": 72,
      "outputs": []
    },
    {
      "cell_type": "code",
      "source": [
        "check_identical_sets(s44a, s44b)"
      ],
      "metadata": {
        "colab": {
          "base_uri": "https://localhost:8080/"
        },
        "id": "r_q3XBr4Ivxg",
        "outputId": "8f3a0b2b-26e6-4f74-fe30-cb2418a2bf2e"
      },
      "id": "r_q3XBr4Ivxg",
      "execution_count": 73,
      "outputs": [
        {
          "output_type": "stream",
          "name": "stdout",
          "text": [
            "Both the sets have same elements\n"
          ]
        }
      ]
    },
    {
      "cell_type": "code",
      "source": [
        "check_identical_sets(s44a, s44c)"
      ],
      "metadata": {
        "colab": {
          "base_uri": "https://localhost:8080/"
        },
        "id": "JqtNz-RXI0Ht",
        "outputId": "bdb4fdd5-17b3-4278-e44f-4995c942f8c1"
      },
      "id": "JqtNz-RXI0Ht",
      "execution_count": 74,
      "outputs": [
        {
          "output_type": "stream",
          "name": "stdout",
          "text": [
            "Both the sets do not have same elements\n"
          ]
        }
      ]
    },
    {
      "cell_type": "markdown",
      "source": [
        "45. Create a set of the first `n` powers of 2."
      ],
      "metadata": {
        "id": "RLlsDIdoI4VP"
      },
      "id": "RLlsDIdoI4VP"
    },
    {
      "cell_type": "code",
      "source": [
        "def set_n_powers_2(n):\n",
        "\n",
        "  n_powers_set = set([])\n",
        "\n",
        "  for i in range(1,n+1):\n",
        "\n",
        "    n_powers_set.add(2**i)\n",
        "\n",
        "  return n_powers_set"
      ],
      "metadata": {
        "id": "X-NkvBMdI3k-"
      },
      "id": "X-NkvBMdI3k-",
      "execution_count": 77,
      "outputs": []
    },
    {
      "cell_type": "code",
      "source": [
        "set_n_powers_2(10)"
      ],
      "metadata": {
        "colab": {
          "base_uri": "https://localhost:8080/"
        },
        "id": "TljwTcChK_07",
        "outputId": "a657c7f2-6605-4046-f9cb-c0615c9ddd74"
      },
      "id": "TljwTcChK_07",
      "execution_count": 78,
      "outputs": [
        {
          "output_type": "execute_result",
          "data": {
            "text/plain": [
              "{2, 4, 8, 16, 32, 64, 128, 256, 512, 1024}"
            ]
          },
          "metadata": {},
          "execution_count": 78
        }
      ]
    },
    {
      "cell_type": "markdown",
      "source": [
        "46. Find the common elements between a set and a list."
      ],
      "metadata": {
        "id": "nFuUn7A2LO1Z"
      },
      "id": "nFuUn7A2LO1Z"
    },
    {
      "cell_type": "code",
      "source": [
        "s46a = {0,1,2,3,4,5}\n",
        "\n",
        "l46a = [0,1,2,5,4,6,7]\n",
        "\n",
        "s46a.intersection(set(l46a))"
      ],
      "metadata": {
        "colab": {
          "base_uri": "https://localhost:8080/"
        },
        "id": "vdDnXEIHLCge",
        "outputId": "a38af267-27f6-4521-dfde-c9206de840ea"
      },
      "id": "vdDnXEIHLCge",
      "execution_count": 79,
      "outputs": [
        {
          "output_type": "execute_result",
          "data": {
            "text/plain": [
              "{0, 1, 2, 4, 5}"
            ]
          },
          "metadata": {},
          "execution_count": 79
        }
      ]
    },
    {
      "cell_type": "markdown",
      "source": [
        "47. Create a set of the first `n` triangular numbers."
      ],
      "metadata": {
        "id": "kvLfkOrzMTQ6"
      },
      "id": "kvLfkOrzMTQ6"
    },
    {
      "cell_type": "code",
      "source": [
        "def triangluar_no_set(n):\n",
        "\n",
        "  tri_no_set = set({})\n",
        "\n",
        "  for i in range(1,n+1):\n",
        "\n",
        "    tri_no_set.add(int((i*(i+1))/2))\n",
        "\n",
        "  return tri_no_set"
      ],
      "metadata": {
        "id": "8HCUgBqaMSBB"
      },
      "id": "8HCUgBqaMSBB",
      "execution_count": 83,
      "outputs": []
    },
    {
      "cell_type": "code",
      "source": [
        "triangluar_no_set(10)"
      ],
      "metadata": {
        "colab": {
          "base_uri": "https://localhost:8080/"
        },
        "id": "bDZZHzHqNArG",
        "outputId": "fd75c8a6-b580-471f-9e7f-b2d687467d5c"
      },
      "id": "bDZZHzHqNArG",
      "execution_count": 84,
      "outputs": [
        {
          "output_type": "execute_result",
          "data": {
            "text/plain": [
              "{1, 3, 6, 10, 15, 21, 28, 36, 45, 55}"
            ]
          },
          "metadata": {},
          "execution_count": 84
        }
      ]
    },
    {
      "cell_type": "markdown",
      "source": [
        "48. Check if a set contains another set as a subset."
      ],
      "metadata": {
        "id": "JvI9noxXNME3"
      },
      "id": "JvI9noxXNME3"
    },
    {
      "cell_type": "code",
      "source": [
        "s48a = {1,2,3,4,5,6}\n",
        "\n",
        "s48b = {1,2,3}\n",
        "\n",
        "s48b.issubset(s48a)"
      ],
      "metadata": {
        "colab": {
          "base_uri": "https://localhost:8080/"
        },
        "id": "WPgmWEZmNFTH",
        "outputId": "12d7d1cf-6a92-4df6-9530-b76fdaae20c7"
      },
      "id": "WPgmWEZmNFTH",
      "execution_count": 85,
      "outputs": [
        {
          "output_type": "execute_result",
          "data": {
            "text/plain": [
              "True"
            ]
          },
          "metadata": {},
          "execution_count": 85
        }
      ]
    },
    {
      "cell_type": "markdown",
      "source": [
        "49. Create a set of alternating 1s and 0s of length `n`."
      ],
      "metadata": {
        "id": "5qfnaCLWOOz7"
      },
      "id": "5qfnaCLWOOz7"
    },
    {
      "cell_type": "code",
      "source": [
        "def zero_one_set(n):\n",
        "\n",
        "  z_o_set = set([])\n",
        "\n",
        "  for i in range(1, n + 1):\n",
        "\n",
        "    if i%2 != 0:\n",
        "\n",
        "      z_o_set.add(1)\n",
        "\n",
        "    else:\n",
        "\n",
        "      z_o_set.add(0)\n",
        "\n",
        "  return z_o_set\n",
        "\n",
        "\n",
        "\n",
        "\n",
        "\n"
      ],
      "metadata": {
        "id": "izgLch5VOLng"
      },
      "id": "izgLch5VOLng",
      "execution_count": 86,
      "outputs": []
    },
    {
      "cell_type": "code",
      "source": [
        "zero_one_set(10)"
      ],
      "metadata": {
        "colab": {
          "base_uri": "https://localhost:8080/"
        },
        "id": "zkwd_imxPKCW",
        "outputId": "e97ae761-d826-4e76-dda3-854d36aedf68"
      },
      "id": "zkwd_imxPKCW",
      "execution_count": 87,
      "outputs": [
        {
          "output_type": "execute_result",
          "data": {
            "text/plain": [
              "{0, 1}"
            ]
          },
          "metadata": {},
          "execution_count": 87
        }
      ]
    },
    {
      "cell_type": "markdown",
      "source": [
        "50. Merge multiple sets into one."
      ],
      "metadata": {
        "id": "e92STURjPg5P"
      },
      "id": "e92STURjPg5P"
    },
    {
      "cell_type": "code",
      "source": [
        "s50a = {1,2}\n",
        "s50b = {3,4}\n",
        "s50c = {5,6}\n",
        "s50d = {7,8}\n",
        "\n",
        "s50e = set(list(s50a) + list(s50b) + list(s50c) + list(s50d))"
      ],
      "metadata": {
        "id": "QymmCpXjPMAS"
      },
      "id": "QymmCpXjPMAS",
      "execution_count": 88,
      "outputs": []
    },
    {
      "cell_type": "code",
      "source": [
        "s50e"
      ],
      "metadata": {
        "colab": {
          "base_uri": "https://localhost:8080/"
        },
        "id": "VKKgY4sZQBFj",
        "outputId": "8da2dcdf-8cc9-46db-f362-06c049fbc58a"
      },
      "id": "VKKgY4sZQBFj",
      "execution_count": 89,
      "outputs": [
        {
          "output_type": "execute_result",
          "data": {
            "text/plain": [
              "{1, 2, 3, 4, 5, 6, 7, 8}"
            ]
          },
          "metadata": {},
          "execution_count": 89
        }
      ]
    },
    {
      "cell_type": "code",
      "source": [],
      "metadata": {
        "id": "LSs57bTZQCL3"
      },
      "id": "LSs57bTZQCL3",
      "execution_count": null,
      "outputs": []
    }
  ],
  "metadata": {
    "kernelspec": {
      "display_name": "Python 3",
      "name": "python3"
    },
    "language_info": {
      "codemirror_mode": {
        "name": "ipython",
        "version": 3
      },
      "file_extension": ".py",
      "mimetype": "text/x-python",
      "name": "python",
      "nbconvert_exporter": "python",
      "pygments_lexer": "ipython3",
      "version": "3.10.8"
    },
    "colab": {
      "provenance": []
    }
  },
  "nbformat": 4,
  "nbformat_minor": 5
}